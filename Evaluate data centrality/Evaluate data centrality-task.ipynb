{
 "cells": [
  {
   "cell_type": "markdown",
   "id": "97d0bd1b",
   "metadata": {},
   "source": [
    "# Оцените центральное положение данных\n",
    "## Условие задачи\n",
    "\n",
    "Вам предоставлен набор данных о зарплатах сотрудников в компании. Ваша цель — визуально оценить центральное положение данных, определить среднюю и медианную зарплату в компании.\n",
    "\n",
    "**Алгоритм решения:**\n",
    "\n",
    "- Загрузите данные из CSV-файла в DataFrame.\n",
    "- Рассчитайте среднее значение и медиану зарплаты.\n",
    "- Визуализируйте распределение зарплат с помощью гистограммы.\n",
    "- Выведите результаты оценки центрального положения данных.\n",
    "\n",
    "## Данные для работы\n",
    "\n",
    "[salary_data.csv](https://github.com/Eduson-DataScience/EDA-Practice/blob/main/Define_data_taxonomy_in_different_variations%20copy%202/data.csv)\n",
    "\n",
    "## Подсказки\n",
    "\n",
    "- Проверьте, что у вас есть файл с данными (salary_data.csv) и он находится в том же каталоге, что и ваш скрипт.\n",
    "- Используйте функции **`mean()`** и **`median()`** для расчета среднего значения и медианы.\n",
    "- Используйте функцию **`hist()`** из библиотеки matplotlib или **`histplot`** из seaborn для создания гистограммы распределения.\n",
    "- Обратите внимание на подписи осей и заголовки графиков для наглядности."
   ]
  }
 ],
 "metadata": {
  "kernelspec": {
   "display_name": "Python 3 (ipykernel)",
   "language": "python",
   "name": "python3"
  },
  "language_info": {
   "codemirror_mode": {
    "name": "ipython",
    "version": 3
   },
   "file_extension": ".py",
   "mimetype": "text/x-python",
   "name": "python",
   "nbconvert_exporter": "python",
   "pygments_lexer": "ipython3",
   "version": "3.9.13"
  }
 },
 "nbformat": 4,
 "nbformat_minor": 5
}
