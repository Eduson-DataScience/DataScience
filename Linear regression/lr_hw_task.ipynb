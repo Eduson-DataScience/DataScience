{
 "cells": [
  {
   "cell_type": "markdown",
   "id": "52ed8663-bd51-4756-b0f0-b71a8a0d556d",
   "metadata": {
    "id": "52ed8663-bd51-4756-b0f0-b71a8a0d556d"
   },
   "source": [
    "# Линейная регрессия: домашнее задание"
   ]
  },
  {
   "cell_type": "code",
   "execution_count": 1,
   "id": "7bc8e586-adbf-4532-81f3-01ae863162fb",
   "metadata": {
    "executionInfo": {
     "elapsed": 2182,
     "status": "ok",
     "timestamp": 1697884818221,
     "user": {
      "displayName": "Демид Гаибов",
      "userId": "08799110683697978717"
     },
     "user_tz": -180
    },
    "id": "7bc8e586-adbf-4532-81f3-01ae863162fb"
   },
   "outputs": [],
   "source": [
    "import numpy as np\n",
    "import pandas as pd\n",
    "from sklearn import datasets\n",
    "from sklearn import linear_model\n",
    "from sklearn import metrics\n",
    "from sklearn.model_selection import train_test_split"
   ]
  },
  {
   "cell_type": "markdown",
   "id": "278620af-4f88-4865-bcfd-ef37fba07147",
   "metadata": {
    "id": "278620af-4f88-4865-bcfd-ef37fba07147"
   },
   "source": [
    "Загрузите датасет с ценами домов в Калифорнии. Для этого используйте функцию в блоке кода ниже. Разбейте датасет на обучающую и тестовую выборки. Для тестовой выборки выведите значения независимых переменных и зависимой переменной. "
   ]
  },
  {
   "cell_type": "code",
   "execution_count": 2,
   "id": "813a729d-daad-42f1-8f3e-7cab0e01747d",
   "metadata": {
    "executionInfo": {
     "elapsed": 2814,
     "status": "ok",
     "timestamp": 1697884827208,
     "user": {
      "displayName": "Демид Гаибов",
      "userId": "08799110683697978717"
     },
     "user_tz": -180
    },
    "id": "813a729d-daad-42f1-8f3e-7cab0e01747d"
   },
   "outputs": [],
   "source": [
    "X, Y = datasets.fetch_california_housing(as_frame=True, return_X_y=True)"
   ]
  },
  {
   "cell_type": "markdown",
   "id": "02b4c925-d9a1-43ee-9aa9-108ce62896d8",
   "metadata": {
    "id": "02b4c925-d9a1-43ee-9aa9-108ce62896d8"
   },
   "source": [
    "Нормируйте значения независимых переменных из обучающей и тестовой выборок. "
   ]
  },
  {
   "cell_type": "markdown",
   "id": "083f4b1b-f038-4325-ae96-12719aeb3109",
   "metadata": {
    "id": "083f4b1b-f038-4325-ae96-12719aeb3109"
   },
   "source": [
    "В качестве основной метрики качества моделей используйте MSE."
   ]
  },
  {
   "cell_type": "markdown",
   "id": "ae627b93-2a12-4a5a-8662-656a0fb11c5a",
   "metadata": {
    "id": "ae627b93-2a12-4a5a-8662-656a0fb11c5a"
   },
   "source": [
    "## Задание 1"
   ]
  },
  {
   "cell_type": "markdown",
   "id": "c12d9484-295c-40c5-b3c4-e46adbad6d3c",
   "metadata": {
    "id": "02b4c925-d9a1-43ee-9aa9-108ce62896d8"
   },
   "source": [
    "Обучите модели:\n",
    "- без регуляризации;\n",
    "- с Ridge-регуляризацией;\n",
    "- с Lasso-регуляризацией;\n",
    "- с ElasticNet-регуляризацией.\n",
    "\n",
    "В каждой из моделей с регуляризацией попробуйте 10 значений гиперпараметра `alpha`, указанных в ячейке ниже.\n",
    "Выберите среди всех моделей лучшую на тестовой выборке.\n",
    "\n",
    "Для каждого типа модели выпишите лучшее значение метрики на обучающей и тестовой выборках."
   ]
  },
  {
   "cell_type": "code",
   "execution_count": 7,
   "id": "eb5fa96f-c551-431a-bb88-e178e021d150",
   "metadata": {
    "executionInfo": {
     "elapsed": 307,
     "status": "ok",
     "timestamp": 1697884951154,
     "user": {
      "displayName": "Демид Гаибов",
      "userId": "08799110683697978717"
     },
     "user_tz": -180
    },
    "id": "eb5fa96f-c551-431a-bb88-e178e021d150"
   },
   "outputs": [],
   "source": [
    "alphas = [0.001, 0.005, 0.01, 0.05, 0.1, 0.5, 1, 5, 10, 50]"
   ]
  },
  {
   "cell_type": "markdown",
   "id": "dc84a0df-fab0-4fbc-860c-4c48eeb4e06c",
   "metadata": {
    "id": "dc84a0df-fab0-4fbc-860c-4c48eeb4e06c"
   },
   "source": [
    "## Задание 2"
   ]
  },
  {
   "cell_type": "markdown",
   "id": "d6aa6417-3db9-4735-aadc-70d9a4e8f2a5",
   "metadata": {
    "id": "d6aa6417-3db9-4735-aadc-70d9a4e8f2a5"
   },
   "source": [
    "Добавьте в датасет больше признаков. Так как с помощью линейной регрессии мы можем найти только линейные зависимости, добавьте в обучающий и тестовый датасеты:\n",
    "1) квадраты всех признаков;\n",
    "2) кубы всех признаков;\n",
    "3) логарифмы всех признаков (придумайте как поступить с отрицательными значениями);\n",
    "4) все возможные попарные произведения исходных признаков.\n",
    "\n",
    "Нормируйте данные снова. Повторите на новом датасете задание 1. Почему получаются такие результаты?"
   ]
  },
  {
   "cell_type": "markdown",
   "id": "21703e88-3fe4-4fcf-a7cb-a853da004026",
   "metadata": {
    "id": "dc84a0df-fab0-4fbc-860c-4c48eeb4e06c"
   },
   "source": [
    "## Задание 3"
   ]
  },
  {
   "cell_type": "markdown",
   "id": "a762405a-7ef3-47f0-85c9-9cb3065b0b9c",
   "metadata": {
    "id": "a762405a-7ef3-47f0-85c9-9cb3065b0b9c"
   },
   "source": [
    "Проанализируйте веса лучшей модели. По ним оцените:\n",
    "1) топ-5 наиболее важных признаков;\n",
    "2) топ-5 признаков, увеличение которых **увеличивает** цену;\n",
    "3) топ-5 признаков, увеличение которых **уменьшает** цену."
   ]
  },
  {
   "cell_type": "markdown",
   "id": "eb5bbc58-2aa2-48a8-ad85-95e62ccf8704",
   "metadata": {
    "id": "eb5bbc58-2aa2-48a8-ad85-95e62ccf8704"
   },
   "source": [
    "## Задание 4*"
   ]
  },
  {
   "cell_type": "markdown",
   "id": "c2337ee8-20da-4894-8738-6fdfa3660ee0",
   "metadata": {
    "id": "c2337ee8-20da-4894-8738-6fdfa3660ee0"
   },
   "source": [
    "Попробуйте добиться качества 0.4 по MSE на тестовой выборке, используя следующие техники:\n",
    "1. Очистка обучающего датасета от выбросов.\n",
    "2. Преобразования признаков.\n",
    "3. Преобразования таргета. При этом метрику MSE необходимо считать на оригинальном таргете."
   ]
  }
 ],
 "metadata": {
  "colab": {
   "provenance": []
  },
  "kernelspec": {
   "display_name": "Python 3 (ipykernel)",
   "language": "python",
   "name": "python3"
  },
  "language_info": {
   "codemirror_mode": {
    "name": "ipython",
    "version": 3
   },
   "file_extension": ".py",
   "mimetype": "text/x-python",
   "name": "python",
   "nbconvert_exporter": "python",
   "pygments_lexer": "ipython3",
   "version": "3.12.0"
  }
 },
 "nbformat": 4,
 "nbformat_minor": 5
}
