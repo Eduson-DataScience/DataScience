{
 "cells": [
  {
   "cell_type": "code",
   "execution_count": 2,
   "id": "2e8cef16",
   "metadata": {
    "id": "2e8cef16"
   },
   "outputs": [],
   "source": [
    "import pandas as pd\n",
    "import seaborn as sns\n",
    "from scipy import stats\n",
    "\n",
    "# anova model from formula\n",
    "from statsmodels.formula.api import ols\n",
    "# anova table from ols model\n",
    "from statsmodels.stats.anova import anova_lm\n",
    "# for qqplot\n",
    "import statsmodels.api as sm\n",
    "# tukey test\n",
    "from statsmodels.stats.multicomp import pairwise_tukeyhsd"
   ]
  },
  {
   "cell_type": "code",
   "execution_count": 3,
   "id": "d9760150",
   "metadata": {
    "id": "d9760150",
    "outputId": "2ad47fb7-cb72-45a9-98b6-ce7394efc671"
   },
   "outputs": [
    {
     "data": {
      "text/html": [
       "<div>\n",
       "<style scoped>\n",
       "    .dataframe tbody tr th:only-of-type {\n",
       "        vertical-align: middle;\n",
       "    }\n",
       "\n",
       "    .dataframe tbody tr th {\n",
       "        vertical-align: top;\n",
       "    }\n",
       "\n",
       "    .dataframe thead th {\n",
       "        text-align: right;\n",
       "    }\n",
       "</style>\n",
       "<table border=\"1\" class=\"dataframe\">\n",
       "  <thead>\n",
       "    <tr style=\"text-align: right;\">\n",
       "      <th></th>\n",
       "      <th>gender</th>\n",
       "      <th>diet</th>\n",
       "      <th>preweight</th>\n",
       "      <th>weight6weeks</th>\n",
       "    </tr>\n",
       "  </thead>\n",
       "  <tbody>\n",
       "    <tr>\n",
       "      <th>0</th>\n",
       "      <td>M</td>\n",
       "      <td>B</td>\n",
       "      <td>60</td>\n",
       "      <td>60.0</td>\n",
       "    </tr>\n",
       "    <tr>\n",
       "      <th>1</th>\n",
       "      <td>M</td>\n",
       "      <td>B</td>\n",
       "      <td>103</td>\n",
       "      <td>103.0</td>\n",
       "    </tr>\n",
       "    <tr>\n",
       "      <th>2</th>\n",
       "      <td>F</td>\n",
       "      <td>A</td>\n",
       "      <td>58</td>\n",
       "      <td>54.2</td>\n",
       "    </tr>\n",
       "    <tr>\n",
       "      <th>3</th>\n",
       "      <td>F</td>\n",
       "      <td>A</td>\n",
       "      <td>60</td>\n",
       "      <td>54.0</td>\n",
       "    </tr>\n",
       "    <tr>\n",
       "      <th>4</th>\n",
       "      <td>F</td>\n",
       "      <td>A</td>\n",
       "      <td>64</td>\n",
       "      <td>63.3</td>\n",
       "    </tr>\n",
       "  </tbody>\n",
       "</table>\n",
       "</div>"
      ],
      "text/plain": [
       "  gender diet  preweight  weight6weeks\n",
       "0      M    B         60          60.0\n",
       "1      M    B        103         103.0\n",
       "2      F    A         58          54.2\n",
       "3      F    A         60          54.0\n",
       "4      F    A         64          63.3"
      ]
     },
     "execution_count": 3,
     "metadata": {},
     "output_type": "execute_result"
    }
   ],
   "source": [
    "data = pd.read_csv('diet.csv')\n",
    "data.head()"
   ]
  },
  {
   "cell_type": "code",
   "execution_count": 4,
   "id": "43cae5a0",
   "metadata": {
    "id": "43cae5a0",
    "outputId": "d31395e0-3d76-48c1-c315-efd7f962c371"
   },
   "outputs": [
    {
     "data": {
      "image/png": "[encoded data removed]",
      "text/plain": [
       "<Figure size 432x288 with 1 Axes>"
      ]
     },
     "metadata": {
      "needs_background": "light"
     },
     "output_type": "display_data"
    }
   ],
   "source": [
    "sns.boxplot(data=data, x='diet', y='weight6weeks', hue='gender');"
   ]
  },
  {
   "cell_type": "markdown",
   "id": "75ab42df",
   "metadata": {
    "id": "75ab42df"
   },
   "source": [
    "<b>Вопросы:</b>\n",
    "1. Влияет ли пол пациента на значение веса после эксперимента?\n",
    "2. Влияет ли тип диеты (А/В/С), которой придерживается пациент, на значение веса после эксперимента?"
   ]
  },
  {
   "cell_type": "markdown",
   "id": "418af835",
   "metadata": {
    "id": "418af835"
   },
   "source": [
    "### One-way ANOVA"
   ]
  },
  {
   "cell_type": "markdown",
   "id": "be3be078",
   "metadata": {
    "id": "be3be078"
   },
   "source": [
    "<b>Шаг 1. Постановка гипотез:</b>\n",
    "    \n",
    "$H_0$: среднее значение веса после окончания эксперимента у мужчин и женщин равны.\n",
    "\n",
    "$H_1$: среднее значение веса после окончания эксперимента у мужчин и женщин различаются.\n",
    "\n",
    "<b>Шаг 2. Выбор уровня значимости:</b>\n",
    "$$\\alpha = 0.05$$"
   ]
  },
  {
   "cell_type": "markdown",
   "id": "92255a8c",
   "metadata": {
    "id": "92255a8c"
   },
   "source": [
    "<b>Шаг 3. Проведение дисперсионного анализа:</b>"
   ]
  },
  {
   "cell_type": "code",
   "execution_count": 5,
   "id": "aab7a54d",
   "metadata": {
    "id": "aab7a54d"
   },
   "outputs": [],
   "source": [
    "sample_f = data[data.gender == 'F'].weight6weeks\n",
    "sample_m = data[data.gender == 'M'].weight6weeks"
   ]
  },
  {
   "cell_type": "code",
   "execution_count": 6,
   "id": "b6771c27",
   "metadata": {
    "id": "b6771c27",
    "outputId": "7689dd7e-bd48-450f-fda3-30d9f367358c"
   },
   "outputs": [
    {
     "data": {
      "text/plain": [
       "F_onewayResult(statistic=66.16218641135315, pvalue=6.097208570818775e-12)"
      ]
     },
     "execution_count": 6,
     "metadata": {},
     "output_type": "execute_result"
    }
   ],
   "source": [
    "stats.f_oneway(sample_f, sample_m)"
   ]
  },
  {
   "cell_type": "code",
   "execution_count": 7,
   "id": "3ad53024",
   "metadata": {
    "id": "3ad53024",
    "outputId": "dab87634-b510-43cf-cae7-fa075fe9d7ef"
   },
   "outputs": [
    {
     "data": {
      "text/html": [
       "<div>\n",
       "<style scoped>\n",
       "    .dataframe tbody tr th:only-of-type {\n",
       "        vertical-align: middle;\n",
       "    }\n",
       "\n",
       "    .dataframe tbody tr th {\n",
       "        vertical-align: top;\n",
       "    }\n",
       "\n",
       "    .dataframe thead th {\n",
       "        text-align: right;\n",
       "    }\n",
       "</style>\n",
       "<table border=\"1\" class=\"dataframe\">\n",
       "  <thead>\n",
       "    <tr style=\"text-align: right;\">\n",
       "      <th></th>\n",
       "      <th>df</th>\n",
       "      <th>sum_sq</th>\n",
       "      <th>mean_sq</th>\n",
       "      <th>F</th>\n",
       "      <th>PR(&gt;F)</th>\n",
       "    </tr>\n",
       "  </thead>\n",
       "  <tbody>\n",
       "    <tr>\n",
       "      <th>gender</th>\n",
       "      <td>1.0</td>\n",
       "      <td>2854.201553</td>\n",
       "      <td>2854.201553</td>\n",
       "      <td>66.162186</td>\n",
       "      <td>6.097209e-12</td>\n",
       "    </tr>\n",
       "    <tr>\n",
       "      <th>Residual</th>\n",
       "      <td>76.0</td>\n",
       "      <td>3278.599601</td>\n",
       "      <td>43.139468</td>\n",
       "      <td>NaN</td>\n",
       "      <td>NaN</td>\n",
       "    </tr>\n",
       "  </tbody>\n",
       "</table>\n",
       "</div>"
      ],
      "text/plain": [
       "            df       sum_sq      mean_sq          F        PR(>F)\n",
       "gender     1.0  2854.201553  2854.201553  66.162186  6.097209e-12\n",
       "Residual  76.0  3278.599601    43.139468        NaN           NaN"
      ]
     },
     "execution_count": 7,
     "metadata": {},
     "output_type": "execute_result"
    }
   ],
   "source": [
    "model = ols('weight6weeks ~ gender', data).fit()\n",
    "anova_lm(model)"
   ]
  },
  {
   "cell_type": "markdown",
   "id": "5cf19089",
   "metadata": {
    "id": "5cf19089"
   },
   "source": [
    "<b>Шаг 4. Проверка применимости метода:</b>\n",
    "- Нормальность распределения факторов или остатков.\n",
    "- Гомоскедастичность (дисперсия внутри каждой группы должна быть примерно одинаковой)."
   ]
  },
  {
   "cell_type": "code",
   "execution_count": 8,
   "id": "0806eb6c",
   "metadata": {
    "id": "0806eb6c",
    "outputId": "c35c0711-0fa2-4d1d-b57f-6fca7d7ff5fe"
   },
   "outputs": [
    {
     "data": {
      "text/plain": [
       "ShapiroResult(statistic=0.9333085417747498, pvalue=0.000513662351295352)"
      ]
     },
     "execution_count": 8,
     "metadata": {},
     "output_type": "execute_result"
    }
   ],
   "source": [
    "stats.shapiro(model.resid)"
   ]
  },
  {
   "cell_type": "code",
   "execution_count": 10,
   "id": "cfa992a1",
   "metadata": {
    "id": "cfa992a1",
    "outputId": "430bb5d3-c4ca-4c38-e2bc-aeb98557d342"
   },
   "outputs": [
    {
     "data": {
      "image/png": "[encoded data removed]",
      "text/plain": [
       "<Figure size 432x288 with 1 Axes>"
      ]
     },
     "metadata": {
      "needs_background": "light"
     },
     "output_type": "display_data"
    }
   ],
   "source": [
    "sm.qqplot(model.resid, line='s');"
   ]
  },
  {
   "cell_type": "code",
   "execution_count": 11,
   "id": "42134dde",
   "metadata": {
    "id": "42134dde",
    "outputId": "adbc6670-6012-4067-9d1b-be92b13e4aed"
   },
   "outputs": [
    {
     "data": {
      "text/plain": [
       "BartlettResult(statistic=0.6939274163080743, pvalue=0.40483172475647555)"
      ]
     },
     "execution_count": 11,
     "metadata": {},
     "output_type": "execute_result"
    }
   ],
   "source": [
    "stats.bartlett(sample_f, sample_m)"
   ]
  },
  {
   "cell_type": "markdown",
   "id": "431a2d28",
   "metadata": {
    "id": "629d1ab6"
   },
   "source": [
    "2. Влияет ли тип диеты (А/В/С), которой придерживается пациент, на значение веса после эксперимента?"
   ]
  },
  {
   "cell_type": "code",
   "execution_count": 12,
   "id": "87ef2858",
   "metadata": {
    "id": "87ef2858",
    "outputId": "adf9dcc4-1012-49a5-fdc7-7a6f102daf65"
   },
   "outputs": [
    {
     "data": {
      "text/html": [
       "<div>\n",
       "<style scoped>\n",
       "    .dataframe tbody tr th:only-of-type {\n",
       "        vertical-align: middle;\n",
       "    }\n",
       "\n",
       "    .dataframe tbody tr th {\n",
       "        vertical-align: top;\n",
       "    }\n",
       "\n",
       "    .dataframe thead th {\n",
       "        text-align: right;\n",
       "    }\n",
       "</style>\n",
       "<table border=\"1\" class=\"dataframe\">\n",
       "  <thead>\n",
       "    <tr style=\"text-align: right;\">\n",
       "      <th></th>\n",
       "      <th>df</th>\n",
       "      <th>sum_sq</th>\n",
       "      <th>mean_sq</th>\n",
       "      <th>F</th>\n",
       "      <th>PR(&gt;F)</th>\n",
       "    </tr>\n",
       "  </thead>\n",
       "  <tbody>\n",
       "    <tr>\n",
       "      <th>diet</th>\n",
       "      <td>2.0</td>\n",
       "      <td>29.841339</td>\n",
       "      <td>14.920670</td>\n",
       "      <td>0.183362</td>\n",
       "      <td>0.832839</td>\n",
       "    </tr>\n",
       "    <tr>\n",
       "      <th>Residual</th>\n",
       "      <td>75.0</td>\n",
       "      <td>6102.959815</td>\n",
       "      <td>81.372798</td>\n",
       "      <td>NaN</td>\n",
       "      <td>NaN</td>\n",
       "    </tr>\n",
       "  </tbody>\n",
       "</table>\n",
       "</div>"
      ],
      "text/plain": [
       "            df       sum_sq    mean_sq         F    PR(>F)\n",
       "diet       2.0    29.841339  14.920670  0.183362  0.832839\n",
       "Residual  75.0  6102.959815  81.372798       NaN       NaN"
      ]
     },
     "execution_count": 12,
     "metadata": {},
     "output_type": "execute_result"
    }
   ],
   "source": [
    "model = ols('weight6weeks ~ diet', data).fit()\n",
    "anova_lm(model)"
   ]
  },
  {
   "cell_type": "markdown",
   "id": "7ab5aa63",
   "metadata": {
    "id": "7ab5aa63"
   },
   "source": [
    "<b>Шаг 5 (опционально). Апостериорный анализ:</b>"
   ]
  },
  {
   "cell_type": "code",
   "execution_count": 14,
   "id": "d37f67aa",
   "metadata": {
    "id": "d37f67aa",
    "outputId": "222434d5-1042-4cc7-9f1a-2d091048630c"
   },
   "outputs": [
    {
     "name": "stdout",
     "output_type": "stream",
     "text": [
      "Multiple Comparison of Means - Tukey HSD, FWER=0.05\n",
      "===================================================\n",
      "group1 group2 meandiff p-adj   lower  upper  reject\n",
      "---------------------------------------------------\n",
      "     A      B  -1.4898 0.8266  -7.541 4.5613  False\n",
      "     A      C  -1.0935 0.9023 -7.1447 4.9576  False\n",
      "     B      C   0.3963 0.9857 -5.4742 6.2668  False\n",
      "---------------------------------------------------\n"
     ]
    }
   ],
   "source": [
    "print(pairwise_tukeyhsd(endog=data.weight6weeks, groups=data.diet, alpha=0.05))"
   ]
  },
  {
   "cell_type": "code",
   "execution_count": 15,
   "id": "ceb081bb",
   "metadata": {
    "id": "ceb081bb",
    "outputId": "bea6f94c-3ccf-4932-dc1c-a10f4aac8da3"
   },
   "outputs": [
    {
     "name": "stdout",
     "output_type": "stream",
     "text": [
      "Multiple Comparison of Means - Tukey HSD, FWER=0.05\n",
      "==================================================\n",
      "group1 group2 meandiff p-adj lower   upper  reject\n",
      "--------------------------------------------------\n",
      "     F      M  12.1625   0.0 9.1844 15.1405   True\n",
      "--------------------------------------------------\n"
     ]
    }
   ],
   "source": [
    "print(pairwise_tukeyhsd(endog=data.weight6weeks, groups=data.gender, alpha=0.05))"
   ]
  },
  {
   "cell_type": "markdown",
   "id": "3f8f0f0c",
   "metadata": {
    "id": "3f8f0f0c"
   },
   "source": [
    "### Two-way ANOVA"
   ]
  },
  {
   "cell_type": "markdown",
   "id": "7dab6d98",
   "metadata": {
    "id": "7dab6d98"
   },
   "source": [
    "<b>Вопросы:</b>\n",
    "1. Влияет ли пол пациента на значение веса после эксперимента?\n",
    "2. Влияет ли тип диеты (А/В/С), которой придерживается пациент, на значение веса после эксперимента?\n",
    "3. Есть ли эффект взаимодействия между полом пациента и типом диеты? Например, более сильное влияние определенного типа диеты только на женщин."
   ]
  },
  {
   "cell_type": "markdown",
   "id": "98efbb1c",
   "metadata": {
    "id": "98efbb1c"
   },
   "source": [
    "<b>Шаг 1. Постановка гипотез:</b>\n",
    "    \n",
    "$H_0$: среднее значение веса после окончания эксперимента у групп мужчин и женщин с различными типами диет(А/В/С) одинаково.\n",
    "\n",
    "$H_1$: среднее значение веса после окончания эксперимента у групп мужчин и женщин с различными типами диет(А/В/С) различаются.\n",
    "\n",
    "<b>Шаг 2. Выбор уровня значимости:</b>\n",
    "$$\\alpha = 0.05$$"
   ]
  },
  {
   "cell_type": "markdown",
   "id": "231d0a76",
   "metadata": {
    "id": "231d0a76"
   },
   "source": [
    "<b>Шаг 3. Проведение дисперсионного анализа:</b>"
   ]
  },
  {
   "cell_type": "code",
   "execution_count": 18,
   "id": "458d8be0",
   "metadata": {
    "id": "458d8be0",
    "outputId": "3d74b116-ecd3-417d-f878-57e2c3b5b562"
   },
   "outputs": [
    {
     "data": {
      "text/html": [
       "<div>\n",
       "<style scoped>\n",
       "    .dataframe tbody tr th:only-of-type {\n",
       "        vertical-align: middle;\n",
       "    }\n",
       "\n",
       "    .dataframe tbody tr th {\n",
       "        vertical-align: top;\n",
       "    }\n",
       "\n",
       "    .dataframe thead th {\n",
       "        text-align: right;\n",
       "    }\n",
       "</style>\n",
       "<table border=\"1\" class=\"dataframe\">\n",
       "  <thead>\n",
       "    <tr style=\"text-align: right;\">\n",
       "      <th></th>\n",
       "      <th>df</th>\n",
       "      <th>sum_sq</th>\n",
       "      <th>mean_sq</th>\n",
       "      <th>F</th>\n",
       "      <th>PR(&gt;F)</th>\n",
       "    </tr>\n",
       "  </thead>\n",
       "  <tbody>\n",
       "    <tr>\n",
       "      <th>diet</th>\n",
       "      <td>2.0</td>\n",
       "      <td>29.841339</td>\n",
       "      <td>14.920670</td>\n",
       "      <td>0.335607</td>\n",
       "      <td>7.160162e-01</td>\n",
       "    </tr>\n",
       "    <tr>\n",
       "      <th>gender</th>\n",
       "      <td>1.0</td>\n",
       "      <td>2891.375733</td>\n",
       "      <td>2891.375733</td>\n",
       "      <td>65.035052</td>\n",
       "      <td>1.162414e-11</td>\n",
       "    </tr>\n",
       "    <tr>\n",
       "      <th>diet:gender</th>\n",
       "      <td>2.0</td>\n",
       "      <td>10.555631</td>\n",
       "      <td>5.277816</td>\n",
       "      <td>0.118713</td>\n",
       "      <td>8.882364e-01</td>\n",
       "    </tr>\n",
       "    <tr>\n",
       "      <th>Residual</th>\n",
       "      <td>72.0</td>\n",
       "      <td>3201.028451</td>\n",
       "      <td>44.458728</td>\n",
       "      <td>NaN</td>\n",
       "      <td>NaN</td>\n",
       "    </tr>\n",
       "  </tbody>\n",
       "</table>\n",
       "</div>"
      ],
      "text/plain": [
       "               df       sum_sq      mean_sq          F        PR(>F)\n",
       "diet          2.0    29.841339    14.920670   0.335607  7.160162e-01\n",
       "gender        1.0  2891.375733  2891.375733  65.035052  1.162414e-11\n",
       "diet:gender   2.0    10.555631     5.277816   0.118713  8.882364e-01\n",
       "Residual     72.0  3201.028451    44.458728        NaN           NaN"
      ]
     },
     "execution_count": 18,
     "metadata": {},
     "output_type": "execute_result"
    }
   ],
   "source": [
    "model = ols('weight6weeks ~ diet + gender + diet:gender', data).fit()\n",
    "anova_lm(model)"
   ]
  },
  {
   "cell_type": "markdown",
   "id": "b5994013",
   "metadata": {
    "id": "b5994013"
   },
   "source": [
    "<b>Шаг 4. Проверка применимости метода:</b>\n",
    "- Нормальность распределения факторов или остатков.\n",
    "- Гомоскедастичность (дисперсия внутри каждой группы должна быть примерно одинаковой)."
   ]
  },
  {
   "cell_type": "code",
   "execution_count": 23,
   "id": "5364b760",
   "metadata": {
    "id": "5364b760",
    "outputId": "9c98f634-e420-472e-9b96-3017e9fa075a"
   },
   "outputs": [
    {
     "data": {
      "image/png": "[encoded data removed]",
      "text/plain": [
       "<Figure size 432x288 with 1 Axes>"
      ]
     },
     "metadata": {
      "needs_background": "light"
     },
     "output_type": "display_data"
    }
   ],
   "source": [
    "sm.qqplot(model.resid, line='s');"
   ]
  },
  {
   "cell_type": "code",
   "execution_count": 29,
   "id": "c4df406c",
   "metadata": {
    "id": "c4df406c"
   },
   "outputs": [],
   "source": [
    "sample_a_f = data[(data.diet == 'A') & (data.gender == 'F')].weight6weeks\n",
    "sample_b_f = data[(data.diet == 'B') & (data.gender == 'F')].weight6weeks\n",
    "sample_c_f = data[(data.diet == 'C') & (data.gender == 'F')].weight6weeks\n",
    "\n",
    "sample_a_m = data[(data.diet == 'A') & (data.gender == 'M')].weight6weeks\n",
    "sample_b_m = data[(data.diet == 'B') & (data.gender == 'M')].weight6weeks\n",
    "sample_c_m = data[(data.diet == 'C') & (data.gender == 'M')].weight6weeks"
   ]
  },
  {
   "cell_type": "code",
   "execution_count": 30,
   "id": "fdbe99cd",
   "metadata": {},
   "outputs": [
    {
     "data": {
      "text/plain": [
       "BartlettResult(statistic=9.54750655147314, pvalue=0.08911993500142686)"
      ]
     },
     "execution_count": 30,
     "metadata": {},
     "output_type": "execute_result"
    }
   ],
   "source": [
    "stats.bartlett(sample_a_f, sample_b_f, sample_c_f, sample_a_m, sample_b_m, sample_c_m)"
   ]
  },
  {
   "cell_type": "markdown",
   "id": "f67edc5c",
   "metadata": {
    "id": "f67edc5c"
   },
   "source": [
    "<b>Шаг 5. Апостериорный анализ:</b>"
   ]
  },
  {
   "cell_type": "markdown",
   "id": "987442a0",
   "metadata": {
    "id": "987442a0"
   },
   "source": [
    "<b>Тест (Tukey HSD test)</b>"
   ]
  },
  {
   "cell_type": "code",
   "execution_count": 31,
   "id": "46a67afd",
   "metadata": {
    "id": "46a67afd"
   },
   "outputs": [
    {
     "name": "stdout",
     "output_type": "stream",
     "text": [
      " Multiple Comparison of Means - Tukey HSD, FWER=0.05 \n",
      "=====================================================\n",
      "group1 group2 meandiff p-adj   lower    upper  reject\n",
      "-----------------------------------------------------\n",
      "   F/A    F/B     -2.7 0.8911 -10.0787  4.6787  False\n",
      "   F/A    F/C  -2.2252 0.9458  -9.4799  5.0295  False\n",
      "   F/A    M/A  11.2714 0.0015   3.1885 19.3544   True\n",
      "   F/A    M/B   9.5676  0.005   2.0483 17.0869   True\n",
      "   F/A    M/C  10.8881 0.0012   3.2081 18.5681   True\n",
      "   F/B    F/C   0.4748    1.0  -6.7799  7.7295  False\n",
      "   F/B    M/A  13.9714    0.0   5.8885 22.0544   True\n",
      "   F/B    M/B  12.2676 0.0001   4.7483 19.7869   True\n",
      "   F/B    M/C  13.5881    0.0   5.9081 21.2681   True\n",
      "   F/C    M/A  13.4967 0.0001   5.5267 21.4666   True\n",
      "   F/C    M/B  11.7928 0.0002   4.3952 19.1904   True\n",
      "   F/C    M/C  13.1133    0.0   5.5524 20.6743   True\n",
      "   M/A    M/B  -1.7038 0.9902  -9.9153  6.5076  False\n",
      "   M/A    M/C  -0.3833    1.0  -8.7423  7.9756  False\n",
      "   M/B    M/C   1.3205 0.9962  -6.4946  9.1357  False\n",
      "-----------------------------------------------------\n"
     ]
    }
   ],
   "source": [
    "data['combination'] = data.gender + '/' + data.diet\n",
    "\n",
    "print(pairwise_tukeyhsd(endog=data.weight6weeks, groups=data.combination, alpha=0.05))"
   ]
  },
  {
   "cell_type": "code",
   "execution_count": null,
   "id": "9239f33f",
   "metadata": {
    "id": "9239f33f",
    "outputId": "562ced57-36c4-4c6c-ff8f-eec0cd11ec11"
   },
   "outputs": [],
   "source": []
  },
  {
   "cell_type": "code",
   "execution_count": null,
   "id": "ff77faad",
   "metadata": {
    "id": "ff77faad"
   },
   "outputs": [],
   "source": []
  }
 ],
 "metadata": {
  "colab": {
   "provenance": []
  },
  "kernelspec": {
   "display_name": "Python 3 (ipykernel)",
   "language": "python",
   "name": "python3"
  },
  "language_info": {
   "codemirror_mode": {
    "name": "ipython",
    "version": 3
   },
   "file_extension": ".py",
   "mimetype": "text/x-python",
   "name": "python",
   "nbconvert_exporter": "python",
   "pygments_lexer": "ipython3",
   "version": "3.9.12"
  }
 },
 "nbformat": 4,
 "nbformat_minor": 5
}
