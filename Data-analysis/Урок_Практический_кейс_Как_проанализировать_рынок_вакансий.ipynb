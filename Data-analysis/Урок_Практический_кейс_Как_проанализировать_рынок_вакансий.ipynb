{
  "cells": [
    {
      "cell_type": "code",
      "execution_count": null,
      "id": "f98fced9",
      "metadata": {
        "id": "f98fced9"
      },
      "outputs": [],
      "source": [
        "import pandas as pd\n",
        "import seaborn as sns\n",
        "from scipy import stats\n",
        "\n",
        "# anova model from formula\n",
        "from statsmodels.formula.api import ols\n",
        "# anova table from ols model\n",
        "from statsmodels.stats.anova import anova_lm\n",
        "# for qqplot\n",
        "import statsmodels.api as sm\n",
        "# tukey test\n",
        "from statsmodels.stats.multicomp import pairwise_tukeyhsd\n",
        "# correlation\n",
        "from scipy.stats import pearsonr, spearmanr, kendalltau"
      ]
    },
    {
      "cell_type": "markdown",
      "id": "19882c39",
      "metadata": {
        "id": "19882c39"
      },
      "source": [
        "<b>Контекст:</b>\n",
        "Вы работаете в рекрутинговом агентстве по подбору персонала на позиции Data Science.\n",
        "\n",
        "Данные представляют собой набор вакансий за 3 года, которые поступили в агентство. На их основе ответьте на следующие вопросы:\n",
        "\n",
        "1. Что оказывает наиболее сильное влияние на зарплатную вилку в вакансии?\n",
        "2. Как распределены позиции (грейды) сотрудников в компаниях разного размера и какие выводы можно сделать на основе полученного распределения?\n",
        "3. В какую компанию выгоднее устраиваться сотруднику, грейд которого миддл или сеньор?"
      ]
    },
    {
      "cell_type": "code",
      "execution_count": null,
      "id": "0f4f4a6e",
      "metadata": {
        "id": "0f4f4a6e",
        "outputId": "8018ccf9-b4aa-4d32-c423-92bcb8982bfc"
      },
      "outputs": [
        {
          "data": {
            "text/html": [
              "<div>\n",
              "<style scoped>\n",
              "    .dataframe tbody tr th:only-of-type {\n",
              "        vertical-align: middle;\n",
              "    }\n",
              "\n",
              "    .dataframe tbody tr th {\n",
              "        vertical-align: top;\n",
              "    }\n",
              "\n",
              "    .dataframe thead th {\n",
              "        text-align: right;\n",
              "    }\n",
              "</style>\n",
              "<table border=\"1\" class=\"dataframe\">\n",
              "  <thead>\n",
              "    <tr style=\"text-align: right;\">\n",
              "      <th></th>\n",
              "      <th>work_year</th>\n",
              "      <th>experience_level</th>\n",
              "      <th>employment_type</th>\n",
              "      <th>job_title</th>\n",
              "      <th>salary</th>\n",
              "      <th>salary_currency</th>\n",
              "      <th>salary_in_usd</th>\n",
              "      <th>employee_residence</th>\n",
              "      <th>company_location</th>\n",
              "      <th>company_size</th>\n",
              "    </tr>\n",
              "  </thead>\n",
              "  <tbody>\n",
              "    <tr>\n",
              "      <th>0</th>\n",
              "      <td>2020</td>\n",
              "      <td>MI</td>\n",
              "      <td>FT</td>\n",
              "      <td>Data Scientist</td>\n",
              "      <td>70000</td>\n",
              "      <td>EUR</td>\n",
              "      <td>79833</td>\n",
              "      <td>DE</td>\n",
              "      <td>DE</td>\n",
              "      <td>L</td>\n",
              "    </tr>\n",
              "    <tr>\n",
              "      <th>1</th>\n",
              "      <td>2020</td>\n",
              "      <td>SE</td>\n",
              "      <td>FT</td>\n",
              "      <td>Machine Learning Scientist</td>\n",
              "      <td>260000</td>\n",
              "      <td>USD</td>\n",
              "      <td>260000</td>\n",
              "      <td>JP</td>\n",
              "      <td>JP</td>\n",
              "      <td>S</td>\n",
              "    </tr>\n",
              "    <tr>\n",
              "      <th>2</th>\n",
              "      <td>2020</td>\n",
              "      <td>SE</td>\n",
              "      <td>FT</td>\n",
              "      <td>Big Data Engineer</td>\n",
              "      <td>85000</td>\n",
              "      <td>GBP</td>\n",
              "      <td>109024</td>\n",
              "      <td>GB</td>\n",
              "      <td>GB</td>\n",
              "      <td>M</td>\n",
              "    </tr>\n",
              "    <tr>\n",
              "      <th>3</th>\n",
              "      <td>2020</td>\n",
              "      <td>MI</td>\n",
              "      <td>FT</td>\n",
              "      <td>Product Data Analyst</td>\n",
              "      <td>20000</td>\n",
              "      <td>USD</td>\n",
              "      <td>20000</td>\n",
              "      <td>HN</td>\n",
              "      <td>HN</td>\n",
              "      <td>S</td>\n",
              "    </tr>\n",
              "    <tr>\n",
              "      <th>4</th>\n",
              "      <td>2020</td>\n",
              "      <td>SE</td>\n",
              "      <td>FT</td>\n",
              "      <td>Machine Learning Engineer</td>\n",
              "      <td>150000</td>\n",
              "      <td>USD</td>\n",
              "      <td>150000</td>\n",
              "      <td>US</td>\n",
              "      <td>US</td>\n",
              "      <td>L</td>\n",
              "    </tr>\n",
              "  </tbody>\n",
              "</table>\n",
              "</div>"
            ],
            "text/plain": [
              "   work_year experience_level employment_type                   job_title  \\\n",
              "0       2020               MI              FT              Data Scientist   \n",
              "1       2020               SE              FT  Machine Learning Scientist   \n",
              "2       2020               SE              FT           Big Data Engineer   \n",
              "3       2020               MI              FT        Product Data Analyst   \n",
              "4       2020               SE              FT   Machine Learning Engineer   \n",
              "\n",
              "   salary salary_currency  salary_in_usd employee_residence company_location  \\\n",
              "0   70000             EUR          79833                 DE               DE   \n",
              "1  260000             USD         260000                 JP               JP   \n",
              "2   85000             GBP         109024                 GB               GB   \n",
              "3   20000             USD          20000                 HN               HN   \n",
              "4  150000             USD         150000                 US               US   \n",
              "\n",
              "  company_size  \n",
              "0            L  \n",
              "1            S  \n",
              "2            M  \n",
              "3            S  \n",
              "4            L  "
            ]
          },
          "execution_count": 123,
          "metadata": {},
          "output_type": "execute_result"
        }
      ],
      "source": [
        "data = pd.read_csv('ds_salaries.csv', index_col=0)\n",
        "data.head()"
      ]
    },
    {
      "cell_type": "code",
      "execution_count": null,
      "id": "fad220c9",
      "metadata": {
        "id": "fad220c9",
        "outputId": "a9a373c6-0a7e-483d-ba86-1e9bdcf7e204"
      },
      "outputs": [
        {
          "name": "stdout",
          "output_type": "stream",
          "text": [
            "<class 'pandas.core.frame.DataFrame'>\n",
            "Index: 607 entries, 0 to 606\n",
            "Data columns (total 11 columns):\n",
            " #   Column              Non-Null Count  Dtype \n",
            "---  ------              --------------  ----- \n",
            " 0   work_year           607 non-null    int64 \n",
            " 1   experience_level    607 non-null    object\n",
            " 2   employment_type     607 non-null    object\n",
            " 3   job_title           607 non-null    object\n",
            " 4   salary              607 non-null    int64 \n",
            " 5   salary_currency     607 non-null    object\n",
            " 6   salary_in_usd       607 non-null    int64 \n",
            " 7   employee_residence  607 non-null    object\n",
            " 8   remote_ratio        607 non-null    int64 \n",
            " 9   company_location    607 non-null    object\n",
            " 10  company_size        607 non-null    object\n",
            "dtypes: int64(4), object(7)\n",
            "memory usage: 56.9+ KB\n"
          ]
        }
      ],
      "source": [
        "data.info()"
      ]
    },
    {
      "cell_type": "code",
      "execution_count": null,
      "id": "81f9e296",
      "metadata": {
        "id": "81f9e296",
        "outputId": "6a03bab5-d19a-4958-ffd3-202b78162706"
      },
      "outputs": [
        {
          "data": {
            "text/plain": [
              "array([2020, 2021, 2022])"
            ]
          },
          "execution_count": 100,
          "metadata": {},
          "output_type": "execute_result"
        }
      ],
      "source": [
        "# количественные дискретные\n",
        "data.work_year.unique()"
      ]
    },
    {
      "cell_type": "code",
      "execution_count": null,
      "id": "7b17d90e",
      "metadata": {
        "id": "7b17d90e",
        "outputId": "2e166585-9919-4939-e1a5-8cbfc66df051"
      },
      "outputs": [
        {
          "data": {
            "text/plain": [
              "array(['FT', 'CT', 'PT', 'FL'], dtype=object)"
            ]
          },
          "execution_count": 101,
          "metadata": {},
          "output_type": "execute_result"
        }
      ],
      "source": [
        "# качественные\n",
        "data.employment_type.unique()"
      ]
    },
    {
      "cell_type": "code",
      "execution_count": null,
      "id": "25ef98cb",
      "metadata": {
        "id": "25ef98cb",
        "outputId": "5ba22a77-1a5a-4b8c-e22b-676ef27eb165"
      },
      "outputs": [
        {
          "data": {
            "text/plain": [
              "array(['Data Scientist', 'Machine Learning Scientist',\n",
              "       'Big Data Engineer', 'Product Data Analyst',\n",
              "       'Machine Learning Engineer', 'Data Analyst', 'Lead Data Scientist',\n",
              "       'Business Data Analyst', 'Lead Data Engineer', 'Lead Data Analyst',\n",
              "       'Data Engineer', 'Data Science Consultant', 'BI Data Analyst',\n",
              "       'Director of Data Science', 'Research Scientist',\n",
              "       'Machine Learning Manager', 'Data Engineering Manager',\n",
              "       'Machine Learning Infrastructure Engineer', 'ML Engineer',\n",
              "       'AI Scientist', 'Computer Vision Engineer',\n",
              "       'Principal Data Scientist', 'Data Science Manager', 'Head of Data',\n",
              "       '3D Computer Vision Researcher', 'Data Analytics Engineer',\n",
              "       'Applied Data Scientist', 'Marketing Data Analyst',\n",
              "       'Cloud Data Engineer', 'Financial Data Analyst',\n",
              "       'Computer Vision Software Engineer',\n",
              "       'Director of Data Engineering', 'Data Science Engineer',\n",
              "       'Principal Data Engineer', 'Machine Learning Developer',\n",
              "       'Applied Machine Learning Scientist', 'Data Analytics Manager',\n",
              "       'Head of Data Science', 'Data Specialist', 'Data Architect',\n",
              "       'Finance Data Analyst', 'Principal Data Analyst',\n",
              "       'Big Data Architect', 'Staff Data Scientist', 'Analytics Engineer',\n",
              "       'ETL Developer', 'Head of Machine Learning', 'NLP Engineer',\n",
              "       'Lead Machine Learning Engineer', 'Data Analytics Lead'],\n",
              "      dtype=object)"
            ]
          },
          "execution_count": 89,
          "metadata": {},
          "output_type": "execute_result"
        }
      ],
      "source": [
        "# качественные\n",
        "data.job_title.unique()"
      ]
    },
    {
      "cell_type": "code",
      "execution_count": null,
      "id": "c339fede",
      "metadata": {
        "id": "c339fede",
        "outputId": "c9ad529d-a562-4414-f4af-ca04dfff24e7"
      },
      "outputs": [
        {
          "data": {
            "text/plain": [
              "array(['L', 'S', 'M'], dtype=object)"
            ]
          },
          "execution_count": 90,
          "metadata": {},
          "output_type": "execute_result"
        }
      ],
      "source": [
        "# качественные порядковые\n",
        "data.company_size.unique(), data.experience_level.unique()"
      ]
    },
    {
      "cell_type": "markdown",
      "id": "47c0143d",
      "metadata": {
        "id": "47c0143d"
      },
      "source": [
        "<b>1. Что оказывает наиболее сильное влияние на зарплатную вилку в вакансии?</b>"
      ]
    },
    {
      "cell_type": "code",
      "execution_count": null,
      "id": "74bcc78d",
      "metadata": {
        "id": "74bcc78d",
        "outputId": "9d0fbbfc-ac67-4719-94c2-4b488c480fde"
      },
      "outputs": [
        {
          "data": {
            "text/plain": [
              "SignificanceResult(statistic=0.5585674779878691, pvalue=4.29733449902836e-51)"
            ]
          },
          "execution_count": 104,
          "metadata": {},
          "output_type": "execute_result"
        }
      ],
      "source": [
        "spearmanr(data.salary_in_usd, data.experience_level)"
      ]
    },
    {
      "cell_type": "code",
      "execution_count": null,
      "id": "6afc8efa",
      "metadata": {
        "id": "6afc8efa",
        "outputId": "a925457d-34b2-4072-8505-a7a15b4b6d99"
      },
      "outputs": [
        {
          "data": {
            "image/png": "[encoded data removed]",
            "text/plain": [
              "<Figure size 432x288 with 1 Axes>"
            ]
          },
          "metadata": {
            "needs_background": "light"
          },
          "output_type": "display_data"
        }
      ],
      "source": [
        "sns.histplot(data=data, x='salary_in_usd', hue='experience_level');"
      ]
    },
    {
      "cell_type": "code",
      "execution_count": null,
      "id": "0e25c637",
      "metadata": {
        "id": "0e25c637",
        "outputId": "b106b975-060f-4e21-9c7e-4c188ca28b38"
      },
      "outputs": [
        {
          "data": {
            "text/plain": [
              "SignificanceResult(statistic=-0.11766706340096365, pvalue=0.003694621368311135)"
            ]
          },
          "execution_count": 120,
          "metadata": {},
          "output_type": "execute_result"
        }
      ],
      "source": [
        "spearmanr(data.salary_in_usd, data.company_size)"
      ]
    },
    {
      "cell_type": "code",
      "execution_count": null,
      "id": "a5e96008",
      "metadata": {
        "id": "a5e96008",
        "outputId": "268f4210-1345-4cf0-854b-86c332f28e22"
      },
      "outputs": [
        {
          "data": {
            "image/png": "[encoded data removed]",
            "text/plain": [
              "<Figure size 432x288 with 1 Axes>"
            ]
          },
          "metadata": {
            "needs_background": "light"
          },
          "output_type": "display_data"
        }
      ],
      "source": [
        "# распределение зарплат по размеру компании\n",
        "sns.histplot(data=data, x='salary_in_usd', hue='company_size');"
      ]
    },
    {
      "cell_type": "code",
      "execution_count": null,
      "id": "9d5b04f2",
      "metadata": {
        "id": "9d5b04f2",
        "outputId": "930e1137-d0a9-4f57-f335-3632e40dbf12"
      },
      "outputs": [
        {
          "data": {
            "image/png": "[encoded data removed]",
            "text/plain": [
              "<Figure size 432x288 with 1 Axes>"
            ]
          },
          "metadata": {
            "needs_background": "light"
          },
          "output_type": "display_data"
        }
      ],
      "source": [
        "# количество открытых вакансий в компании в зависимости от их размера\n",
        "sns.countplot(data=data, x='company_size');"
      ]
    },
    {
      "cell_type": "code",
      "execution_count": null,
      "id": "e89fbcfb",
      "metadata": {
        "id": "e89fbcfb",
        "outputId": "a007e57c-0c92-4f4d-d21e-22111a2a021e"
      },
      "outputs": [
        {
          "data": {
            "image/png": "[encoded data removed]",
            "text/plain": [
              "<Figure size 432x288 with 1 Axes>"
            ]
          },
          "metadata": {
            "needs_background": "light"
          },
          "output_type": "display_data"
        }
      ],
      "source": [
        "# количество вакансий в компании в зависимости от грейда кандидата\n",
        "sns.countplot(data=data, x='experience_level');"
      ]
    },
    {
      "cell_type": "markdown",
      "id": "ac542fd3",
      "metadata": {
        "id": "ac542fd3"
      },
      "source": [
        "<b>2. Как распределены позиции (грейды) сотрудников в компаниях разного размера и какие выводы можно сделать на основе полученного распределения?</b>"
      ]
    },
    {
      "cell_type": "code",
      "execution_count": null,
      "id": "dc217aa4",
      "metadata": {
        "id": "dc217aa4",
        "outputId": "fdb75397-e790-480e-8ab6-1780c547b1e1"
      },
      "outputs": [
        {
          "data": {
            "image/png": "[encoded data removed]",
            "text/plain": [
              "<Figure size 432x288 with 1 Axes>"
            ]
          },
          "metadata": {
            "needs_background": "light"
          },
          "output_type": "display_data"
        }
      ],
      "source": [
        "sns.countplot(data=data, x='company_size', hue='experience_level');"
      ]
    },
    {
      "cell_type": "code",
      "execution_count": null,
      "id": "9bdc59e3",
      "metadata": {
        "id": "9bdc59e3",
        "outputId": "86c9b0a1-99c6-4c08-a474-eeed5c1eeb18"
      },
      "outputs": [
        {
          "data": {
            "image/png": "[encoded data removed]",
            "text/plain": [
              "<Figure size 432x288 with 1 Axes>"
            ]
          },
          "metadata": {
            "needs_background": "light"
          },
          "output_type": "display_data"
        }
      ],
      "source": [
        "sns.boxplot(data=data, x='salary_in_usd', y='company_size', hue='experience_level');"
      ]
    },
    {
      "cell_type": "markdown",
      "id": "b5a971d7",
      "metadata": {
        "id": "b5a971d7"
      },
      "source": [
        "<b>3. В какую компанию выгоднее устраиваться сотруднику, грейд которого миддл или сеньор?</b>"
      ]
    },
    {
      "cell_type": "code",
      "execution_count": null,
      "id": "22c378d7",
      "metadata": {
        "id": "22c378d7"
      },
      "outputs": [],
      "source": [
        "middle = data[data.experience_level == 'MI']"
      ]
    },
    {
      "cell_type": "code",
      "execution_count": null,
      "id": "2fd60273",
      "metadata": {
        "id": "2fd60273",
        "outputId": "86c7d7e1-da73-4d97-d3c0-7ce3cb481baf"
      },
      "outputs": [
        {
          "data": {
            "image/png": "[encoded data removed]",
            "text/plain": [
              "<Figure size 432x288 with 1 Axes>"
            ]
          },
          "metadata": {
            "needs_background": "light"
          },
          "output_type": "display_data"
        }
      ],
      "source": [
        "sns.boxplot(data=middle, x='salary_in_usd');"
      ]
    },
    {
      "cell_type": "code",
      "execution_count": null,
      "id": "6f4da133",
      "metadata": {
        "id": "6f4da133",
        "outputId": "2fd101f7-9b70-4421-a8ca-059c8e40d6e4"
      },
      "outputs": [
        {
          "data": {
            "text/plain": [
              "count       280.000000\n",
              "mean     138617.292857\n",
              "std       57691.978337\n",
              "min       18907.000000\n",
              "25%      100000.000000\n",
              "50%      135500.000000\n",
              "75%      170000.000000\n",
              "max      412000.000000\n",
              "Name: salary_in_usd, dtype: float64"
            ]
          },
          "execution_count": 152,
          "metadata": {},
          "output_type": "execute_result"
        }
      ],
      "source": [
        "#основные статистики\n",
        "middle.salary_in_usd.describe()"
      ]
    },
    {
      "cell_type": "code",
      "execution_count": null,
      "id": "d9d0d34a",
      "metadata": {
        "id": "d9d0d34a",
        "outputId": "c254386c-27c0-47aa-ea8e-2f3d5dfa5910"
      },
      "outputs": [
        {
          "data": {
            "image/png": "[encoded data removed]",
            "text/plain": [
              "<Figure size 432x288 with 1 Axes>"
            ]
          },
          "metadata": {
            "needs_background": "light"
          },
          "output_type": "display_data"
        }
      ],
      "source": [
        "sns.boxplot(data=middle, x='salary_in_usd', y='company_size');"
      ]
    },
    {
      "cell_type": "code",
      "execution_count": null,
      "id": "695cfd03",
      "metadata": {
        "id": "695cfd03",
        "outputId": "f6990c95-2469-4929-a281-c82bc5ab7d52"
      },
      "outputs": [
        {
          "data": {
            "text/html": [
              "<div>\n",
              "<style scoped>\n",
              "    .dataframe tbody tr th:only-of-type {\n",
              "        vertical-align: middle;\n",
              "    }\n",
              "\n",
              "    .dataframe tbody tr th {\n",
              "        vertical-align: top;\n",
              "    }\n",
              "\n",
              "    .dataframe thead th {\n",
              "        text-align: right;\n",
              "    }\n",
              "</style>\n",
              "<table border=\"1\" class=\"dataframe\">\n",
              "  <thead>\n",
              "    <tr style=\"text-align: right;\">\n",
              "      <th></th>\n",
              "      <th>df</th>\n",
              "      <th>sum_sq</th>\n",
              "      <th>mean_sq</th>\n",
              "      <th>F</th>\n",
              "      <th>PR(&gt;F)</th>\n",
              "    </tr>\n",
              "  </thead>\n",
              "  <tbody>\n",
              "    <tr>\n",
              "      <th>company_size</th>\n",
              "      <td>2.0</td>\n",
              "      <td>1.714488e+10</td>\n",
              "      <td>8.572439e+09</td>\n",
              "      <td>2.605208</td>\n",
              "      <td>0.075698</td>\n",
              "    </tr>\n",
              "    <tr>\n",
              "      <th>Residual</th>\n",
              "      <td>277.0</td>\n",
              "      <td>9.114688e+11</td>\n",
              "      <td>3.290501e+09</td>\n",
              "      <td>NaN</td>\n",
              "      <td>NaN</td>\n",
              "    </tr>\n",
              "  </tbody>\n",
              "</table>\n",
              "</div>"
            ],
            "text/plain": [
              "                 df        sum_sq       mean_sq         F    PR(>F)\n",
              "company_size    2.0  1.714488e+10  8.572439e+09  2.605208  0.075698\n",
              "Residual      277.0  9.114688e+11  3.290501e+09       NaN       NaN"
            ]
          },
          "execution_count": 154,
          "metadata": {},
          "output_type": "execute_result"
        }
      ],
      "source": [
        "two_way = ols('salary_in_usd ~ company_size', middle).fit()\n",
        "anova_lm(two_way)"
      ]
    },
    {
      "cell_type": "code",
      "execution_count": null,
      "id": "41cca97c",
      "metadata": {
        "id": "41cca97c",
        "outputId": "61c98f4d-5bd1-4c73-fc5a-b2a16be46d15"
      },
      "outputs": [
        {
          "data": {
            "image/png": "[encoded data removed]",
            "text/plain": [
              "<Figure size 432x288 with 1 Axes>"
            ]
          },
          "metadata": {
            "needs_background": "light"
          },
          "output_type": "display_data"
        }
      ],
      "source": [
        "# проверка остатков на нормальность\n",
        "sm.qqplot(two_way.resid, line='s');"
      ]
    },
    {
      "cell_type": "code",
      "execution_count": null,
      "id": "7cc99365",
      "metadata": {
        "id": "7cc99365",
        "outputId": "7b340fc7-63f5-4791-8629-6384757e2375"
      },
      "outputs": [
        {
          "data": {
            "text/plain": [
              "ShapiroResult(statistic=0.8005944490432739, pvalue=8.754643492827198e-16)"
            ]
          },
          "execution_count": 144,
          "metadata": {},
          "output_type": "execute_result"
        }
      ],
      "source": [
        "stats.shapiro(two_way.resid)"
      ]
    },
    {
      "cell_type": "code",
      "execution_count": null,
      "id": "de6900da",
      "metadata": {
        "id": "de6900da"
      },
      "outputs": [],
      "source": [
        "groups = []\n",
        "for i, gr in data.groupby(['company_size']):\n",
        "    groups.append(gr.salary_in_usd)"
      ]
    },
    {
      "cell_type": "code",
      "execution_count": null,
      "id": "1dd0d63a",
      "metadata": {
        "id": "1dd0d63a",
        "outputId": "d085ef41-aaa9-45eb-b62f-f4c8c0a6fb79"
      },
      "outputs": [
        {
          "data": {
            "text/plain": [
              "LeveneResult(statistic=6.50853451444031, pvalue=0.0015973775552195865)"
            ]
          },
          "execution_count": 148,
          "metadata": {},
          "output_type": "execute_result"
        }
      ],
      "source": [
        "# тест Левена на равенство дисперсий\n",
        "stats.levene(*groups)"
      ]
    },
    {
      "cell_type": "code",
      "execution_count": null,
      "id": "a7e0a048",
      "metadata": {
        "id": "a7e0a048",
        "outputId": "89fcb0df-708b-4fdc-e682-690822140df1"
      },
      "outputs": [
        {
          "name": "stdout",
          "output_type": "stream",
          "text": [
            "      Multiple Comparison of Means - Tukey HSD, FWER=0.05      \n",
            "===============================================================\n",
            "group1 group2   meandiff  p-adj     lower       upper    reject\n",
            "---------------------------------------------------------------\n",
            "     L      M  -2337.5287 0.9265 -17094.0049  12418.9475  False\n",
            "     L      S -41610.3203    0.0 -63026.3979 -20194.2426   True\n",
            "     M      S -39272.7916    0.0 -59408.7461  -19136.837   True\n",
            "---------------------------------------------------------------\n"
          ]
        }
      ],
      "source": [
        "print(pairwise_tukeyhsd(endog=data.salary_in_usd, alpha=0.05, groups=data['company_size']))"
      ]
    },
    {
      "cell_type": "code",
      "execution_count": null,
      "id": "30d14b54",
      "metadata": {
        "id": "30d14b54"
      },
      "outputs": [],
      "source": [
        "senior = data[data.experience_level == 'SE']"
      ]
    },
    {
      "cell_type": "code",
      "execution_count": null,
      "id": "d5453dbf",
      "metadata": {
        "id": "d5453dbf",
        "outputId": "8f020ff2-f9d8-4ab0-f6c5-2eafb8799d26"
      },
      "outputs": [
        {
          "data": {
            "image/png": "[encoded data removed]",
            "text/plain": [
              "<Figure size 432x288 with 1 Axes>"
            ]
          },
          "metadata": {
            "needs_background": "light"
          },
          "output_type": "display_data"
        }
      ],
      "source": [
        "sns.boxplot(data=senior, x='salary_in_usd', y='company_size');"
      ]
    },
    {
      "cell_type": "code",
      "execution_count": null,
      "id": "d0fe9e3d",
      "metadata": {
        "id": "d0fe9e3d",
        "outputId": "03191867-ff1a-4ae3-8dbc-b48d50861539"
      },
      "outputs": [
        {
          "data": {
            "text/html": [
              "<div>\n",
              "<style scoped>\n",
              "    .dataframe tbody tr th:only-of-type {\n",
              "        vertical-align: middle;\n",
              "    }\n",
              "\n",
              "    .dataframe tbody tr th {\n",
              "        vertical-align: top;\n",
              "    }\n",
              "\n",
              "    .dataframe thead th {\n",
              "        text-align: right;\n",
              "    }\n",
              "</style>\n",
              "<table border=\"1\" class=\"dataframe\">\n",
              "  <thead>\n",
              "    <tr style=\"text-align: right;\">\n",
              "      <th></th>\n",
              "      <th>df</th>\n",
              "      <th>sum_sq</th>\n",
              "      <th>mean_sq</th>\n",
              "      <th>F</th>\n",
              "      <th>PR(&gt;F)</th>\n",
              "    </tr>\n",
              "  </thead>\n",
              "  <tbody>\n",
              "    <tr>\n",
              "      <th>company_size</th>\n",
              "      <td>2.0</td>\n",
              "      <td>1.714488e+10</td>\n",
              "      <td>8.572439e+09</td>\n",
              "      <td>2.605208</td>\n",
              "      <td>0.075698</td>\n",
              "    </tr>\n",
              "    <tr>\n",
              "      <th>Residual</th>\n",
              "      <td>277.0</td>\n",
              "      <td>9.114688e+11</td>\n",
              "      <td>3.290501e+09</td>\n",
              "      <td>NaN</td>\n",
              "      <td>NaN</td>\n",
              "    </tr>\n",
              "  </tbody>\n",
              "</table>\n",
              "</div>"
            ],
            "text/plain": [
              "                 df        sum_sq       mean_sq         F    PR(>F)\n",
              "company_size    2.0  1.714488e+10  8.572439e+09  2.605208  0.075698\n",
              "Residual      277.0  9.114688e+11  3.290501e+09       NaN       NaN"
            ]
          },
          "execution_count": 157,
          "metadata": {},
          "output_type": "execute_result"
        }
      ],
      "source": [
        "two_way = ols('salary_in_usd ~ company_size', senior).fit()\n",
        "anova_lm(two_way)"
      ]
    },
    {
      "cell_type": "code",
      "execution_count": null,
      "id": "e4f6bbc3",
      "metadata": {
        "id": "e4f6bbc3"
      },
      "outputs": [],
      "source": []
    }
  ],
  "metadata": {
    "kernelspec": {
      "display_name": "Python 3 (ipykernel)",
      "language": "python",
      "name": "python3"
    },
    "language_info": {
      "codemirror_mode": {
        "name": "ipython",
        "version": 3
      },
      "file_extension": ".py",
      "mimetype": "text/x-python",
      "name": "python",
      "nbconvert_exporter": "python",
      "pygments_lexer": "ipython3",
      "version": "3.9.12"
    },
    "colab": {
      "provenance": []
    }
  },
  "nbformat": 4,
  "nbformat_minor": 5
}