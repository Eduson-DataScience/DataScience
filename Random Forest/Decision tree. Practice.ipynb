{
 "cells": [
  {
   "cell_type": "markdown",
   "id": "e87d9773",
   "metadata": {},
   "source": [
    "# Решающие деревья. Практика"
   ]
  },
  {
   "cell_type": "markdown",
   "id": "58117f3d",
   "metadata": {},
   "source": [
    "## Подготовка данных"
   ]
  },
  {
   "cell_type": "markdown",
   "id": "2f36e9c5",
   "metadata": {},
   "source": [
    "Данные, с которыми мы сегодня работаем - экспертный рейтинг шоколадных батончиков: https://www.kaggle.com/datasets/rtatman/chocolate-bar-ratings"
   ]
  },
  {
   "cell_type": "markdown",
   "id": "9acb0a9d",
   "metadata": {},
   "source": [
    "**Задача**: по разным характеристикам шоколадных батончиков предсказать их экспертный рейтинг\n",
    "\n",
    "**Тип**: регрессия"
   ]
  },
  {
   "cell_type": "markdown",
   "id": "cdbbe73e",
   "metadata": {},
   "source": [
    "Загрузим и посмотрим данные"
   ]
  },
  {
   "cell_type": "code",
   "execution_count": 6,
   "id": "82398111",
   "metadata": {},
   "outputs": [
    {
     "data": {
      "text/html": [
       "<div>\n",
       "<style scoped>\n",
       "    .dataframe tbody tr th:only-of-type {\n",
       "        vertical-align: middle;\n",
       "    }\n",
       "\n",
       "    .dataframe tbody tr th {\n",
       "        vertical-align: top;\n",
       "    }\n",
       "\n",
       "    .dataframe thead th {\n",
       "        text-align: right;\n",
       "    }\n",
       "</style>\n",
       "<table border=\"1\" class=\"dataframe\">\n",
       "  <thead>\n",
       "    <tr style=\"text-align: right;\">\n",
       "      <th></th>\n",
       "      <th>Company (Maker-if known)</th>\n",
       "      <th>Specific Bean Origin or Bar Name</th>\n",
       "      <th>REF</th>\n",
       "      <th>Review Date</th>\n",
       "      <th>Cocoa Percent</th>\n",
       "      <th>Company Location</th>\n",
       "      <th>Rating</th>\n",
       "      <th>Bean Type</th>\n",
       "      <th>Broad Bean Origin</th>\n",
       "    </tr>\n",
       "  </thead>\n",
       "  <tbody>\n",
       "    <tr>\n",
       "      <th>0</th>\n",
       "      <td>A. Morin</td>\n",
       "      <td>Agua Grande</td>\n",
       "      <td>1876</td>\n",
       "      <td>2016</td>\n",
       "      <td>63%</td>\n",
       "      <td>France</td>\n",
       "      <td>3.75</td>\n",
       "      <td></td>\n",
       "      <td>Sao Tome</td>\n",
       "    </tr>\n",
       "    <tr>\n",
       "      <th>1</th>\n",
       "      <td>A. Morin</td>\n",
       "      <td>Kpime</td>\n",
       "      <td>1676</td>\n",
       "      <td>2015</td>\n",
       "      <td>70%</td>\n",
       "      <td>France</td>\n",
       "      <td>2.75</td>\n",
       "      <td></td>\n",
       "      <td>Togo</td>\n",
       "    </tr>\n",
       "    <tr>\n",
       "      <th>2</th>\n",
       "      <td>A. Morin</td>\n",
       "      <td>Atsane</td>\n",
       "      <td>1676</td>\n",
       "      <td>2015</td>\n",
       "      <td>70%</td>\n",
       "      <td>France</td>\n",
       "      <td>3.00</td>\n",
       "      <td></td>\n",
       "      <td>Togo</td>\n",
       "    </tr>\n",
       "    <tr>\n",
       "      <th>3</th>\n",
       "      <td>A. Morin</td>\n",
       "      <td>Akata</td>\n",
       "      <td>1680</td>\n",
       "      <td>2015</td>\n",
       "      <td>70%</td>\n",
       "      <td>France</td>\n",
       "      <td>3.50</td>\n",
       "      <td></td>\n",
       "      <td>Togo</td>\n",
       "    </tr>\n",
       "    <tr>\n",
       "      <th>4</th>\n",
       "      <td>A. Morin</td>\n",
       "      <td>Quilla</td>\n",
       "      <td>1704</td>\n",
       "      <td>2015</td>\n",
       "      <td>70%</td>\n",
       "      <td>France</td>\n",
       "      <td>3.50</td>\n",
       "      <td></td>\n",
       "      <td>Peru</td>\n",
       "    </tr>\n",
       "  </tbody>\n",
       "</table>\n",
       "</div>"
      ],
      "text/plain": [
       "  Company (Maker-if known) Specific Bean Origin or Bar Name   REF  \\\n",
       "0                 A. Morin                      Agua Grande  1876   \n",
       "1                 A. Morin                            Kpime  1676   \n",
       "2                 A. Morin                           Atsane  1676   \n",
       "3                 A. Morin                            Akata  1680   \n",
       "4                 A. Morin                           Quilla  1704   \n",
       "\n",
       "   Review Date Cocoa Percent Company Location  Rating Bean Type  \\\n",
       "0         2016           63%           France    3.75             \n",
       "1         2015           70%           France    2.75             \n",
       "2         2015           70%           France    3.00             \n",
       "3         2015           70%           France    3.50             \n",
       "4         2015           70%           France    3.50             \n",
       "\n",
       "  Broad Bean Origin  \n",
       "0          Sao Tome  \n",
       "1              Togo  \n",
       "2              Togo  \n",
       "3              Togo  \n",
       "4              Peru  "
      ]
     },
     "execution_count": 6,
     "metadata": {},
     "output_type": "execute_result"
    }
   ],
   "source": [
    "import pandas as pd\n",
    "\n",
    "path = './data/flavors_of_cacao.csv'\n",
    "data = pd.read_csv(path)\n",
    "data.head()"
   ]
  },
  {
   "cell_type": "markdown",
   "id": "911b12aa",
   "metadata": {},
   "source": [
    "Посмотрим количество строк и столбцов"
   ]
  },
  {
   "cell_type": "code",
   "execution_count": 7,
   "id": "56ff028a",
   "metadata": {},
   "outputs": [
    {
     "data": {
      "text/plain": [
       "(1795, 9)"
      ]
     },
     "execution_count": 7,
     "metadata": {},
     "output_type": "execute_result"
    }
   ],
   "source": [
    "data.shape"
   ]
  },
  {
   "cell_type": "markdown",
   "id": "a9e4b5a6",
   "metadata": {},
   "source": [
    "Доля пропущенных значений в каждом из полей:"
   ]
  },
  {
   "cell_type": "code",
   "execution_count": 8,
   "id": "c0b52b3d",
   "metadata": {},
   "outputs": [
    {
     "data": {
      "text/plain": [
       "Company (Maker-if known)            0.000000\n",
       "Specific Bean Origin or Bar Name    0.000000\n",
       "REF                                 0.000000\n",
       "Review Date                         0.000000\n",
       "Cocoa Percent                       0.000000\n",
       "Company Location                    0.000000\n",
       "Rating                              0.000000\n",
       "Bean Type                           0.000557\n",
       "Broad Bean Origin                   0.000557\n",
       "dtype: float64"
      ]
     },
     "execution_count": 8,
     "metadata": {},
     "output_type": "execute_result"
    }
   ],
   "source": [
    "data.isna().mean(axis=0)"
   ]
  },
  {
   "cell_type": "markdown",
   "id": "c942432d",
   "metadata": {},
   "source": [
    "Заведем 2 списка: в один будем записывать категориальные признаки, в другой - числовые"
   ]
  },
  {
   "cell_type": "code",
   "execution_count": 10,
   "id": "07d0393c",
   "metadata": {},
   "outputs": [],
   "source": [
    "categorical_features = []\n",
    "numerical_features = []"
   ]
  },
  {
   "cell_type": "markdown",
   "id": "249be540",
   "metadata": {},
   "source": [
    "Предобрабатываем поле производителя:"
   ]
  },
  {
   "cell_type": "code",
   "execution_count": 12,
   "id": "aab9ea7a",
   "metadata": {},
   "outputs": [
    {
     "data": {
      "text/plain": [
       "Soma                 47\n",
       "Bonnat               27\n",
       "Fresco               26\n",
       "Pralus               25\n",
       "A. Morin             23\n",
       "                     ..\n",
       "Chocablog             1\n",
       "Marigold's Finest     1\n",
       "Chloe Chocolat        1\n",
       "Chequessett           1\n",
       "Ki' Xocolatl          1\n",
       "Name: Company (Maker-if known), Length: 416, dtype: int64"
      ]
     },
     "execution_count": 12,
     "metadata": {},
     "output_type": "execute_result"
    }
   ],
   "source": [
    "company_stat = data['Company (Maker-if known)'].value_counts()\n",
    "company_stat"
   ]
  },
  {
   "cell_type": "code",
   "execution_count": 13,
   "id": "2a3bfb48",
   "metadata": {},
   "outputs": [
    {
     "data": {
      "text/plain": [
       "Other                         1505\n",
       "Soma                            47\n",
       "Bonnat                          27\n",
       "Fresco                          26\n",
       "Pralus                          25\n",
       "A. Morin                        23\n",
       "Arete                           22\n",
       "Domori                          22\n",
       "Guittard                        22\n",
       "Valrhona                        21\n",
       "Hotel Chocolat (Coppeneur)      19\n",
       "Coppeneur                       18\n",
       "Mast Brothers                   18\n",
       "Name: company, dtype: int64"
      ]
     },
     "execution_count": 13,
     "metadata": {},
     "output_type": "execute_result"
    }
   ],
   "source": [
    "data['company'] = data['Company (Maker-if known)'].apply(lambda x: x if company_stat[x] >= 18 else 'Other')\n",
    "data['company'].value_counts()"
   ]
  },
  {
   "cell_type": "code",
   "execution_count": 14,
   "id": "6191a2ab",
   "metadata": {},
   "outputs": [],
   "source": [
    "categorical_features.append('company')"
   ]
  },
  {
   "cell_type": "markdown",
   "id": "6ab435b8",
   "metadata": {},
   "source": [
    "Предобрабатываем регион происхождения батончика:"
   ]
  },
  {
   "cell_type": "code",
   "execution_count": 15,
   "id": "9edead17",
   "metadata": {},
   "outputs": [
    {
     "data": {
      "text/plain": [
       "Madagascar                        57\n",
       "Peru                              45\n",
       "Ecuador                           42\n",
       "Dominican Republic                37\n",
       "Venezuela                         21\n",
       "                                  ..\n",
       "Conacado, #213, DR, -C             1\n",
       "Sambirano Valley, #215, MR, MC     1\n",
       "Chuao, #218, MR, MC                1\n",
       "Chuao, #217, DR, MC                1\n",
       "Brazil, Mitzi Blue                 1\n",
       "Name: Specific Bean Origin or Bar Name, Length: 1039, dtype: int64"
      ]
     },
     "execution_count": 15,
     "metadata": {},
     "output_type": "execute_result"
    }
   ],
   "source": [
    "origin_stat = data['Specific Bean Origin or Bar Name'].value_counts()\n",
    "origin_stat"
   ]
  },
  {
   "cell_type": "code",
   "execution_count": 16,
   "id": "7ba296f5",
   "metadata": {},
   "outputs": [
    {
     "data": {
      "text/plain": [
       "Other                 1555\n",
       "Madagascar              57\n",
       "Peru                    45\n",
       "Ecuador                 42\n",
       "Dominican Republic      37\n",
       "Venezuela               21\n",
       "Chuao                   19\n",
       "Sambirano               19\n",
       "Name: origin, dtype: int64"
      ]
     },
     "execution_count": 16,
     "metadata": {},
     "output_type": "execute_result"
    }
   ],
   "source": [
    "data['origin'] = data['Specific Bean Origin or Bar Name'].apply(lambda x: x if origin_stat[x] >= 18 else 'Other')\n",
    "data['origin'].value_counts()"
   ]
  },
  {
   "cell_type": "code",
   "execution_count": 17,
   "id": "b5b097f7",
   "metadata": {},
   "outputs": [],
   "source": [
    "categorical_features.append('origin')"
   ]
  },
  {
   "cell_type": "markdown",
   "id": "c0e81f07",
   "metadata": {},
   "source": [
    "Предобрабатываем поля REF и Review Date:"
   ]
  },
  {
   "cell_type": "code",
   "execution_count": 18,
   "id": "0616bcea",
   "metadata": {},
   "outputs": [],
   "source": [
    "numerical_features.extend(['REF', 'Review Date'])"
   ]
  },
  {
   "cell_type": "markdown",
   "id": "c8ddeb57",
   "metadata": {},
   "source": [
    "Предобрабатываем процент содержания какао:"
   ]
  },
  {
   "cell_type": "code",
   "execution_count": 20,
   "id": "adc38040",
   "metadata": {
    "scrolled": true
   },
   "outputs": [
    {
     "data": {
      "text/plain": [
       "100%      20\n",
       "42%        1\n",
       "46%        1\n",
       "50%        1\n",
       "53%        1\n",
       "55%       16\n",
       "56%        2\n",
       "57%        1\n",
       "58%        8\n",
       "60%       43\n",
       "60.5%      1\n",
       "61%        8\n",
       "62%       14\n",
       "63%       12\n",
       "64%       34\n",
       "65%       78\n",
       "66%       23\n",
       "67%       27\n",
       "68%       47\n",
       "69%       10\n",
       "70%      672\n",
       "71%       31\n",
       "72%      189\n",
       "72.5%      4\n",
       "73%       40\n",
       "73.5%      2\n",
       "74%       50\n",
       "75%      222\n",
       "76%       23\n",
       "77%       33\n",
       "78%       17\n",
       "79%        1\n",
       "80%       72\n",
       "81%        5\n",
       "82%       17\n",
       "83%        4\n",
       "84%        4\n",
       "85%       36\n",
       "86%        1\n",
       "87%        1\n",
       "88%        8\n",
       "89%        2\n",
       "90%        8\n",
       "91%        3\n",
       "99%        2\n",
       "Name: Cocoa Percent, dtype: int64"
      ]
     },
     "execution_count": 20,
     "metadata": {},
     "output_type": "execute_result"
    }
   ],
   "source": [
    "data['Cocoa Percent'].value_counts().sort_index()"
   ]
  },
  {
   "cell_type": "code",
   "execution_count": 21,
   "id": "6e911150",
   "metadata": {},
   "outputs": [],
   "source": [
    "data['cocoa'] = data['Cocoa Percent'].str[:-1].astype(float)"
   ]
  },
  {
   "cell_type": "code",
   "execution_count": 24,
   "id": "1290d839",
   "metadata": {},
   "outputs": [],
   "source": [
    "numerical_features.append('cocoa')"
   ]
  },
  {
   "cell_type": "markdown",
   "id": "a00d9c30",
   "metadata": {},
   "source": [
    "Предобрабатываем расположение компании-производителя:"
   ]
  },
  {
   "cell_type": "code",
   "execution_count": 25,
   "id": "89d7803f",
   "metadata": {
    "scrolled": true
   },
   "outputs": [
    {
     "data": {
      "text/plain": [
       "U.S.A.               764\n",
       "France               156\n",
       "Canada               125\n",
       "U.K.                  96\n",
       "Italy                 63\n",
       "Ecuador               54\n",
       "Australia             49\n",
       "Belgium               40\n",
       "Switzerland           38\n",
       "Germany               35\n",
       "Austria               26\n",
       "Spain                 25\n",
       "Colombia              23\n",
       "Hungary               22\n",
       "Venezuela             20\n",
       "Japan                 17\n",
       "Brazil                17\n",
       "Peru                  17\n",
       "Madagascar            17\n",
       "New Zealand           17\n",
       "Denmark               15\n",
       "Vietnam               11\n",
       "Scotland              10\n",
       "Guatemala             10\n",
       "Israel                 9\n",
       "Costa Rica             9\n",
       "Argentina              9\n",
       "Poland                 8\n",
       "Lithuania              6\n",
       "Honduras               6\n",
       "South Korea            5\n",
       "Nicaragua              5\n",
       "Sweden                 5\n",
       "Domincan Republic      5\n",
       "Ireland                4\n",
       "Netherlands            4\n",
       "Fiji                   4\n",
       "Sao Tome               4\n",
       "Puerto Rico            4\n",
       "Mexico                 4\n",
       "Amsterdam              4\n",
       "Iceland                3\n",
       "Singapore              3\n",
       "Portugal               3\n",
       "Grenada                3\n",
       "South Africa           3\n",
       "Finland                2\n",
       "Bolivia                2\n",
       "St. Lucia              2\n",
       "Chile                  2\n",
       "Philippines            1\n",
       "Czech Republic         1\n",
       "India                  1\n",
       "Martinique             1\n",
       "Niacragua              1\n",
       "Ghana                  1\n",
       "Wales                  1\n",
       "Eucador                1\n",
       "Russia                 1\n",
       "Suriname               1\n",
       "Name: Company Location, dtype: int64"
      ]
     },
     "execution_count": 25,
     "metadata": {},
     "output_type": "execute_result"
    }
   ],
   "source": [
    "location_stat = data['Company Location'].value_counts()\n",
    "location_stat"
   ]
  },
  {
   "cell_type": "code",
   "execution_count": 26,
   "id": "ac32edd2",
   "metadata": {
    "scrolled": true
   },
   "outputs": [
    {
     "data": {
      "text/plain": [
       "U.S.A.         764\n",
       "Other          259\n",
       "France         156\n",
       "Canada         125\n",
       "U.K.            96\n",
       "Italy           63\n",
       "Ecuador         54\n",
       "Australia       49\n",
       "Belgium         40\n",
       "Switzerland     38\n",
       "Germany         35\n",
       "Austria         26\n",
       "Spain           25\n",
       "Colombia        23\n",
       "Hungary         22\n",
       "Venezuela       20\n",
       "Name: location, dtype: int64"
      ]
     },
     "execution_count": 26,
     "metadata": {},
     "output_type": "execute_result"
    }
   ],
   "source": [
    "data['location'] = data['Company Location'].apply(lambda x: x if location_stat[x] >= 18 else 'Other')\n",
    "data['location'].value_counts()"
   ]
  },
  {
   "cell_type": "code",
   "execution_count": 27,
   "id": "98f20d9a",
   "metadata": {},
   "outputs": [],
   "source": [
    "categorical_features.append('location')"
   ]
  },
  {
   "cell_type": "markdown",
   "id": "a6f32c8b",
   "metadata": {},
   "source": [
    "Предобрабатываем широкий регион происхождения шоколадных бобов:"
   ]
  },
  {
   "cell_type": "code",
   "execution_count": 30,
   "id": "54bd7450",
   "metadata": {},
   "outputs": [
    {
     "data": {
      "text/plain": [
       "Venezuela                214\n",
       "Ecuador                  193\n",
       "Peru                     165\n",
       "Madagascar               145\n",
       "Dominican Republic       141\n",
       "                        ... \n",
       "Peru, Belize               1\n",
       "Peru, Mad., Dom. Rep.      1\n",
       "NaN                        1\n",
       "PNG, Vanuatu, Mad          1\n",
       "Venezuela, Carribean       1\n",
       "Name: Broad Bean Origin, Length: 101, dtype: int64"
      ]
     },
     "execution_count": 30,
     "metadata": {},
     "output_type": "execute_result"
    }
   ],
   "source": [
    "bean_stat = data['Broad Bean Origin'].value_counts(dropna=False)\n",
    "bean_stat"
   ]
  },
  {
   "cell_type": "code",
   "execution_count": 31,
   "id": "c749080f",
   "metadata": {},
   "outputs": [
    {
     "data": {
      "text/plain": [
       "Other                 232\n",
       "Venezuela             214\n",
       "Ecuador               193\n",
       "Peru                  165\n",
       "Madagascar            145\n",
       "Dominican Republic    141\n",
       "                       73\n",
       "Nicaragua              60\n",
       "Brazil                 58\n",
       "Bolivia                57\n",
       "Belize                 49\n",
       "Papua New Guinea       42\n",
       "Colombia               40\n",
       "Vietnam                38\n",
       "Costa Rica             38\n",
       "Tanzania               34\n",
       "Trinidad               33\n",
       "Ghana                  33\n",
       "Mexico                 30\n",
       "Guatemala              28\n",
       "Hawaii                 28\n",
       "Domincan Republic      25\n",
       "Jamaica                20\n",
       "Grenada                19\n",
       "Name: bean_origin, dtype: int64"
      ]
     },
     "execution_count": 31,
     "metadata": {},
     "output_type": "execute_result"
    }
   ],
   "source": [
    "data['bean_origin'] = data['Broad Bean Origin'].apply(lambda x: x if bean_stat[x] >= 18 else 'Other')\n",
    "data['bean_origin'].value_counts()"
   ]
  },
  {
   "cell_type": "code",
   "execution_count": 32,
   "id": "82526dfe",
   "metadata": {},
   "outputs": [],
   "source": [
    "categorical_features.append('bean_origin')"
   ]
  },
  {
   "cell_type": "markdown",
   "id": "8ede81d9",
   "metadata": {},
   "source": [
    "Предобрабатываем используемый тип бобов:"
   ]
  },
  {
   "cell_type": "code",
   "execution_count": 33,
   "id": "e92f0ee2",
   "metadata": {
    "scrolled": true
   },
   "outputs": [
    {
     "data": {
      "text/plain": [
       "                            887\n",
       "Trinitario                  419\n",
       "Criollo                     153\n",
       "Forastero                    87\n",
       "Forastero (Nacional)         52\n",
       "Blend                        41\n",
       "Criollo, Trinitario          39\n",
       "Forastero (Arriba)           37\n",
       "Criollo (Porcelana)          10\n",
       "Trinitario, Criollo           9\n",
       "Forastero (Parazinho)         8\n",
       "Forastero (Arriba) ASS        6\n",
       "Beniano                       3\n",
       "Matina                        3\n",
       "EET                           3\n",
       "Nacional (Arriba)             3\n",
       "Criollo, Forastero            2\n",
       "Amazon, ICS                   2\n",
       "Trinitario, Forastero         2\n",
       "Amazon mix                    2\n",
       "Forastero (Catongo)           2\n",
       "Nacional                      2\n",
       "Trinitario (85% Criollo)      2\n",
       "Criollo (Amarru)              2\n",
       "Criollo (Ocumare 61)          2\n",
       "Criollo, +                    1\n",
       "Forastero (Arriba) ASSS       1\n",
       "Trinitario, TCGA              1\n",
       "Trinitario (Amelonado)        1\n",
       "Trinitario, Nacional          1\n",
       "NaN                           1\n",
       "Forastero (Amelonado)         1\n",
       "Forastero, Trinitario         1\n",
       "Criollo (Ocumare 77)          1\n",
       "Amazon                        1\n",
       "Forastero(Arriba, CCN)        1\n",
       "Criollo (Ocumare 67)          1\n",
       "CCN51                         1\n",
       "Trinitario (Scavina)          1\n",
       "Blend-Forastero,Criollo       1\n",
       "Criollo (Ocumare)             1\n",
       "Criollo (Wild)                1\n",
       "Name: Bean Type, dtype: int64"
      ]
     },
     "execution_count": 33,
     "metadata": {},
     "output_type": "execute_result"
    }
   ],
   "source": [
    "type_stat = data['Bean Type'].value_counts(dropna=False)\n",
    "type_stat"
   ]
  },
  {
   "cell_type": "code",
   "execution_count": 34,
   "id": "67338281",
   "metadata": {
    "scrolled": true
   },
   "outputs": [
    {
     "data": {
      "text/plain": [
       "                        887\n",
       "Trinitario              419\n",
       "Criollo                 153\n",
       "Forastero                87\n",
       "Other                    80\n",
       "Forastero (Nacional)     52\n",
       "Blend                    41\n",
       "Criollo, Trinitario      39\n",
       "Forastero (Arriba)       37\n",
       "Name: bean_type, dtype: int64"
      ]
     },
     "execution_count": 34,
     "metadata": {},
     "output_type": "execute_result"
    }
   ],
   "source": [
    "data['bean_type'] = data['Bean Type'].apply(lambda x: x if type_stat[x] >= 18 else 'Other')\n",
    "data['bean_type'].value_counts()"
   ]
  },
  {
   "cell_type": "code",
   "execution_count": 35,
   "id": "061aa854",
   "metadata": {},
   "outputs": [],
   "source": [
    "categorical_features.append('bean_type')"
   ]
  },
  {
   "cell_type": "markdown",
   "id": "8b49fe43",
   "metadata": {},
   "source": [
    "Наши категориальные признаки записаны в столбцы:"
   ]
  },
  {
   "cell_type": "code",
   "execution_count": 36,
   "id": "96f03fb8",
   "metadata": {},
   "outputs": [
    {
     "data": {
      "text/plain": [
       "['company', 'origin', 'location', 'bean_origin', 'bean_type']"
      ]
     },
     "execution_count": 36,
     "metadata": {},
     "output_type": "execute_result"
    }
   ],
   "source": [
    "categorical_features"
   ]
  },
  {
   "cell_type": "markdown",
   "id": "aab6480f",
   "metadata": {},
   "source": [
    "Общее количество уникальных значений категориальных признаков следующее:"
   ]
  },
  {
   "cell_type": "code",
   "execution_count": 37,
   "id": "4ead3207",
   "metadata": {},
   "outputs": [
    {
     "data": {
      "text/plain": [
       "70"
      ]
     },
     "execution_count": 37,
     "metadata": {},
     "output_type": "execute_result"
    }
   ],
   "source": [
    "sum([data[feature].nunique() for feature in categorical_features])"
   ]
  },
  {
   "cell_type": "markdown",
   "id": "95ac0f21",
   "metadata": {},
   "source": [
    "Кодируем категориальные признаки с помощью one-hot-encoding:"
   ]
  },
  {
   "cell_type": "code",
   "execution_count": 38,
   "id": "85b33b2c",
   "metadata": {
    "scrolled": true
   },
   "outputs": [
    {
     "data": {
      "text/html": [
       "<style>#sk-container-id-1 {color: black;background-color: white;}#sk-container-id-1 pre{padding: 0;}#sk-container-id-1 div.sk-toggleable {background-color: white;}#sk-container-id-1 label.sk-toggleable__label {cursor: pointer;display: block;width: 100%;margin-bottom: 0;padding: 0.3em;box-sizing: border-box;text-align: center;}#sk-container-id-1 label.sk-toggleable__label-arrow:before {content: \"▸\";float: left;margin-right: 0.25em;color: #696969;}#sk-container-id-1 label.sk-toggleable__label-arrow:hover:before {color: black;}#sk-container-id-1 div.sk-estimator:hover label.sk-toggleable__label-arrow:before {color: black;}#sk-container-id-1 div.sk-toggleable__content {max-height: 0;max-width: 0;overflow: hidden;text-align: left;background-color: #f0f8ff;}#sk-container-id-1 div.sk-toggleable__content pre {margin: 0.2em;color: black;border-radius: 0.25em;background-color: #f0f8ff;}#sk-container-id-1 input.sk-toggleable__control:checked~div.sk-toggleable__content {max-height: 200px;max-width: 100%;overflow: auto;}#sk-container-id-1 input.sk-toggleable__control:checked~label.sk-toggleable__label-arrow:before {content: \"▾\";}#sk-container-id-1 div.sk-estimator input.sk-toggleable__control:checked~label.sk-toggleable__label {background-color: #d4ebff;}#sk-container-id-1 div.sk-label input.sk-toggleable__control:checked~label.sk-toggleable__label {background-color: #d4ebff;}#sk-container-id-1 input.sk-hidden--visually {border: 0;clip: rect(1px 1px 1px 1px);clip: rect(1px, 1px, 1px, 1px);height: 1px;margin: -1px;overflow: hidden;padding: 0;position: absolute;width: 1px;}#sk-container-id-1 div.sk-estimator {font-family: monospace;background-color: #f0f8ff;border: 1px dotted black;border-radius: 0.25em;box-sizing: border-box;margin-bottom: 0.5em;}#sk-container-id-1 div.sk-estimator:hover {background-color: #d4ebff;}#sk-container-id-1 div.sk-parallel-item::after {content: \"\";width: 100%;border-bottom: 1px solid gray;flex-grow: 1;}#sk-container-id-1 div.sk-label:hover label.sk-toggleable__label {background-color: #d4ebff;}#sk-container-id-1 div.sk-serial::before {content: \"\";position: absolute;border-left: 1px solid gray;box-sizing: border-box;top: 0;bottom: 0;left: 50%;z-index: 0;}#sk-container-id-1 div.sk-serial {display: flex;flex-direction: column;align-items: center;background-color: white;padding-right: 0.2em;padding-left: 0.2em;position: relative;}#sk-container-id-1 div.sk-item {position: relative;z-index: 1;}#sk-container-id-1 div.sk-parallel {display: flex;align-items: stretch;justify-content: center;background-color: white;position: relative;}#sk-container-id-1 div.sk-item::before, #sk-container-id-1 div.sk-parallel-item::before {content: \"\";position: absolute;border-left: 1px solid gray;box-sizing: border-box;top: 0;bottom: 0;left: 50%;z-index: -1;}#sk-container-id-1 div.sk-parallel-item {display: flex;flex-direction: column;z-index: 1;position: relative;background-color: white;}#sk-container-id-1 div.sk-parallel-item:first-child::after {align-self: flex-end;width: 50%;}#sk-container-id-1 div.sk-parallel-item:last-child::after {align-self: flex-start;width: 50%;}#sk-container-id-1 div.sk-parallel-item:only-child::after {width: 0;}#sk-container-id-1 div.sk-dashed-wrapped {border: 1px dashed gray;margin: 0 0.4em 0.5em 0.4em;box-sizing: border-box;padding-bottom: 0.4em;background-color: white;}#sk-container-id-1 div.sk-label label {font-family: monospace;font-weight: bold;display: inline-block;line-height: 1.2em;}#sk-container-id-1 div.sk-label-container {text-align: center;}#sk-container-id-1 div.sk-container {/* jupyter's `normalize.less` sets `[hidden] { display: none; }` but bootstrap.min.css set `[hidden] { display: none !important; }` so we also need the `!important` here to be able to override the default hidden behavior on the sphinx rendered scikit-learn.org. See: https://github.com/scikit-learn/scikit-learn/issues/21755 */display: inline-block !important;position: relative;}#sk-container-id-1 div.sk-text-repr-fallback {display: none;}</style><div id=\"sk-container-id-1\" class=\"sk-top-container\"><div class=\"sk-text-repr-fallback\"><pre>OneHotEncoder()</pre><b>In a Jupyter environment, please rerun this cell to show the HTML representation or trust the notebook. <br />On GitHub, the HTML representation is unable to render, please try loading this page with nbviewer.org.</b></div><div class=\"sk-container\" hidden><div class=\"sk-item\"><div class=\"sk-estimator sk-toggleable\"><input class=\"sk-toggleable__control sk-hidden--visually\" id=\"sk-estimator-id-1\" type=\"checkbox\" checked><label for=\"sk-estimator-id-1\" class=\"sk-toggleable__label sk-toggleable__label-arrow\">OneHotEncoder</label><div class=\"sk-toggleable__content\"><pre>OneHotEncoder()</pre></div></div></div></div></div>"
      ],
      "text/plain": [
       "OneHotEncoder()"
      ]
     },
     "execution_count": 38,
     "metadata": {},
     "output_type": "execute_result"
    }
   ],
   "source": [
    "from sklearn.preprocessing import OneHotEncoder\n",
    "\n",
    "\n",
    "encoder = OneHotEncoder()\n",
    "encoder.fit(data[categorical_features])"
   ]
  },
  {
   "cell_type": "code",
   "execution_count": 46,
   "id": "3ab01516",
   "metadata": {},
   "outputs": [],
   "source": [
    "categories = []\n",
    "for i, feature in enumerate(categorical_features):\n",
    "    categories.extend([f'{feature}: {value}' for value in encoder.categories_[i]])"
   ]
  },
  {
   "cell_type": "code",
   "execution_count": 50,
   "id": "380e6b0c",
   "metadata": {},
   "outputs": [],
   "source": [
    "data.loc[:, categories] = encoder.transform(data[categorical_features]).toarray()"
   ]
  },
  {
   "cell_type": "markdown",
   "id": "5ad8c0a6",
   "metadata": {},
   "source": [
    "В итоге категориальные признаки имеет следующий вид:"
   ]
  },
  {
   "cell_type": "code",
   "execution_count": null,
   "id": "b31bf290",
   "metadata": {},
   "outputs": [],
   "source": []
  },
  {
   "cell_type": "markdown",
   "id": "c399965d",
   "metadata": {},
   "source": [
    "## Построение модели"
   ]
  },
  {
   "cell_type": "markdown",
   "id": "f6776074",
   "metadata": {},
   "source": [
    "Делим данные на обучение и тест:"
   ]
  },
  {
   "cell_type": "code",
   "execution_count": 62,
   "id": "bf67fee1",
   "metadata": {},
   "outputs": [],
   "source": [
    "from sklearn.model_selection import train_test_split\n",
    "\n",
    "\n",
    "features = numerical_features + categories\n",
    "X = data[features]\n",
    "y = data['Rating']\n",
    "X_train, X_test, y_train, y_test = train_test_split(X, y, test_size=0.3, stratify=y)"
   ]
  },
  {
   "cell_type": "markdown",
   "id": "941f7327",
   "metadata": {},
   "source": [
    "Посмотрим как стратификация повлияла на распределения целевых признаков в обучающей и тестовой выборках"
   ]
  },
  {
   "cell_type": "code",
   "execution_count": 59,
   "id": "6fc28943",
   "metadata": {},
   "outputs": [
    {
     "data": {
      "text/plain": [
       "3.50    0.218153\n",
       "3.00    0.190287\n",
       "3.25    0.168790\n",
       "2.75    0.144108\n",
       "3.75    0.117038\n",
       "2.50    0.070860\n",
       "4.00    0.054936\n",
       "2.00    0.017516\n",
       "2.25    0.007962\n",
       "1.50    0.005573\n",
       "1.00    0.002389\n",
       "1.75    0.001592\n",
       "5.00    0.000796\n",
       "Name: Rating, dtype: float64"
      ]
     },
     "execution_count": 59,
     "metadata": {},
     "output_type": "execute_result"
    }
   ],
   "source": [
    "y_train.value_counts() / y_train.shape[0]"
   ]
  },
  {
   "cell_type": "code",
   "execution_count": 60,
   "id": "c229502a",
   "metadata": {},
   "outputs": [
    {
     "data": {
      "text/plain": [
       "3.50    0.218924\n",
       "3.00    0.189239\n",
       "3.25    0.168831\n",
       "2.75    0.144712\n",
       "3.75    0.116883\n",
       "2.50    0.070501\n",
       "4.00    0.053803\n",
       "2.00    0.018553\n",
       "2.25    0.007421\n",
       "1.50    0.005566\n",
       "5.00    0.001855\n",
       "1.75    0.001855\n",
       "1.00    0.001855\n",
       "Name: Rating, dtype: float64"
      ]
     },
     "execution_count": 60,
     "metadata": {},
     "output_type": "execute_result"
    }
   ],
   "source": [
    "y_test.value_counts() / y_test.shape[0]"
   ]
  },
  {
   "cell_type": "markdown",
   "id": "9ff89788",
   "metadata": {},
   "source": [
    "Инициализируем и обучаем модель с параметрами по умолчанию:"
   ]
  },
  {
   "cell_type": "code",
   "execution_count": 63,
   "id": "1e985960",
   "metadata": {},
   "outputs": [
    {
     "data": {
      "text/html": [
       "<style>#sk-container-id-2 {color: black;background-color: white;}#sk-container-id-2 pre{padding: 0;}#sk-container-id-2 div.sk-toggleable {background-color: white;}#sk-container-id-2 label.sk-toggleable__label {cursor: pointer;display: block;width: 100%;margin-bottom: 0;padding: 0.3em;box-sizing: border-box;text-align: center;}#sk-container-id-2 label.sk-toggleable__label-arrow:before {content: \"▸\";float: left;margin-right: 0.25em;color: #696969;}#sk-container-id-2 label.sk-toggleable__label-arrow:hover:before {color: black;}#sk-container-id-2 div.sk-estimator:hover label.sk-toggleable__label-arrow:before {color: black;}#sk-container-id-2 div.sk-toggleable__content {max-height: 0;max-width: 0;overflow: hidden;text-align: left;background-color: #f0f8ff;}#sk-container-id-2 div.sk-toggleable__content pre {margin: 0.2em;color: black;border-radius: 0.25em;background-color: #f0f8ff;}#sk-container-id-2 input.sk-toggleable__control:checked~div.sk-toggleable__content {max-height: 200px;max-width: 100%;overflow: auto;}#sk-container-id-2 input.sk-toggleable__control:checked~label.sk-toggleable__label-arrow:before {content: \"▾\";}#sk-container-id-2 div.sk-estimator input.sk-toggleable__control:checked~label.sk-toggleable__label {background-color: #d4ebff;}#sk-container-id-2 div.sk-label input.sk-toggleable__control:checked~label.sk-toggleable__label {background-color: #d4ebff;}#sk-container-id-2 input.sk-hidden--visually {border: 0;clip: rect(1px 1px 1px 1px);clip: rect(1px, 1px, 1px, 1px);height: 1px;margin: -1px;overflow: hidden;padding: 0;position: absolute;width: 1px;}#sk-container-id-2 div.sk-estimator {font-family: monospace;background-color: #f0f8ff;border: 1px dotted black;border-radius: 0.25em;box-sizing: border-box;margin-bottom: 0.5em;}#sk-container-id-2 div.sk-estimator:hover {background-color: #d4ebff;}#sk-container-id-2 div.sk-parallel-item::after {content: \"\";width: 100%;border-bottom: 1px solid gray;flex-grow: 1;}#sk-container-id-2 div.sk-label:hover label.sk-toggleable__label {background-color: #d4ebff;}#sk-container-id-2 div.sk-serial::before {content: \"\";position: absolute;border-left: 1px solid gray;box-sizing: border-box;top: 0;bottom: 0;left: 50%;z-index: 0;}#sk-container-id-2 div.sk-serial {display: flex;flex-direction: column;align-items: center;background-color: white;padding-right: 0.2em;padding-left: 0.2em;position: relative;}#sk-container-id-2 div.sk-item {position: relative;z-index: 1;}#sk-container-id-2 div.sk-parallel {display: flex;align-items: stretch;justify-content: center;background-color: white;position: relative;}#sk-container-id-2 div.sk-item::before, #sk-container-id-2 div.sk-parallel-item::before {content: \"\";position: absolute;border-left: 1px solid gray;box-sizing: border-box;top: 0;bottom: 0;left: 50%;z-index: -1;}#sk-container-id-2 div.sk-parallel-item {display: flex;flex-direction: column;z-index: 1;position: relative;background-color: white;}#sk-container-id-2 div.sk-parallel-item:first-child::after {align-self: flex-end;width: 50%;}#sk-container-id-2 div.sk-parallel-item:last-child::after {align-self: flex-start;width: 50%;}#sk-container-id-2 div.sk-parallel-item:only-child::after {width: 0;}#sk-container-id-2 div.sk-dashed-wrapped {border: 1px dashed gray;margin: 0 0.4em 0.5em 0.4em;box-sizing: border-box;padding-bottom: 0.4em;background-color: white;}#sk-container-id-2 div.sk-label label {font-family: monospace;font-weight: bold;display: inline-block;line-height: 1.2em;}#sk-container-id-2 div.sk-label-container {text-align: center;}#sk-container-id-2 div.sk-container {/* jupyter's `normalize.less` sets `[hidden] { display: none; }` but bootstrap.min.css set `[hidden] { display: none !important; }` so we also need the `!important` here to be able to override the default hidden behavior on the sphinx rendered scikit-learn.org. See: https://github.com/scikit-learn/scikit-learn/issues/21755 */display: inline-block !important;position: relative;}#sk-container-id-2 div.sk-text-repr-fallback {display: none;}</style><div id=\"sk-container-id-2\" class=\"sk-top-container\"><div class=\"sk-text-repr-fallback\"><pre>DecisionTreeRegressor()</pre><b>In a Jupyter environment, please rerun this cell to show the HTML representation or trust the notebook. <br />On GitHub, the HTML representation is unable to render, please try loading this page with nbviewer.org.</b></div><div class=\"sk-container\" hidden><div class=\"sk-item\"><div class=\"sk-estimator sk-toggleable\"><input class=\"sk-toggleable__control sk-hidden--visually\" id=\"sk-estimator-id-2\" type=\"checkbox\" checked><label for=\"sk-estimator-id-2\" class=\"sk-toggleable__label sk-toggleable__label-arrow\">DecisionTreeRegressor</label><div class=\"sk-toggleable__content\"><pre>DecisionTreeRegressor()</pre></div></div></div></div></div>"
      ],
      "text/plain": [
       "DecisionTreeRegressor()"
      ]
     },
     "execution_count": 63,
     "metadata": {},
     "output_type": "execute_result"
    }
   ],
   "source": [
    "from sklearn.tree import DecisionTreeRegressor\n",
    "\n",
    "tree = DecisionTreeRegressor()\n",
    "tree.fit(X_train, y_train)"
   ]
  },
  {
   "cell_type": "markdown",
   "id": "a579d449",
   "metadata": {},
   "source": [
    "Для удобства создаем функцию, которая будет возвращать метрики сразу на обучающих и тестовых данных:"
   ]
  },
  {
   "cell_type": "code",
   "execution_count": 2,
   "id": "5b9af918",
   "metadata": {},
   "outputs": [],
   "source": [
    "from sklearn.metrics import mean_absolute_error, mean_squared_error\n",
    "\n",
    "def get_metrics(model):\n",
    "    results = []\n",
    "    y_pred = model.predict(X_train)\n",
    "    mae = mean_absolute_error(y_train, y_pred)\n",
    "    mse = mean_squared_error(y_train, y_pred)\n",
    "    results.append(['Train', mae, mse])\n",
    "    y_pred = model.predict(X_test)\n",
    "    mae = mean_absolute_error(y_test, y_pred)\n",
    "    mse = mean_squared_error(y_test, y_pred)\n",
    "    results.append(['Test', mae, mse])\n",
    "    return pd.DataFrame(columns=['Group', 'MAE', 'MSE'], data=results)"
   ]
  },
  {
   "cell_type": "markdown",
   "id": "2d5ddbf6",
   "metadata": {},
   "source": [
    "С параметрами по умолчанию получили следующие метрики:"
   ]
  },
  {
   "cell_type": "code",
   "execution_count": 64,
   "id": "6fd9be7e",
   "metadata": {},
   "outputs": [
    {
     "data": {
      "text/html": [
       "<div>\n",
       "<style scoped>\n",
       "    .dataframe tbody tr th:only-of-type {\n",
       "        vertical-align: middle;\n",
       "    }\n",
       "\n",
       "    .dataframe tbody tr th {\n",
       "        vertical-align: top;\n",
       "    }\n",
       "\n",
       "    .dataframe thead th {\n",
       "        text-align: right;\n",
       "    }\n",
       "</style>\n",
       "<table border=\"1\" class=\"dataframe\">\n",
       "  <thead>\n",
       "    <tr style=\"text-align: right;\">\n",
       "      <th></th>\n",
       "      <th>Group</th>\n",
       "      <th>MAE</th>\n",
       "      <th>MSE</th>\n",
       "    </tr>\n",
       "  </thead>\n",
       "  <tbody>\n",
       "    <tr>\n",
       "      <th>0</th>\n",
       "      <td>Train</td>\n",
       "      <td>0.008360</td>\n",
       "      <td>0.002405</td>\n",
       "    </tr>\n",
       "    <tr>\n",
       "      <th>1</th>\n",
       "      <td>Test</td>\n",
       "      <td>0.417517</td>\n",
       "      <td>0.291651</td>\n",
       "    </tr>\n",
       "  </tbody>\n",
       "</table>\n",
       "</div>"
      ],
      "text/plain": [
       "   Group       MAE       MSE\n",
       "0  Train  0.008360  0.002405\n",
       "1   Test  0.417517  0.291651"
      ]
     },
     "execution_count": 64,
     "metadata": {},
     "output_type": "execute_result"
    }
   ],
   "source": [
    "get_metrics(tree)"
   ]
  },
  {
   "cell_type": "markdown",
   "id": "50ced61b",
   "metadata": {},
   "source": [
    "Сделаем подбор гиперпараметров по сетке c помощью кросс валидации:"
   ]
  },
  {
   "cell_type": "markdown",
   "id": "d91ddcfb",
   "metadata": {},
   "source": [
    "![title](grid_search_cross_validation.png)\n",
    "***Как работает кросс валидация:***\n",
    "\n",
    "*При оценке модели имеющиеся в наличии данные разбиваются на k частей. Затем на k-1 частях данных производится обучение модели, а оставшаяся часть данных используется для тестирования. Процедура повторяется k раз; в итоге каждая из k частей данных используется для тестирования. В результате получается оценка эффективности выбранной модели с наиболее равномерным использованием имеющихся данных.*"
   ]
  },
  {
   "cell_type": "code",
   "execution_count": 66,
   "id": "fb743151",
   "metadata": {},
   "outputs": [
    {
     "data": {
      "text/html": [
       "<style>#sk-container-id-3 {color: black;background-color: white;}#sk-container-id-3 pre{padding: 0;}#sk-container-id-3 div.sk-toggleable {background-color: white;}#sk-container-id-3 label.sk-toggleable__label {cursor: pointer;display: block;width: 100%;margin-bottom: 0;padding: 0.3em;box-sizing: border-box;text-align: center;}#sk-container-id-3 label.sk-toggleable__label-arrow:before {content: \"▸\";float: left;margin-right: 0.25em;color: #696969;}#sk-container-id-3 label.sk-toggleable__label-arrow:hover:before {color: black;}#sk-container-id-3 div.sk-estimator:hover label.sk-toggleable__label-arrow:before {color: black;}#sk-container-id-3 div.sk-toggleable__content {max-height: 0;max-width: 0;overflow: hidden;text-align: left;background-color: #f0f8ff;}#sk-container-id-3 div.sk-toggleable__content pre {margin: 0.2em;color: black;border-radius: 0.25em;background-color: #f0f8ff;}#sk-container-id-3 input.sk-toggleable__control:checked~div.sk-toggleable__content {max-height: 200px;max-width: 100%;overflow: auto;}#sk-container-id-3 input.sk-toggleable__control:checked~label.sk-toggleable__label-arrow:before {content: \"▾\";}#sk-container-id-3 div.sk-estimator input.sk-toggleable__control:checked~label.sk-toggleable__label {background-color: #d4ebff;}#sk-container-id-3 div.sk-label input.sk-toggleable__control:checked~label.sk-toggleable__label {background-color: #d4ebff;}#sk-container-id-3 input.sk-hidden--visually {border: 0;clip: rect(1px 1px 1px 1px);clip: rect(1px, 1px, 1px, 1px);height: 1px;margin: -1px;overflow: hidden;padding: 0;position: absolute;width: 1px;}#sk-container-id-3 div.sk-estimator {font-family: monospace;background-color: #f0f8ff;border: 1px dotted black;border-radius: 0.25em;box-sizing: border-box;margin-bottom: 0.5em;}#sk-container-id-3 div.sk-estimator:hover {background-color: #d4ebff;}#sk-container-id-3 div.sk-parallel-item::after {content: \"\";width: 100%;border-bottom: 1px solid gray;flex-grow: 1;}#sk-container-id-3 div.sk-label:hover label.sk-toggleable__label {background-color: #d4ebff;}#sk-container-id-3 div.sk-serial::before {content: \"\";position: absolute;border-left: 1px solid gray;box-sizing: border-box;top: 0;bottom: 0;left: 50%;z-index: 0;}#sk-container-id-3 div.sk-serial {display: flex;flex-direction: column;align-items: center;background-color: white;padding-right: 0.2em;padding-left: 0.2em;position: relative;}#sk-container-id-3 div.sk-item {position: relative;z-index: 1;}#sk-container-id-3 div.sk-parallel {display: flex;align-items: stretch;justify-content: center;background-color: white;position: relative;}#sk-container-id-3 div.sk-item::before, #sk-container-id-3 div.sk-parallel-item::before {content: \"\";position: absolute;border-left: 1px solid gray;box-sizing: border-box;top: 0;bottom: 0;left: 50%;z-index: -1;}#sk-container-id-3 div.sk-parallel-item {display: flex;flex-direction: column;z-index: 1;position: relative;background-color: white;}#sk-container-id-3 div.sk-parallel-item:first-child::after {align-self: flex-end;width: 50%;}#sk-container-id-3 div.sk-parallel-item:last-child::after {align-self: flex-start;width: 50%;}#sk-container-id-3 div.sk-parallel-item:only-child::after {width: 0;}#sk-container-id-3 div.sk-dashed-wrapped {border: 1px dashed gray;margin: 0 0.4em 0.5em 0.4em;box-sizing: border-box;padding-bottom: 0.4em;background-color: white;}#sk-container-id-3 div.sk-label label {font-family: monospace;font-weight: bold;display: inline-block;line-height: 1.2em;}#sk-container-id-3 div.sk-label-container {text-align: center;}#sk-container-id-3 div.sk-container {/* jupyter's `normalize.less` sets `[hidden] { display: none; }` but bootstrap.min.css set `[hidden] { display: none !important; }` so we also need the `!important` here to be able to override the default hidden behavior on the sphinx rendered scikit-learn.org. See: https://github.com/scikit-learn/scikit-learn/issues/21755 */display: inline-block !important;position: relative;}#sk-container-id-3 div.sk-text-repr-fallback {display: none;}</style><div id=\"sk-container-id-3\" class=\"sk-top-container\"><div class=\"sk-text-repr-fallback\"><pre>GridSearchCV(estimator=DecisionTreeRegressor(),\n",
       "             param_grid={&#x27;criterion&#x27;: [&#x27;absolute_error&#x27;, &#x27;squared_error&#x27;],\n",
       "                         &#x27;max_depth&#x27;: [1, 2, 5, 10, None],\n",
       "                         &#x27;min_samples_leaf&#x27;: [1, 2, 5, 10, 20, 100]})</pre><b>In a Jupyter environment, please rerun this cell to show the HTML representation or trust the notebook. <br />On GitHub, the HTML representation is unable to render, please try loading this page with nbviewer.org.</b></div><div class=\"sk-container\" hidden><div class=\"sk-item sk-dashed-wrapped\"><div class=\"sk-label-container\"><div class=\"sk-label sk-toggleable\"><input class=\"sk-toggleable__control sk-hidden--visually\" id=\"sk-estimator-id-3\" type=\"checkbox\" ><label for=\"sk-estimator-id-3\" class=\"sk-toggleable__label sk-toggleable__label-arrow\">GridSearchCV</label><div class=\"sk-toggleable__content\"><pre>GridSearchCV(estimator=DecisionTreeRegressor(),\n",
       "             param_grid={&#x27;criterion&#x27;: [&#x27;absolute_error&#x27;, &#x27;squared_error&#x27;],\n",
       "                         &#x27;max_depth&#x27;: [1, 2, 5, 10, None],\n",
       "                         &#x27;min_samples_leaf&#x27;: [1, 2, 5, 10, 20, 100]})</pre></div></div></div><div class=\"sk-parallel\"><div class=\"sk-parallel-item\"><div class=\"sk-item\"><div class=\"sk-label-container\"><div class=\"sk-label sk-toggleable\"><input class=\"sk-toggleable__control sk-hidden--visually\" id=\"sk-estimator-id-4\" type=\"checkbox\" ><label for=\"sk-estimator-id-4\" class=\"sk-toggleable__label sk-toggleable__label-arrow\">estimator: DecisionTreeRegressor</label><div class=\"sk-toggleable__content\"><pre>DecisionTreeRegressor()</pre></div></div></div><div class=\"sk-serial\"><div class=\"sk-item\"><div class=\"sk-estimator sk-toggleable\"><input class=\"sk-toggleable__control sk-hidden--visually\" id=\"sk-estimator-id-5\" type=\"checkbox\" ><label for=\"sk-estimator-id-5\" class=\"sk-toggleable__label sk-toggleable__label-arrow\">DecisionTreeRegressor</label><div class=\"sk-toggleable__content\"><pre>DecisionTreeRegressor()</pre></div></div></div></div></div></div></div></div></div></div>"
      ],
      "text/plain": [
       "GridSearchCV(estimator=DecisionTreeRegressor(),\n",
       "             param_grid={'criterion': ['absolute_error', 'squared_error'],\n",
       "                         'max_depth': [1, 2, 5, 10, None],\n",
       "                         'min_samples_leaf': [1, 2, 5, 10, 20, 100]})"
      ]
     },
     "execution_count": 66,
     "metadata": {},
     "output_type": "execute_result"
    }
   ],
   "source": [
    "from sklearn.model_selection import GridSearchCV\n",
    "\n",
    "\n",
    "grid = {'criterion': ['absolute_error', 'squared_error'],\n",
    "        'max_depth': [1, 2, 5, 10, None],\n",
    "        'min_samples_leaf': [1, 2, 5, 10, 20, 100]}\n",
    "search = GridSearchCV(tree, grid)\n",
    "search.fit(X_train, y_train)"
   ]
  },
  {
   "cell_type": "code",
   "execution_count": 68,
   "id": "b3bba5b8",
   "metadata": {},
   "outputs": [
    {
     "data": {
      "text/html": [
       "<style>#sk-container-id-4 {color: black;background-color: white;}#sk-container-id-4 pre{padding: 0;}#sk-container-id-4 div.sk-toggleable {background-color: white;}#sk-container-id-4 label.sk-toggleable__label {cursor: pointer;display: block;width: 100%;margin-bottom: 0;padding: 0.3em;box-sizing: border-box;text-align: center;}#sk-container-id-4 label.sk-toggleable__label-arrow:before {content: \"▸\";float: left;margin-right: 0.25em;color: #696969;}#sk-container-id-4 label.sk-toggleable__label-arrow:hover:before {color: black;}#sk-container-id-4 div.sk-estimator:hover label.sk-toggleable__label-arrow:before {color: black;}#sk-container-id-4 div.sk-toggleable__content {max-height: 0;max-width: 0;overflow: hidden;text-align: left;background-color: #f0f8ff;}#sk-container-id-4 div.sk-toggleable__content pre {margin: 0.2em;color: black;border-radius: 0.25em;background-color: #f0f8ff;}#sk-container-id-4 input.sk-toggleable__control:checked~div.sk-toggleable__content {max-height: 200px;max-width: 100%;overflow: auto;}#sk-container-id-4 input.sk-toggleable__control:checked~label.sk-toggleable__label-arrow:before {content: \"▾\";}#sk-container-id-4 div.sk-estimator input.sk-toggleable__control:checked~label.sk-toggleable__label {background-color: #d4ebff;}#sk-container-id-4 div.sk-label input.sk-toggleable__control:checked~label.sk-toggleable__label {background-color: #d4ebff;}#sk-container-id-4 input.sk-hidden--visually {border: 0;clip: rect(1px 1px 1px 1px);clip: rect(1px, 1px, 1px, 1px);height: 1px;margin: -1px;overflow: hidden;padding: 0;position: absolute;width: 1px;}#sk-container-id-4 div.sk-estimator {font-family: monospace;background-color: #f0f8ff;border: 1px dotted black;border-radius: 0.25em;box-sizing: border-box;margin-bottom: 0.5em;}#sk-container-id-4 div.sk-estimator:hover {background-color: #d4ebff;}#sk-container-id-4 div.sk-parallel-item::after {content: \"\";width: 100%;border-bottom: 1px solid gray;flex-grow: 1;}#sk-container-id-4 div.sk-label:hover label.sk-toggleable__label {background-color: #d4ebff;}#sk-container-id-4 div.sk-serial::before {content: \"\";position: absolute;border-left: 1px solid gray;box-sizing: border-box;top: 0;bottom: 0;left: 50%;z-index: 0;}#sk-container-id-4 div.sk-serial {display: flex;flex-direction: column;align-items: center;background-color: white;padding-right: 0.2em;padding-left: 0.2em;position: relative;}#sk-container-id-4 div.sk-item {position: relative;z-index: 1;}#sk-container-id-4 div.sk-parallel {display: flex;align-items: stretch;justify-content: center;background-color: white;position: relative;}#sk-container-id-4 div.sk-item::before, #sk-container-id-4 div.sk-parallel-item::before {content: \"\";position: absolute;border-left: 1px solid gray;box-sizing: border-box;top: 0;bottom: 0;left: 50%;z-index: -1;}#sk-container-id-4 div.sk-parallel-item {display: flex;flex-direction: column;z-index: 1;position: relative;background-color: white;}#sk-container-id-4 div.sk-parallel-item:first-child::after {align-self: flex-end;width: 50%;}#sk-container-id-4 div.sk-parallel-item:last-child::after {align-self: flex-start;width: 50%;}#sk-container-id-4 div.sk-parallel-item:only-child::after {width: 0;}#sk-container-id-4 div.sk-dashed-wrapped {border: 1px dashed gray;margin: 0 0.4em 0.5em 0.4em;box-sizing: border-box;padding-bottom: 0.4em;background-color: white;}#sk-container-id-4 div.sk-label label {font-family: monospace;font-weight: bold;display: inline-block;line-height: 1.2em;}#sk-container-id-4 div.sk-label-container {text-align: center;}#sk-container-id-4 div.sk-container {/* jupyter's `normalize.less` sets `[hidden] { display: none; }` but bootstrap.min.css set `[hidden] { display: none !important; }` so we also need the `!important` here to be able to override the default hidden behavior on the sphinx rendered scikit-learn.org. See: https://github.com/scikit-learn/scikit-learn/issues/21755 */display: inline-block !important;position: relative;}#sk-container-id-4 div.sk-text-repr-fallback {display: none;}</style><div id=\"sk-container-id-4\" class=\"sk-top-container\"><div class=\"sk-text-repr-fallback\"><pre>DecisionTreeRegressor(max_depth=5, min_samples_leaf=20)</pre><b>In a Jupyter environment, please rerun this cell to show the HTML representation or trust the notebook. <br />On GitHub, the HTML representation is unable to render, please try loading this page with nbviewer.org.</b></div><div class=\"sk-container\" hidden><div class=\"sk-item\"><div class=\"sk-estimator sk-toggleable\"><input class=\"sk-toggleable__control sk-hidden--visually\" id=\"sk-estimator-id-6\" type=\"checkbox\" checked><label for=\"sk-estimator-id-6\" class=\"sk-toggleable__label sk-toggleable__label-arrow\">DecisionTreeRegressor</label><div class=\"sk-toggleable__content\"><pre>DecisionTreeRegressor(max_depth=5, min_samples_leaf=20)</pre></div></div></div></div></div>"
      ],
      "text/plain": [
       "DecisionTreeRegressor(max_depth=5, min_samples_leaf=20)"
      ]
     },
     "execution_count": 68,
     "metadata": {},
     "output_type": "execute_result"
    }
   ],
   "source": [
    "tree = DecisionTreeRegressor(**search.best_params_)\n",
    "tree.fit(X_train, y_train)"
   ]
  },
  {
   "cell_type": "code",
   "execution_count": 69,
   "id": "ebb94cba",
   "metadata": {},
   "outputs": [
    {
     "data": {
      "text/html": [
       "<div>\n",
       "<style scoped>\n",
       "    .dataframe tbody tr th:only-of-type {\n",
       "        vertical-align: middle;\n",
       "    }\n",
       "\n",
       "    .dataframe tbody tr th {\n",
       "        vertical-align: top;\n",
       "    }\n",
       "\n",
       "    .dataframe thead th {\n",
       "        text-align: right;\n",
       "    }\n",
       "</style>\n",
       "<table border=\"1\" class=\"dataframe\">\n",
       "  <thead>\n",
       "    <tr style=\"text-align: right;\">\n",
       "      <th></th>\n",
       "      <th>Group</th>\n",
       "      <th>MAE</th>\n",
       "      <th>MSE</th>\n",
       "    </tr>\n",
       "  </thead>\n",
       "  <tbody>\n",
       "    <tr>\n",
       "      <th>0</th>\n",
       "      <td>Train</td>\n",
       "      <td>0.351293</td>\n",
       "      <td>0.196502</td>\n",
       "    </tr>\n",
       "    <tr>\n",
       "      <th>1</th>\n",
       "      <td>Test</td>\n",
       "      <td>0.361941</td>\n",
       "      <td>0.204693</td>\n",
       "    </tr>\n",
       "  </tbody>\n",
       "</table>\n",
       "</div>"
      ],
      "text/plain": [
       "   Group       MAE       MSE\n",
       "0  Train  0.351293  0.196502\n",
       "1   Test  0.361941  0.204693"
      ]
     },
     "execution_count": 69,
     "metadata": {},
     "output_type": "execute_result"
    }
   ],
   "source": [
    "get_metrics(tree)"
   ]
  },
  {
   "cell_type": "markdown",
   "id": "f4d7f504",
   "metadata": {},
   "source": [
    "Обучим теперь модель с подобранными параметрами:"
   ]
  },
  {
   "cell_type": "code",
   "execution_count": null,
   "id": "8ce49aac",
   "metadata": {},
   "outputs": [],
   "source": []
  },
  {
   "cell_type": "code",
   "execution_count": null,
   "id": "2aa825cc",
   "metadata": {},
   "outputs": [],
   "source": []
  },
  {
   "cell_type": "code",
   "execution_count": null,
   "id": "55c07a6d",
   "metadata": {},
   "outputs": [],
   "source": []
  },
  {
   "cell_type": "markdown",
   "id": "a373dcae",
   "metadata": {},
   "source": [
    "## Бонусы деревьев решений"
   ]
  },
  {
   "cell_type": "markdown",
   "id": "95511e3a",
   "metadata": {},
   "source": [
    "Как говорили на лекции, деревья решений позволяют делать отбор признаков:"
   ]
  },
  {
   "cell_type": "code",
   "execution_count": 73,
   "id": "1b7858f9",
   "metadata": {},
   "outputs": [
    {
     "data": {
      "text/html": [
       "<div>\n",
       "<style scoped>\n",
       "    .dataframe tbody tr th:only-of-type {\n",
       "        vertical-align: middle;\n",
       "    }\n",
       "\n",
       "    .dataframe tbody tr th {\n",
       "        vertical-align: top;\n",
       "    }\n",
       "\n",
       "    .dataframe thead th {\n",
       "        text-align: right;\n",
       "    }\n",
       "</style>\n",
       "<table border=\"1\" class=\"dataframe\">\n",
       "  <thead>\n",
       "    <tr style=\"text-align: right;\">\n",
       "      <th></th>\n",
       "      <th>feature</th>\n",
       "      <th>importance</th>\n",
       "    </tr>\n",
       "  </thead>\n",
       "  <tbody>\n",
       "    <tr>\n",
       "      <th>2</th>\n",
       "      <td>cocoa</td>\n",
       "      <td>0.495626</td>\n",
       "    </tr>\n",
       "    <tr>\n",
       "      <th>0</th>\n",
       "      <td>REF</td>\n",
       "      <td>0.209519</td>\n",
       "    </tr>\n",
       "    <tr>\n",
       "      <th>12</th>\n",
       "      <td>company: Other</td>\n",
       "      <td>0.162240</td>\n",
       "    </tr>\n",
       "    <tr>\n",
       "      <th>21</th>\n",
       "      <td>origin: Peru</td>\n",
       "      <td>0.111302</td>\n",
       "    </tr>\n",
       "    <tr>\n",
       "      <th>38</th>\n",
       "      <td>location: U.S.A.</td>\n",
       "      <td>0.021313</td>\n",
       "    </tr>\n",
       "    <tr>\n",
       "      <th>42</th>\n",
       "      <td>bean_origin: Brazil</td>\n",
       "      <td>0.000000</td>\n",
       "    </tr>\n",
       "    <tr>\n",
       "      <th>43</th>\n",
       "      <td>bean_origin: Colombia</td>\n",
       "      <td>0.000000</td>\n",
       "    </tr>\n",
       "    <tr>\n",
       "      <th>44</th>\n",
       "      <td>bean_origin: Costa Rica</td>\n",
       "      <td>0.000000</td>\n",
       "    </tr>\n",
       "    <tr>\n",
       "      <th>45</th>\n",
       "      <td>bean_origin: Domincan Republic</td>\n",
       "      <td>0.000000</td>\n",
       "    </tr>\n",
       "    <tr>\n",
       "      <th>46</th>\n",
       "      <td>bean_origin: Dominican Republic</td>\n",
       "      <td>0.000000</td>\n",
       "    </tr>\n",
       "  </tbody>\n",
       "</table>\n",
       "</div>"
      ],
      "text/plain": [
       "                            feature  importance\n",
       "2                             cocoa    0.495626\n",
       "0                               REF    0.209519\n",
       "12                   company: Other    0.162240\n",
       "21                     origin: Peru    0.111302\n",
       "38                 location: U.S.A.    0.021313\n",
       "42              bean_origin: Brazil    0.000000\n",
       "43            bean_origin: Colombia    0.000000\n",
       "44          bean_origin: Costa Rica    0.000000\n",
       "45   bean_origin: Domincan Republic    0.000000\n",
       "46  bean_origin: Dominican Republic    0.000000"
      ]
     },
     "execution_count": 73,
     "metadata": {},
     "output_type": "execute_result"
    }
   ],
   "source": [
    "pd.DataFrame({'feature': features, 'importance': tree.feature_importances_}).sort_values('importance', ascending=False).iloc[:10]"
   ]
  },
  {
   "cell_type": "markdown",
   "id": "752ae65f",
   "metadata": {},
   "source": [
    "Кроме того, деревья хорошо интерпретируемы:"
   ]
  },
  {
   "cell_type": "code",
   "execution_count": 78,
   "id": "5628b716",
   "metadata": {},
   "outputs": [
    {
     "data": {
      "text/plain": [
       "[Text(0.5, 0.8333333333333334, 'cocoa <= 90.5\\nsquared_error = 0.228\\nsamples = 1256\\nvalue = 3.186'),\n",
       " Text(0.25, 0.5, 'company: Other <= 0.5\\nsquared_error = 0.213\\nsamples = 1237\\nvalue = 3.199'),\n",
       " Text(0.125, 0.16666666666666666, 'squared_error = 0.174\\nsamples = 202\\nvalue = 3.363'),\n",
       " Text(0.375, 0.16666666666666666, 'squared_error = 0.214\\nsamples = 1035\\nvalue = 3.167'),\n",
       " Text(0.75, 0.5, 'REF <= 765.0\\nsquared_error = 0.474\\nsamples = 19\\nvalue = 2.329'),\n",
       " Text(0.625, 0.16666666666666666, 'squared_error = 0.376\\nsamples = 10\\nvalue = 1.925'),\n",
       " Text(0.875, 0.16666666666666666, 'squared_error = 0.201\\nsamples = 9\\nvalue = 2.778')]"
      ]
     },
     "execution_count": 78,
     "metadata": {},
     "output_type": "execute_result"
    },
    {
     "data": {
      "image/png": "[encoded data removed]",
      "text/plain": [
       "<Figure size 640x480 with 1 Axes>"
      ]
     },
     "metadata": {},
     "output_type": "display_data"
    }
   ],
   "source": [
    "from sklearn.tree import plot_tree\n",
    "\n",
    "tree = DecisionTreeRegressor(max_depth=2)\n",
    "tree.fit(X_train, y_train)\n",
    "plot_tree(tree, feature_names=features)"
   ]
  },
  {
   "cell_type": "code",
   "execution_count": 89,
   "id": "6c6c0ed3",
   "metadata": {},
   "outputs": [],
   "source": [
    "bar = {\n",
    "    'REF': 1500,\n",
    "    'Review Date': 2016,\n",
    "    'company': 'Other',\n",
    "    'origin': 'Ecuador',\n",
    "    'location': 'Italy',\n",
    "    'cocoa': 95,\n",
    "    'bean_origin': 'Ecuador',\n",
    "    'bean_type': 'Forastero (Arriba)'\n",
    "}\n",
    "bar = pd.DataFrame(bar, index=[0])\n",
    "bar[categories] = encoder.transform(bar[categorical_features]).toarray().astype(int)"
   ]
  },
  {
   "cell_type": "code",
   "execution_count": 88,
   "id": "e400154f",
   "metadata": {},
   "outputs": [
    {
     "data": {
      "text/plain": [
       "array([3.16666667])"
      ]
     },
     "execution_count": 88,
     "metadata": {},
     "output_type": "execute_result"
    }
   ],
   "source": [
    "tree.predict(bar[features])"
   ]
  },
  {
   "cell_type": "code",
   "execution_count": 90,
   "id": "63a440c7",
   "metadata": {},
   "outputs": [
    {
     "data": {
      "text/plain": [
       "array([2.77777778])"
      ]
     },
     "execution_count": 90,
     "metadata": {},
     "output_type": "execute_result"
    }
   ],
   "source": [
    "tree.predict(bar[features])"
   ]
  },
  {
   "cell_type": "code",
   "execution_count": null,
   "id": "a8f7cf28",
   "metadata": {},
   "outputs": [],
   "source": []
  }
 ],
 "metadata": {
  "kernelspec": {
   "display_name": "Python 3 (ipykernel)",
   "language": "python",
   "name": "python3"
  },
  "language_info": {
   "codemirror_mode": {
    "name": "ipython",
    "version": 3
   },
   "file_extension": ".py",
   "mimetype": "text/x-python",
   "name": "python",
   "nbconvert_exporter": "python",
   "pygments_lexer": "ipython3",
   "version": "3.9.16"
  },
  "varInspector": {
   "cols": {
    "lenName": 16,
    "lenType": 16,
    "lenVar": 40
   },
   "kernels_config": {
    "python": {
     "delete_cmd_postfix": "",
     "delete_cmd_prefix": "del ",
     "library": "var_list.py",
     "varRefreshCmd": "print(var_dic_list())"
    },
    "r": {
     "delete_cmd_postfix": ") ",
     "delete_cmd_prefix": "rm(",
     "library": "var_list.r",
     "varRefreshCmd": "cat(var_dic_list()) "
    }
   },
   "types_to_exclude": [
    "module",
    "function",
    "builtin_function_or_method",
    "instance",
    "_Feature"
   ],
   "window_display": false
  }
 },
 "nbformat": 4,
 "nbformat_minor": 5
}
