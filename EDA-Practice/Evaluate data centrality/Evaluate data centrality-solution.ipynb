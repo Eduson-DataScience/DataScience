{
 "cells": [
  {
   "cell_type": "markdown",
   "id": "97d0bd1b",
   "metadata": {},
   "source": [
    "# Оцените центральное положение данных\n",
    "## Условие задачи\n",
    "\n",
    "Вам предоставлен набор данных о зарплатах сотрудников в компании. Ваша цель — визуально оценить центральное положение данных, определить среднюю и медианную зарплату в компании.\n",
    "\n",
    "**Алгоритм решения:**\n",
    "\n",
    "- Загрузите данные из CSV-файла в DataFrame.\n",
    "- Рассчитайте среднее значение и медиану зарплаты.\n",
    "- Визуализируйте распределение зарплат с помощью гистограммы.\n",
    "- Выведите результаты оценки центрального положения данных.\n",
    "\n",
    "## Данные для работы\n",
    "\n",
    "[salary_data.csv](https://github.com/Eduson-DataScience/DataScience/blob/main/EDA-Practice/Evaluate%20data%20centrality/salary_data.csv)\n",
    "\n",
    "## Подсказки\n",
    "\n",
    "- Проверьте, что у вас есть файл с данными (salary_data.csv) и он находится в том же каталоге, что и ваш скрипт.\n",
    "- Используйте функции **`mean()`** и **`median()`** для расчета среднего значения и медианы.\n",
    "- Используйте функцию **`hist()`** из библиотеки matplotlib или **`histplot`** из seaborn для создания гистограммы распределения.\n",
    "- Обратите внимание на подписи осей и заголовки графиков для наглядности."
   ]
  },
  {
   "cell_type": "markdown",
   "id": "2e3d0c18",
   "metadata": {},
   "source": [
    "Из проведенного анализа данных можно сделать следующие выводы:\n",
    "\n",
    "## **data1.csv**\n",
    "Типы переменных в этом датасете:\n",
    "- ID — integer, \n",
    "- Name — object, \n",
    "- Age — integer, \n",
    "- Salary — integer,\n",
    "\n",
    "## **data2.csv**\n",
    "Типы переменных в этом датасете:\n",
    "- Date — object, \n",
    "- Open — float, \n",
    "- High — integer, \n",
    "- Low — integer, \n",
    "- Close — integer, \n",
    "- Volume — integer,\n",
    "\n",
    "## **data3.csv**\n",
    "Типы переменных в этом датасете:\n",
    "- Country — object,\n",
    "- City — object,\n",
    "- Population — integer, целочисленный тип,\n",
    "- Area — float, число с плавающей запятой."
   ]
  },
  {
   "cell_type": "code",
   "execution_count": null,
   "id": "47f7651a",
   "metadata": {},
   "outputs": [],
   "source": [
    "import pandas as pd\n",
    "import matplotlib.pyplot as plt\n",
    "\n",
    "# Загрузка данных из CSV-файла\n",
    "data = pd.read_csv('salary_data.csv')\n",
    "\n",
    "# Рассчет среднего значения и медианы\n",
    "mean_salary = data['salary'].mean()\n",
    "median_salary = data['salary'].median()\n",
    "\n",
    "# Визуализация распределения зарплат\n",
    "plt.figure(figsize=(8, 6))\n",
    "plt.hist(data['salary'], bins=10, edgecolor='black')\n",
    "plt.xlabel('Зарплата')\n",
    "plt.ylabel('Частота')\n",
    "plt.title('Распределение зарплат')\n",
    "plt.show()\n",
    "\n",
    "# Вывод результатов\n",
    "print(\"Средняя зарплата: \", mean_salary)\n",
    "print(\"Медиана зарплаты: \", median_salary)"
   ]
  },
  {
   "cell_type": "markdown",
   "id": "ec1ec3fd",
   "metadata": {},
   "source": [
    "Средняя зарплата:  3690.0\n",
    "Медиана зарплаты:  3750.0"
   ]
  },
  {
   "cell_type": "markdown",
   "id": "3adc5723",
   "metadata": {},
   "source": []
  }
 ],
 "metadata": {
  "kernelspec": {
   "display_name": "Python 3 (ipykernel)",
   "language": "python",
   "name": "python3"
  },
  "language_info": {
   "codemirror_mode": {
    "name": "ipython",
    "version": 3
   },
   "file_extension": ".py",
   "mimetype": "text/x-python",
   "name": "python",
   "nbconvert_exporter": "python",
   "pygments_lexer": "ipython3",
   "version": "3.9.13"
  }
 },
 "nbformat": 4,
 "nbformat_minor": 5
}
