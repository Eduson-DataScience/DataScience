{
 "cells": [
  {
   "cell_type": "markdown",
   "id": "9fafd70e",
   "metadata": {},
   "source": [
    "# Случайный лес. Практика."
   ]
  },
  {
   "cell_type": "markdown",
   "id": "41907d27",
   "metadata": {},
   "source": [
    "## Подготовка данных"
   ]
  },
  {
   "cell_type": "markdown",
   "id": "48d3c9de",
   "metadata": {},
   "source": [
    "Данные, с которыми мы сегодня работаем взяты с платформы Kaggle: https://www.kaggle.com/datasets/jsphyg/weather-dataset-rattle-package"
   ]
  },
  {
   "cell_type": "markdown",
   "id": "dd37701c",
   "metadata": {},
   "source": [
    "**Задача**: по метеорологическим данным на сегодняшний день предсказывать наличие дождя завтра\n",
    "\n",
    "**Тип**: бинарная классификация"
   ]
  },
  {
   "cell_type": "markdown",
   "id": "95f05eeb",
   "metadata": {},
   "source": [
    "Загрузим и посмотрим данные"
   ]
  },
  {
   "cell_type": "code",
   "execution_count": 1,
   "id": "a77705b0",
   "metadata": {},
   "outputs": [
    {
     "data": {
      "text/html": [
       "<div>\n",
       "<style scoped>\n",
       "    .dataframe tbody tr th:only-of-type {\n",
       "        vertical-align: middle;\n",
       "    }\n",
       "\n",
       "    .dataframe tbody tr th {\n",
       "        vertical-align: top;\n",
       "    }\n",
       "\n",
       "    .dataframe thead th {\n",
       "        text-align: right;\n",
       "    }\n",
       "</style>\n",
       "<table border=\"1\" class=\"dataframe\">\n",
       "  <thead>\n",
       "    <tr style=\"text-align: right;\">\n",
       "      <th></th>\n",
       "      <th>Date</th>\n",
       "      <th>Location</th>\n",
       "      <th>MinTemp</th>\n",
       "      <th>MaxTemp</th>\n",
       "      <th>Rainfall</th>\n",
       "      <th>Evaporation</th>\n",
       "      <th>Sunshine</th>\n",
       "      <th>WindGustDir</th>\n",
       "      <th>WindGustSpeed</th>\n",
       "      <th>WindDir9am</th>\n",
       "      <th>...</th>\n",
       "      <th>Humidity9am</th>\n",
       "      <th>Humidity3pm</th>\n",
       "      <th>Pressure9am</th>\n",
       "      <th>Pressure3pm</th>\n",
       "      <th>Cloud9am</th>\n",
       "      <th>Cloud3pm</th>\n",
       "      <th>Temp9am</th>\n",
       "      <th>Temp3pm</th>\n",
       "      <th>RainToday</th>\n",
       "      <th>RainTomorrow</th>\n",
       "    </tr>\n",
       "  </thead>\n",
       "  <tbody>\n",
       "    <tr>\n",
       "      <th>0</th>\n",
       "      <td>2008-12-01</td>\n",
       "      <td>Albury</td>\n",
       "      <td>13.4</td>\n",
       "      <td>22.9</td>\n",
       "      <td>0.6</td>\n",
       "      <td>NaN</td>\n",
       "      <td>NaN</td>\n",
       "      <td>W</td>\n",
       "      <td>44.0</td>\n",
       "      <td>W</td>\n",
       "      <td>...</td>\n",
       "      <td>71.0</td>\n",
       "      <td>22.0</td>\n",
       "      <td>1007.7</td>\n",
       "      <td>1007.1</td>\n",
       "      <td>8.0</td>\n",
       "      <td>NaN</td>\n",
       "      <td>16.9</td>\n",
       "      <td>21.8</td>\n",
       "      <td>No</td>\n",
       "      <td>No</td>\n",
       "    </tr>\n",
       "    <tr>\n",
       "      <th>1</th>\n",
       "      <td>2008-12-02</td>\n",
       "      <td>Albury</td>\n",
       "      <td>7.4</td>\n",
       "      <td>25.1</td>\n",
       "      <td>0.0</td>\n",
       "      <td>NaN</td>\n",
       "      <td>NaN</td>\n",
       "      <td>WNW</td>\n",
       "      <td>44.0</td>\n",
       "      <td>NNW</td>\n",
       "      <td>...</td>\n",
       "      <td>44.0</td>\n",
       "      <td>25.0</td>\n",
       "      <td>1010.6</td>\n",
       "      <td>1007.8</td>\n",
       "      <td>NaN</td>\n",
       "      <td>NaN</td>\n",
       "      <td>17.2</td>\n",
       "      <td>24.3</td>\n",
       "      <td>No</td>\n",
       "      <td>No</td>\n",
       "    </tr>\n",
       "    <tr>\n",
       "      <th>2</th>\n",
       "      <td>2008-12-03</td>\n",
       "      <td>Albury</td>\n",
       "      <td>12.9</td>\n",
       "      <td>25.7</td>\n",
       "      <td>0.0</td>\n",
       "      <td>NaN</td>\n",
       "      <td>NaN</td>\n",
       "      <td>WSW</td>\n",
       "      <td>46.0</td>\n",
       "      <td>W</td>\n",
       "      <td>...</td>\n",
       "      <td>38.0</td>\n",
       "      <td>30.0</td>\n",
       "      <td>1007.6</td>\n",
       "      <td>1008.7</td>\n",
       "      <td>NaN</td>\n",
       "      <td>2.0</td>\n",
       "      <td>21.0</td>\n",
       "      <td>23.2</td>\n",
       "      <td>No</td>\n",
       "      <td>No</td>\n",
       "    </tr>\n",
       "    <tr>\n",
       "      <th>3</th>\n",
       "      <td>2008-12-04</td>\n",
       "      <td>Albury</td>\n",
       "      <td>9.2</td>\n",
       "      <td>28.0</td>\n",
       "      <td>0.0</td>\n",
       "      <td>NaN</td>\n",
       "      <td>NaN</td>\n",
       "      <td>NE</td>\n",
       "      <td>24.0</td>\n",
       "      <td>SE</td>\n",
       "      <td>...</td>\n",
       "      <td>45.0</td>\n",
       "      <td>16.0</td>\n",
       "      <td>1017.6</td>\n",
       "      <td>1012.8</td>\n",
       "      <td>NaN</td>\n",
       "      <td>NaN</td>\n",
       "      <td>18.1</td>\n",
       "      <td>26.5</td>\n",
       "      <td>No</td>\n",
       "      <td>No</td>\n",
       "    </tr>\n",
       "    <tr>\n",
       "      <th>4</th>\n",
       "      <td>2008-12-05</td>\n",
       "      <td>Albury</td>\n",
       "      <td>17.5</td>\n",
       "      <td>32.3</td>\n",
       "      <td>1.0</td>\n",
       "      <td>NaN</td>\n",
       "      <td>NaN</td>\n",
       "      <td>W</td>\n",
       "      <td>41.0</td>\n",
       "      <td>ENE</td>\n",
       "      <td>...</td>\n",
       "      <td>82.0</td>\n",
       "      <td>33.0</td>\n",
       "      <td>1010.8</td>\n",
       "      <td>1006.0</td>\n",
       "      <td>7.0</td>\n",
       "      <td>8.0</td>\n",
       "      <td>17.8</td>\n",
       "      <td>29.7</td>\n",
       "      <td>No</td>\n",
       "      <td>No</td>\n",
       "    </tr>\n",
       "    <tr>\n",
       "      <th>5</th>\n",
       "      <td>2008-12-06</td>\n",
       "      <td>Albury</td>\n",
       "      <td>14.6</td>\n",
       "      <td>29.7</td>\n",
       "      <td>0.2</td>\n",
       "      <td>NaN</td>\n",
       "      <td>NaN</td>\n",
       "      <td>WNW</td>\n",
       "      <td>56.0</td>\n",
       "      <td>W</td>\n",
       "      <td>...</td>\n",
       "      <td>55.0</td>\n",
       "      <td>23.0</td>\n",
       "      <td>1009.2</td>\n",
       "      <td>1005.4</td>\n",
       "      <td>NaN</td>\n",
       "      <td>NaN</td>\n",
       "      <td>20.6</td>\n",
       "      <td>28.9</td>\n",
       "      <td>No</td>\n",
       "      <td>No</td>\n",
       "    </tr>\n",
       "    <tr>\n",
       "      <th>6</th>\n",
       "      <td>2008-12-07</td>\n",
       "      <td>Albury</td>\n",
       "      <td>14.3</td>\n",
       "      <td>25.0</td>\n",
       "      <td>0.0</td>\n",
       "      <td>NaN</td>\n",
       "      <td>NaN</td>\n",
       "      <td>W</td>\n",
       "      <td>50.0</td>\n",
       "      <td>SW</td>\n",
       "      <td>...</td>\n",
       "      <td>49.0</td>\n",
       "      <td>19.0</td>\n",
       "      <td>1009.6</td>\n",
       "      <td>1008.2</td>\n",
       "      <td>1.0</td>\n",
       "      <td>NaN</td>\n",
       "      <td>18.1</td>\n",
       "      <td>24.6</td>\n",
       "      <td>No</td>\n",
       "      <td>No</td>\n",
       "    </tr>\n",
       "    <tr>\n",
       "      <th>7</th>\n",
       "      <td>2008-12-08</td>\n",
       "      <td>Albury</td>\n",
       "      <td>7.7</td>\n",
       "      <td>26.7</td>\n",
       "      <td>0.0</td>\n",
       "      <td>NaN</td>\n",
       "      <td>NaN</td>\n",
       "      <td>W</td>\n",
       "      <td>35.0</td>\n",
       "      <td>SSE</td>\n",
       "      <td>...</td>\n",
       "      <td>48.0</td>\n",
       "      <td>19.0</td>\n",
       "      <td>1013.4</td>\n",
       "      <td>1010.1</td>\n",
       "      <td>NaN</td>\n",
       "      <td>NaN</td>\n",
       "      <td>16.3</td>\n",
       "      <td>25.5</td>\n",
       "      <td>No</td>\n",
       "      <td>No</td>\n",
       "    </tr>\n",
       "    <tr>\n",
       "      <th>8</th>\n",
       "      <td>2008-12-09</td>\n",
       "      <td>Albury</td>\n",
       "      <td>9.7</td>\n",
       "      <td>31.9</td>\n",
       "      <td>0.0</td>\n",
       "      <td>NaN</td>\n",
       "      <td>NaN</td>\n",
       "      <td>NNW</td>\n",
       "      <td>80.0</td>\n",
       "      <td>SE</td>\n",
       "      <td>...</td>\n",
       "      <td>42.0</td>\n",
       "      <td>9.0</td>\n",
       "      <td>1008.9</td>\n",
       "      <td>1003.6</td>\n",
       "      <td>NaN</td>\n",
       "      <td>NaN</td>\n",
       "      <td>18.3</td>\n",
       "      <td>30.2</td>\n",
       "      <td>No</td>\n",
       "      <td>Yes</td>\n",
       "    </tr>\n",
       "    <tr>\n",
       "      <th>9</th>\n",
       "      <td>2008-12-10</td>\n",
       "      <td>Albury</td>\n",
       "      <td>13.1</td>\n",
       "      <td>30.1</td>\n",
       "      <td>1.4</td>\n",
       "      <td>NaN</td>\n",
       "      <td>NaN</td>\n",
       "      <td>W</td>\n",
       "      <td>28.0</td>\n",
       "      <td>S</td>\n",
       "      <td>...</td>\n",
       "      <td>58.0</td>\n",
       "      <td>27.0</td>\n",
       "      <td>1007.0</td>\n",
       "      <td>1005.7</td>\n",
       "      <td>NaN</td>\n",
       "      <td>NaN</td>\n",
       "      <td>20.1</td>\n",
       "      <td>28.2</td>\n",
       "      <td>Yes</td>\n",
       "      <td>No</td>\n",
       "    </tr>\n",
       "  </tbody>\n",
       "</table>\n",
       "<p>10 rows × 23 columns</p>\n",
       "</div>"
      ],
      "text/plain": [
       "         Date Location  MinTemp  MaxTemp  Rainfall  Evaporation  Sunshine  \\\n",
       "0  2008-12-01   Albury     13.4     22.9       0.6          NaN       NaN   \n",
       "1  2008-12-02   Albury      7.4     25.1       0.0          NaN       NaN   \n",
       "2  2008-12-03   Albury     12.9     25.7       0.0          NaN       NaN   \n",
       "3  2008-12-04   Albury      9.2     28.0       0.0          NaN       NaN   \n",
       "4  2008-12-05   Albury     17.5     32.3       1.0          NaN       NaN   \n",
       "5  2008-12-06   Albury     14.6     29.7       0.2          NaN       NaN   \n",
       "6  2008-12-07   Albury     14.3     25.0       0.0          NaN       NaN   \n",
       "7  2008-12-08   Albury      7.7     26.7       0.0          NaN       NaN   \n",
       "8  2008-12-09   Albury      9.7     31.9       0.0          NaN       NaN   \n",
       "9  2008-12-10   Albury     13.1     30.1       1.4          NaN       NaN   \n",
       "\n",
       "  WindGustDir  WindGustSpeed WindDir9am  ... Humidity9am  Humidity3pm  \\\n",
       "0           W           44.0          W  ...        71.0         22.0   \n",
       "1         WNW           44.0        NNW  ...        44.0         25.0   \n",
       "2         WSW           46.0          W  ...        38.0         30.0   \n",
       "3          NE           24.0         SE  ...        45.0         16.0   \n",
       "4           W           41.0        ENE  ...        82.0         33.0   \n",
       "5         WNW           56.0          W  ...        55.0         23.0   \n",
       "6           W           50.0         SW  ...        49.0         19.0   \n",
       "7           W           35.0        SSE  ...        48.0         19.0   \n",
       "8         NNW           80.0         SE  ...        42.0          9.0   \n",
       "9           W           28.0          S  ...        58.0         27.0   \n",
       "\n",
       "   Pressure9am  Pressure3pm  Cloud9am  Cloud3pm  Temp9am  Temp3pm  RainToday  \\\n",
       "0       1007.7       1007.1       8.0       NaN     16.9     21.8         No   \n",
       "1       1010.6       1007.8       NaN       NaN     17.2     24.3         No   \n",
       "2       1007.6       1008.7       NaN       2.0     21.0     23.2         No   \n",
       "3       1017.6       1012.8       NaN       NaN     18.1     26.5         No   \n",
       "4       1010.8       1006.0       7.0       8.0     17.8     29.7         No   \n",
       "5       1009.2       1005.4       NaN       NaN     20.6     28.9         No   \n",
       "6       1009.6       1008.2       1.0       NaN     18.1     24.6         No   \n",
       "7       1013.4       1010.1       NaN       NaN     16.3     25.5         No   \n",
       "8       1008.9       1003.6       NaN       NaN     18.3     30.2         No   \n",
       "9       1007.0       1005.7       NaN       NaN     20.1     28.2        Yes   \n",
       "\n",
       "   RainTomorrow  \n",
       "0            No  \n",
       "1            No  \n",
       "2            No  \n",
       "3            No  \n",
       "4            No  \n",
       "5            No  \n",
       "6            No  \n",
       "7            No  \n",
       "8           Yes  \n",
       "9            No  \n",
       "\n",
       "[10 rows x 23 columns]"
      ]
     },
     "execution_count": 1,
     "metadata": {},
     "output_type": "execute_result"
    }
   ],
   "source": [
    "import pandas as pd\n",
    "\n",
    "\n",
    "data = pd.read_csv('./data/weatherAUS.csv')\n",
    "data.head(10)"
   ]
  },
  {
   "cell_type": "markdown",
   "id": "52dd14b1",
   "metadata": {},
   "source": [
    "Посмотрим какие типы данных есть в нашем датасете:"
   ]
  },
  {
   "cell_type": "code",
   "execution_count": 2,
   "id": "9295a346",
   "metadata": {},
   "outputs": [
    {
     "name": "stdout",
     "output_type": "stream",
     "text": [
      "<class 'pandas.core.frame.DataFrame'>\n",
      "RangeIndex: 145460 entries, 0 to 145459\n",
      "Data columns (total 23 columns):\n",
      " #   Column         Non-Null Count   Dtype  \n",
      "---  ------         --------------   -----  \n",
      " 0   Date           145460 non-null  object \n",
      " 1   Location       145460 non-null  object \n",
      " 2   MinTemp        143975 non-null  float64\n",
      " 3   MaxTemp        144199 non-null  float64\n",
      " 4   Rainfall       142199 non-null  float64\n",
      " 5   Evaporation    82670 non-null   float64\n",
      " 6   Sunshine       75625 non-null   float64\n",
      " 7   WindGustDir    135134 non-null  object \n",
      " 8   WindGustSpeed  135197 non-null  float64\n",
      " 9   WindDir9am     134894 non-null  object \n",
      " 10  WindDir3pm     141232 non-null  object \n",
      " 11  WindSpeed9am   143693 non-null  float64\n",
      " 12  WindSpeed3pm   142398 non-null  float64\n",
      " 13  Humidity9am    142806 non-null  float64\n",
      " 14  Humidity3pm    140953 non-null  float64\n",
      " 15  Pressure9am    130395 non-null  float64\n",
      " 16  Pressure3pm    130432 non-null  float64\n",
      " 17  Cloud9am       89572 non-null   float64\n",
      " 18  Cloud3pm       86102 non-null   float64\n",
      " 19  Temp9am        143693 non-null  float64\n",
      " 20  Temp3pm        141851 non-null  float64\n",
      " 21  RainToday      142199 non-null  object \n",
      " 22  RainTomorrow   142193 non-null  object \n",
      "dtypes: float64(16), object(7)\n",
      "memory usage: 25.5+ MB\n"
     ]
    }
   ],
   "source": [
    "data.info()"
   ]
  },
  {
   "cell_type": "markdown",
   "id": "f9d997da",
   "metadata": {},
   "source": [
    "Посмотрим долю пропусков:"
   ]
  },
  {
   "cell_type": "code",
   "execution_count": 3,
   "id": "5de1ca00",
   "metadata": {},
   "outputs": [
    {
     "data": {
      "text/plain": [
       "Date             0.000000\n",
       "Location         0.000000\n",
       "MinTemp          0.010209\n",
       "MaxTemp          0.008669\n",
       "Rainfall         0.022419\n",
       "Evaporation      0.431665\n",
       "Sunshine         0.480098\n",
       "WindGustDir      0.070989\n",
       "WindGustSpeed    0.070555\n",
       "WindDir9am       0.072639\n",
       "WindDir3pm       0.029066\n",
       "WindSpeed9am     0.012148\n",
       "WindSpeed3pm     0.021050\n",
       "Humidity9am      0.018246\n",
       "Humidity3pm      0.030984\n",
       "Pressure9am      0.103568\n",
       "Pressure3pm      0.103314\n",
       "Cloud9am         0.384216\n",
       "Cloud3pm         0.408071\n",
       "Temp9am          0.012148\n",
       "Temp3pm          0.024811\n",
       "RainToday        0.022419\n",
       "RainTomorrow     0.022460\n",
       "dtype: float64"
      ]
     },
     "execution_count": 3,
     "metadata": {},
     "output_type": "execute_result"
    }
   ],
   "source": [
    "data.isna().mean(axis=0)"
   ]
  },
  {
   "cell_type": "markdown",
   "id": "d98b67ee",
   "metadata": {},
   "source": [
    "Для простоты, избавимся от объектов, целевой признак в которых пропущен"
   ]
  },
  {
   "cell_type": "code",
   "execution_count": 4,
   "id": "072a635a",
   "metadata": {},
   "outputs": [],
   "source": [
    "data.dropna(subset=['RainTomorrow'], inplace=True)"
   ]
  },
  {
   "cell_type": "markdown",
   "id": "cb2bf059",
   "metadata": {},
   "source": [
    "Удалим поле с датой, так как не планируем им пользоваться"
   ]
  },
  {
   "cell_type": "code",
   "execution_count": 5,
   "id": "a79fb136",
   "metadata": {},
   "outputs": [],
   "source": [
    "data.drop(columns=['Date'], inplace=True)"
   ]
  },
  {
   "cell_type": "markdown",
   "id": "28bd5ecd",
   "metadata": {},
   "source": [
    "Выделим отдельно категориальные и числовые признаки"
   ]
  },
  {
   "cell_type": "code",
   "execution_count": 6,
   "id": "f06349e3",
   "metadata": {},
   "outputs": [],
   "source": [
    "numerical_features = list(data.columns[(data.dtypes == 'float64') | (data.dtypes == 'int64')])\n",
    "categorical_features = list(data.columns[data.dtypes == object])"
   ]
  },
  {
   "cell_type": "markdown",
   "id": "390c320b",
   "metadata": {},
   "source": [
    "Сначала посмотрим на те признаки, которые были отнесены к категориальным"
   ]
  },
  {
   "cell_type": "code",
   "execution_count": 7,
   "id": "17f9c845",
   "metadata": {},
   "outputs": [
    {
     "data": {
      "text/html": [
       "<div>\n",
       "<style scoped>\n",
       "    .dataframe tbody tr th:only-of-type {\n",
       "        vertical-align: middle;\n",
       "    }\n",
       "\n",
       "    .dataframe tbody tr th {\n",
       "        vertical-align: top;\n",
       "    }\n",
       "\n",
       "    .dataframe thead th {\n",
       "        text-align: right;\n",
       "    }\n",
       "</style>\n",
       "<table border=\"1\" class=\"dataframe\">\n",
       "  <thead>\n",
       "    <tr style=\"text-align: right;\">\n",
       "      <th></th>\n",
       "      <th>Location</th>\n",
       "      <th>WindGustDir</th>\n",
       "      <th>WindDir9am</th>\n",
       "      <th>WindDir3pm</th>\n",
       "      <th>RainToday</th>\n",
       "      <th>RainTomorrow</th>\n",
       "    </tr>\n",
       "  </thead>\n",
       "  <tbody>\n",
       "    <tr>\n",
       "      <th>0</th>\n",
       "      <td>Albury</td>\n",
       "      <td>W</td>\n",
       "      <td>W</td>\n",
       "      <td>WNW</td>\n",
       "      <td>No</td>\n",
       "      <td>No</td>\n",
       "    </tr>\n",
       "    <tr>\n",
       "      <th>1</th>\n",
       "      <td>Albury</td>\n",
       "      <td>WNW</td>\n",
       "      <td>NNW</td>\n",
       "      <td>WSW</td>\n",
       "      <td>No</td>\n",
       "      <td>No</td>\n",
       "    </tr>\n",
       "    <tr>\n",
       "      <th>2</th>\n",
       "      <td>Albury</td>\n",
       "      <td>WSW</td>\n",
       "      <td>W</td>\n",
       "      <td>WSW</td>\n",
       "      <td>No</td>\n",
       "      <td>No</td>\n",
       "    </tr>\n",
       "    <tr>\n",
       "      <th>3</th>\n",
       "      <td>Albury</td>\n",
       "      <td>NE</td>\n",
       "      <td>SE</td>\n",
       "      <td>E</td>\n",
       "      <td>No</td>\n",
       "      <td>No</td>\n",
       "    </tr>\n",
       "    <tr>\n",
       "      <th>4</th>\n",
       "      <td>Albury</td>\n",
       "      <td>W</td>\n",
       "      <td>ENE</td>\n",
       "      <td>NW</td>\n",
       "      <td>No</td>\n",
       "      <td>No</td>\n",
       "    </tr>\n",
       "  </tbody>\n",
       "</table>\n",
       "</div>"
      ],
      "text/plain": [
       "  Location WindGustDir WindDir9am WindDir3pm RainToday RainTomorrow\n",
       "0   Albury           W          W        WNW        No           No\n",
       "1   Albury         WNW        NNW        WSW        No           No\n",
       "2   Albury         WSW          W        WSW        No           No\n",
       "3   Albury          NE         SE          E        No           No\n",
       "4   Albury           W        ENE         NW        No           No"
      ]
     },
     "execution_count": 7,
     "metadata": {},
     "output_type": "execute_result"
    }
   ],
   "source": [
    "data[categorical_features].head()"
   ]
  },
  {
   "cell_type": "markdown",
   "id": "9f580527",
   "metadata": {},
   "source": [
    "Заменим значения категориальных признаков с No/Yes на 0/1"
   ]
  },
  {
   "cell_type": "code",
   "execution_count": 8,
   "id": "8384b2fc",
   "metadata": {},
   "outputs": [],
   "source": [
    "data = data.replace(['No', 'Yes'], [0, 1])"
   ]
  },
  {
   "cell_type": "markdown",
   "id": "b3ece731",
   "metadata": {},
   "source": [
    "Перенесем измененные на предыдущем шаге признаки из категориальных в числовые"
   ]
  },
  {
   "cell_type": "code",
   "execution_count": 9,
   "id": "17159373",
   "metadata": {},
   "outputs": [],
   "source": [
    "for feature in ['RainToday', 'RainTomorrow']:\n",
    "    categorical_features.remove(feature)\n",
    "    numerical_features.append(feature)"
   ]
  },
  {
   "cell_type": "markdown",
   "id": "a346b177",
   "metadata": {},
   "source": [
    "Поскольку в поле RainToday были пропуски, заполним их модальным значением"
   ]
  },
  {
   "cell_type": "code",
   "execution_count": 10,
   "id": "a5d96635",
   "metadata": {},
   "outputs": [],
   "source": [
    "data['RainToday'] = data['RainToday'].fillna(data['RainToday'].mode()[0])"
   ]
  },
  {
   "cell_type": "markdown",
   "id": "3bc2cc07",
   "metadata": {},
   "source": [
    "Посмотрим какие категоириальные признаки остались"
   ]
  },
  {
   "cell_type": "code",
   "execution_count": 11,
   "id": "78d3a82e",
   "metadata": {},
   "outputs": [
    {
     "data": {
      "text/html": [
       "<div>\n",
       "<style scoped>\n",
       "    .dataframe tbody tr th:only-of-type {\n",
       "        vertical-align: middle;\n",
       "    }\n",
       "\n",
       "    .dataframe tbody tr th {\n",
       "        vertical-align: top;\n",
       "    }\n",
       "\n",
       "    .dataframe thead th {\n",
       "        text-align: right;\n",
       "    }\n",
       "</style>\n",
       "<table border=\"1\" class=\"dataframe\">\n",
       "  <thead>\n",
       "    <tr style=\"text-align: right;\">\n",
       "      <th></th>\n",
       "      <th>Location</th>\n",
       "      <th>WindGustDir</th>\n",
       "      <th>WindDir9am</th>\n",
       "      <th>WindDir3pm</th>\n",
       "    </tr>\n",
       "  </thead>\n",
       "  <tbody>\n",
       "    <tr>\n",
       "      <th>0</th>\n",
       "      <td>Albury</td>\n",
       "      <td>W</td>\n",
       "      <td>W</td>\n",
       "      <td>WNW</td>\n",
       "    </tr>\n",
       "    <tr>\n",
       "      <th>1</th>\n",
       "      <td>Albury</td>\n",
       "      <td>WNW</td>\n",
       "      <td>NNW</td>\n",
       "      <td>WSW</td>\n",
       "    </tr>\n",
       "    <tr>\n",
       "      <th>2</th>\n",
       "      <td>Albury</td>\n",
       "      <td>WSW</td>\n",
       "      <td>W</td>\n",
       "      <td>WSW</td>\n",
       "    </tr>\n",
       "    <tr>\n",
       "      <th>3</th>\n",
       "      <td>Albury</td>\n",
       "      <td>NE</td>\n",
       "      <td>SE</td>\n",
       "      <td>E</td>\n",
       "    </tr>\n",
       "    <tr>\n",
       "      <th>4</th>\n",
       "      <td>Albury</td>\n",
       "      <td>W</td>\n",
       "      <td>ENE</td>\n",
       "      <td>NW</td>\n",
       "    </tr>\n",
       "  </tbody>\n",
       "</table>\n",
       "</div>"
      ],
      "text/plain": [
       "  Location WindGustDir WindDir9am WindDir3pm\n",
       "0   Albury           W          W        WNW\n",
       "1   Albury         WNW        NNW        WSW\n",
       "2   Albury         WSW          W        WSW\n",
       "3   Albury          NE         SE          E\n",
       "4   Albury           W        ENE         NW"
      ]
     },
     "execution_count": 11,
     "metadata": {},
     "output_type": "execute_result"
    }
   ],
   "source": [
    "data[categorical_features].head()"
   ]
  },
  {
   "cell_type": "markdown",
   "id": "cd7f42f1",
   "metadata": {},
   "source": [
    "Посмотрим количество и распределение уникальных значений оставшихся признаков:"
   ]
  },
  {
   "cell_type": "code",
   "execution_count": 12,
   "id": "e2ffde12",
   "metadata": {
    "scrolled": true
   },
   "outputs": [
    {
     "data": {
      "text/plain": [
       "Canberra            3418\n",
       "Sydney              3337\n",
       "Perth               3193\n",
       "Darwin              3192\n",
       "Hobart              3188\n",
       "Brisbane            3161\n",
       "Adelaide            3090\n",
       "Bendigo             3034\n",
       "Townsville          3033\n",
       "AliceSprings        3031\n",
       "MountGambier        3030\n",
       "Launceston          3028\n",
       "Ballarat            3028\n",
       "Albany              3016\n",
       "Albury              3011\n",
       "PerthAirport        3009\n",
       "MelbourneAirport    3009\n",
       "Mildura             3007\n",
       "SydneyAirport       3005\n",
       "Nuriootpa           3002\n",
       "Sale                3000\n",
       "Watsonia            2999\n",
       "Tuggeranong         2998\n",
       "Portland            2996\n",
       "Woomera             2990\n",
       "Cairns              2988\n",
       "Cobar               2988\n",
       "Wollongong          2983\n",
       "GoldCoast           2980\n",
       "WaggaWagga          2976\n",
       "Penrith             2964\n",
       "NorfolkIsland       2964\n",
       "SalmonGums          2955\n",
       "Newcastle           2955\n",
       "CoffsHarbour        2953\n",
       "Witchcliffe         2952\n",
       "Richmond            2951\n",
       "Dartmoor            2943\n",
       "NorahHead           2929\n",
       "BadgerysCreek       2928\n",
       "MountGinini         2907\n",
       "Moree               2854\n",
       "Walpole             2819\n",
       "PearceRAAF          2762\n",
       "Williamtown         2553\n",
       "Melbourne           2435\n",
       "Nhil                1569\n",
       "Katherine           1559\n",
       "Uluru               1521\n",
       "Name: Location, dtype: int64"
      ]
     },
     "execution_count": 12,
     "metadata": {},
     "output_type": "execute_result"
    }
   ],
   "source": [
    "data['Location'].value_counts(dropna=False)"
   ]
  },
  {
   "cell_type": "code",
   "execution_count": 66,
   "id": "f8e93968",
   "metadata": {},
   "outputs": [
    {
     "data": {
      "text/plain": [
       "W      9780\n",
       "NaN    9330\n",
       "SE     9309\n",
       "E      9071\n",
       "N      9033\n",
       "SSE    8993\n",
       "S      8949\n",
       "WSW    8901\n",
       "SW     8797\n",
       "SSW    8610\n",
       "WNW    8066\n",
       "NW     8003\n",
       "ENE    7992\n",
       "ESE    7305\n",
       "NE     7060\n",
       "NNW    6561\n",
       "NNE    6433\n",
       "Name: WindGustDir, dtype: int64"
      ]
     },
     "execution_count": 66,
     "metadata": {},
     "output_type": "execute_result"
    }
   ],
   "source": [
    "data['WindGustDir'].value_counts(dropna=False)"
   ]
  },
  {
   "cell_type": "code",
   "execution_count": 13,
   "id": "9a5c5df8",
   "metadata": {},
   "outputs": [
    {
     "data": {
      "text/plain": [
       "N      11393\n",
       "NaN    10013\n",
       "SE      9162\n",
       "E       9024\n",
       "SSE     8966\n",
       "NW      8552\n",
       "S       8493\n",
       "W       8260\n",
       "SW      8237\n",
       "NNE     7948\n",
       "NNW     7840\n",
       "ENE     7735\n",
       "ESE     7558\n",
       "NE      7527\n",
       "SSW     7448\n",
       "WNW     7194\n",
       "WSW     6843\n",
       "Name: WindDir9am, dtype: int64"
      ]
     },
     "execution_count": 13,
     "metadata": {},
     "output_type": "execute_result"
    }
   ],
   "source": [
    "data['WindDir9am'].value_counts(dropna=False)"
   ]
  },
  {
   "cell_type": "code",
   "execution_count": 67,
   "id": "7b52e122",
   "metadata": {
    "scrolled": true
   },
   "outputs": [
    {
     "data": {
      "text/plain": [
       "SE     10663\n",
       "W       9911\n",
       "S       9598\n",
       "WSW     9329\n",
       "SW      9182\n",
       "SSE     9142\n",
       "N       8667\n",
       "WNW     8656\n",
       "NW      8468\n",
       "ESE     8382\n",
       "E       8342\n",
       "NE      8164\n",
       "SSW     8010\n",
       "NNW     7733\n",
       "ENE     7724\n",
       "NNE     6444\n",
       "NaN     3778\n",
       "Name: WindDir3pm, dtype: int64"
      ]
     },
     "execution_count": 67,
     "metadata": {},
     "output_type": "execute_result"
    }
   ],
   "source": [
    "data['WindDir3pm'].value_counts(dropna=False)"
   ]
  },
  {
   "cell_type": "markdown",
   "id": "97936f42",
   "metadata": {},
   "source": [
    "Завершая предобработку категориальных признаков, закодируем их с помощью one-hot-encoding"
   ]
  },
  {
   "cell_type": "code",
   "execution_count": 14,
   "id": "066c6b09",
   "metadata": {},
   "outputs": [
    {
     "name": "stderr",
     "output_type": "stream",
     "text": [
      "/var/folders/wb/r313lqxj0blcb_3d4p6nv5zw0000gn/T/ipykernel_1123/3654389271.py:9: DeprecationWarning: In a future version, `df.iloc[:, i] = newvals` will attempt to set the values inplace instead of always setting a new array. To retain the old behavior, use either `df[df.columns[i]] = newvals` or, if columns are non-unique, `df.isetitem(i, newvals)`\n",
      "  data.loc[:, categories] = encoder.transform(data[categorical_features]).toarray().astype(int)\n"
     ]
    }
   ],
   "source": [
    "from sklearn.preprocessing import OneHotEncoder\n",
    "\n",
    "\n",
    "encoder = OneHotEncoder()\n",
    "encoder.fit(data[categorical_features])\n",
    "categories = []\n",
    "for i, feature in enumerate(categorical_features):\n",
    "    categories.extend([f'{feature}: {value}' for value in encoder.categories_[i]])\n",
    "data.loc[:, categories] = encoder.transform(data[categorical_features]).toarray().astype(int)"
   ]
  },
  {
   "cell_type": "markdown",
   "id": "f3db8a76",
   "metadata": {},
   "source": [
    "Посчитаем итоговое суммарное количество уникальных значение закодированных категориальных признаков"
   ]
  },
  {
   "cell_type": "code",
   "execution_count": 17,
   "id": "5dc8c201",
   "metadata": {},
   "outputs": [
    {
     "data": {
      "text/plain": [
       "100"
      ]
     },
     "execution_count": 17,
     "metadata": {},
     "output_type": "execute_result"
    }
   ],
   "source": [
    "number_of_categorical = sum([data[field].nunique(dropna=False) for field in categorical_features])\n",
    "number_of_categorical"
   ]
  },
  {
   "cell_type": "markdown",
   "id": "d44e93aa",
   "metadata": {},
   "source": [
    "Посмотрим на пропуски в числовых признаках и обработаем их"
   ]
  },
  {
   "cell_type": "code",
   "execution_count": 18,
   "id": "bfebf17f",
   "metadata": {},
   "outputs": [
    {
     "data": {
      "text/plain": [
       "MinTemp          0.004480\n",
       "MaxTemp          0.002265\n",
       "Rainfall         0.009888\n",
       "Evaporation      0.427890\n",
       "Sunshine         0.476929\n",
       "WindGustSpeed    0.065193\n",
       "WindSpeed9am     0.009480\n",
       "WindSpeed3pm     0.018496\n",
       "Humidity9am      0.012476\n",
       "Humidity3pm      0.025388\n",
       "Pressure9am      0.098556\n",
       "Pressure3pm      0.098324\n",
       "Cloud9am         0.377353\n",
       "Cloud3pm         0.401525\n",
       "Temp9am          0.006358\n",
       "Temp3pm          0.019171\n",
       "RainToday        0.000000\n",
       "RainTomorrow     0.000000\n",
       "dtype: float64"
      ]
     },
     "execution_count": 18,
     "metadata": {},
     "output_type": "execute_result"
    }
   ],
   "source": [
    "data[numerical_features].isna().mean(axis=0)"
   ]
  },
  {
   "cell_type": "code",
   "execution_count": 19,
   "id": "028f2b02",
   "metadata": {},
   "outputs": [],
   "source": [
    "data[numerical_features] = data[numerical_features].fillna(data[numerical_features].mean(axis=0))"
   ]
  },
  {
   "cell_type": "markdown",
   "id": "acab4e7c",
   "metadata": {},
   "source": [
    "## Обучение модели"
   ]
  },
  {
   "cell_type": "markdown",
   "id": "16848937",
   "metadata": {},
   "source": [
    "Разделим данные на обучающие и тестовые"
   ]
  },
  {
   "cell_type": "code",
   "execution_count": 20,
   "id": "cc5a1a54",
   "metadata": {},
   "outputs": [],
   "source": [
    "from sklearn.model_selection import train_test_split\n",
    "\n",
    "\n",
    "features = numerical_features + categories\n",
    "features.remove('RainTomorrow')\n",
    "X = data[features]\n",
    "y = data['RainTomorrow']\n",
    "X_train, X_test, y_train, y_test = train_test_split(X, y, test_size=0.3, random_state=24, stratify=y)"
   ]
  },
  {
   "cell_type": "markdown",
   "id": "24832409",
   "metadata": {},
   "source": [
    "Инициализируем и обучим нашу модель"
   ]
  },
  {
   "cell_type": "code",
   "execution_count": 21,
   "id": "ca6291dd",
   "metadata": {},
   "outputs": [
    {
     "name": "stderr",
     "output_type": "stream",
     "text": [
      "[Parallel(n_jobs=4)]: Using backend ThreadingBackend with 4 concurrent workers.\n",
      "[Parallel(n_jobs=4)]: Done  42 tasks      | elapsed:    3.5s\n",
      "[Parallel(n_jobs=4)]: Done 192 tasks      | elapsed:   14.1s\n",
      "[Parallel(n_jobs=4)]: Done 442 tasks      | elapsed:   32.0s\n",
      "[Parallel(n_jobs=4)]: Done 500 out of 500 | elapsed:   36.1s finished\n"
     ]
    },
    {
     "name": "stdout",
     "output_type": "stream",
     "text": [
      "CPU times: user 2min 33s, sys: 2.81 s, total: 2min 35s\n",
      "Wall time: 49.8 s\n"
     ]
    },
    {
     "data": {
      "text/html": [
       "<style>#sk-container-id-1 {color: black;background-color: white;}#sk-container-id-1 pre{padding: 0;}#sk-container-id-1 div.sk-toggleable {background-color: white;}#sk-container-id-1 label.sk-toggleable__label {cursor: pointer;display: block;width: 100%;margin-bottom: 0;padding: 0.3em;box-sizing: border-box;text-align: center;}#sk-container-id-1 label.sk-toggleable__label-arrow:before {content: \"▸\";float: left;margin-right: 0.25em;color: #696969;}#sk-container-id-1 label.sk-toggleable__label-arrow:hover:before {color: black;}#sk-container-id-1 div.sk-estimator:hover label.sk-toggleable__label-arrow:before {color: black;}#sk-container-id-1 div.sk-toggleable__content {max-height: 0;max-width: 0;overflow: hidden;text-align: left;background-color: #f0f8ff;}#sk-container-id-1 div.sk-toggleable__content pre {margin: 0.2em;color: black;border-radius: 0.25em;background-color: #f0f8ff;}#sk-container-id-1 input.sk-toggleable__control:checked~div.sk-toggleable__content {max-height: 200px;max-width: 100%;overflow: auto;}#sk-container-id-1 input.sk-toggleable__control:checked~label.sk-toggleable__label-arrow:before {content: \"▾\";}#sk-container-id-1 div.sk-estimator input.sk-toggleable__control:checked~label.sk-toggleable__label {background-color: #d4ebff;}#sk-container-id-1 div.sk-label input.sk-toggleable__control:checked~label.sk-toggleable__label {background-color: #d4ebff;}#sk-container-id-1 input.sk-hidden--visually {border: 0;clip: rect(1px 1px 1px 1px);clip: rect(1px, 1px, 1px, 1px);height: 1px;margin: -1px;overflow: hidden;padding: 0;position: absolute;width: 1px;}#sk-container-id-1 div.sk-estimator {font-family: monospace;background-color: #f0f8ff;border: 1px dotted black;border-radius: 0.25em;box-sizing: border-box;margin-bottom: 0.5em;}#sk-container-id-1 div.sk-estimator:hover {background-color: #d4ebff;}#sk-container-id-1 div.sk-parallel-item::after {content: \"\";width: 100%;border-bottom: 1px solid gray;flex-grow: 1;}#sk-container-id-1 div.sk-label:hover label.sk-toggleable__label {background-color: #d4ebff;}#sk-container-id-1 div.sk-serial::before {content: \"\";position: absolute;border-left: 1px solid gray;box-sizing: border-box;top: 0;bottom: 0;left: 50%;z-index: 0;}#sk-container-id-1 div.sk-serial {display: flex;flex-direction: column;align-items: center;background-color: white;padding-right: 0.2em;padding-left: 0.2em;position: relative;}#sk-container-id-1 div.sk-item {position: relative;z-index: 1;}#sk-container-id-1 div.sk-parallel {display: flex;align-items: stretch;justify-content: center;background-color: white;position: relative;}#sk-container-id-1 div.sk-item::before, #sk-container-id-1 div.sk-parallel-item::before {content: \"\";position: absolute;border-left: 1px solid gray;box-sizing: border-box;top: 0;bottom: 0;left: 50%;z-index: -1;}#sk-container-id-1 div.sk-parallel-item {display: flex;flex-direction: column;z-index: 1;position: relative;background-color: white;}#sk-container-id-1 div.sk-parallel-item:first-child::after {align-self: flex-end;width: 50%;}#sk-container-id-1 div.sk-parallel-item:last-child::after {align-self: flex-start;width: 50%;}#sk-container-id-1 div.sk-parallel-item:only-child::after {width: 0;}#sk-container-id-1 div.sk-dashed-wrapped {border: 1px dashed gray;margin: 0 0.4em 0.5em 0.4em;box-sizing: border-box;padding-bottom: 0.4em;background-color: white;}#sk-container-id-1 div.sk-label label {font-family: monospace;font-weight: bold;display: inline-block;line-height: 1.2em;}#sk-container-id-1 div.sk-label-container {text-align: center;}#sk-container-id-1 div.sk-container {/* jupyter's `normalize.less` sets `[hidden] { display: none; }` but bootstrap.min.css set `[hidden] { display: none !important; }` so we also need the `!important` here to be able to override the default hidden behavior on the sphinx rendered scikit-learn.org. See: https://github.com/scikit-learn/scikit-learn/issues/21755 */display: inline-block !important;position: relative;}#sk-container-id-1 div.sk-text-repr-fallback {display: none;}</style><div id=\"sk-container-id-1\" class=\"sk-top-container\"><div class=\"sk-text-repr-fallback\"><pre>RandomForestClassifier(n_estimators=500, n_jobs=4, oob_score=True, verbose=1)</pre><b>In a Jupyter environment, please rerun this cell to show the HTML representation or trust the notebook. <br />On GitHub, the HTML representation is unable to render, please try loading this page with nbviewer.org.</b></div><div class=\"sk-container\" hidden><div class=\"sk-item\"><div class=\"sk-estimator sk-toggleable\"><input class=\"sk-toggleable__control sk-hidden--visually\" id=\"sk-estimator-id-1\" type=\"checkbox\" checked><label for=\"sk-estimator-id-1\" class=\"sk-toggleable__label sk-toggleable__label-arrow\">RandomForestClassifier</label><div class=\"sk-toggleable__content\"><pre>RandomForestClassifier(n_estimators=500, n_jobs=4, oob_score=True, verbose=1)</pre></div></div></div></div></div>"
      ],
      "text/plain": [
       "RandomForestClassifier(n_estimators=500, n_jobs=4, oob_score=True, verbose=1)"
      ]
     },
     "execution_count": 21,
     "metadata": {},
     "output_type": "execute_result"
    }
   ],
   "source": [
    "%%time\n",
    "from sklearn.ensemble import RandomForestClassifier\n",
    "\n",
    "\n",
    "model = RandomForestClassifier(n_estimators=500, n_jobs=4, verbose=1, oob_score=True)\n",
    "model.fit(X_train, y_train)"
   ]
  },
  {
   "cell_type": "markdown",
   "id": "2ef34eeb",
   "metadata": {},
   "source": [
    "Для удобства создаем функцию, которая будет возвращать метрики сразу на обучающих и тестовых данных:"
   ]
  },
  {
   "cell_type": "code",
   "execution_count": 22,
   "id": "d51b2a5e",
   "metadata": {},
   "outputs": [],
   "source": [
    "from sklearn.metrics import roc_auc_score, accuracy_score, f1_score\n",
    "\n",
    "\n",
    "def get_metrics(model):\n",
    "    results = []\n",
    "    y_pred = model.predict_proba(X_train)\n",
    "    roc_auc = roc_auc_score(y_train, y_pred[:, 1])\n",
    "    acc = accuracy_score(y_train, y_pred.argmax(axis=1))\n",
    "    f1 = f1_score(y_train, y_pred.argmax(axis=1))\n",
    "    results.append(['Train', roc_auc, acc, f1])\n",
    "    y_pred = model.predict_proba(X_test)\n",
    "    roc_auc = roc_auc_score(y_test, y_pred[:, 1])\n",
    "    acc = accuracy_score(y_test, y_pred.argmax(axis=1))\n",
    "    f1 = f1_score(y_test, y_pred.argmax(axis=1))\n",
    "    results.append(['Test', roc_auc, acc, f1])\n",
    "    return pd.DataFrame(columns=['Group', 'ROC-AUC', 'Accuracy', 'F1'], data=results)"
   ]
  },
  {
   "cell_type": "code",
   "execution_count": 23,
   "id": "05e7fa9c",
   "metadata": {},
   "outputs": [
    {
     "name": "stderr",
     "output_type": "stream",
     "text": [
      "[Parallel(n_jobs=4)]: Using backend ThreadingBackend with 4 concurrent workers.\n",
      "[Parallel(n_jobs=4)]: Done  42 tasks      | elapsed:    0.3s\n",
      "[Parallel(n_jobs=4)]: Done 192 tasks      | elapsed:    1.4s\n",
      "[Parallel(n_jobs=4)]: Done 442 tasks      | elapsed:    3.3s\n",
      "[Parallel(n_jobs=4)]: Done 500 out of 500 | elapsed:    3.8s finished\n",
      "[Parallel(n_jobs=4)]: Using backend ThreadingBackend with 4 concurrent workers.\n",
      "[Parallel(n_jobs=4)]: Done  42 tasks      | elapsed:    0.2s\n",
      "[Parallel(n_jobs=4)]: Done 192 tasks      | elapsed:    0.7s\n",
      "[Parallel(n_jobs=4)]: Done 442 tasks      | elapsed:    1.5s\n",
      "[Parallel(n_jobs=4)]: Done 500 out of 500 | elapsed:    1.7s finished\n"
     ]
    },
    {
     "data": {
      "text/html": [
       "<div>\n",
       "<style scoped>\n",
       "    .dataframe tbody tr th:only-of-type {\n",
       "        vertical-align: middle;\n",
       "    }\n",
       "\n",
       "    .dataframe tbody tr th {\n",
       "        vertical-align: top;\n",
       "    }\n",
       "\n",
       "    .dataframe thead th {\n",
       "        text-align: right;\n",
       "    }\n",
       "</style>\n",
       "<table border=\"1\" class=\"dataframe\">\n",
       "  <thead>\n",
       "    <tr style=\"text-align: right;\">\n",
       "      <th></th>\n",
       "      <th>Group</th>\n",
       "      <th>ROC-AUC</th>\n",
       "      <th>Accuracy</th>\n",
       "      <th>F1</th>\n",
       "    </tr>\n",
       "  </thead>\n",
       "  <tbody>\n",
       "    <tr>\n",
       "      <th>0</th>\n",
       "      <td>Train</td>\n",
       "      <td>0.999978</td>\n",
       "      <td>0.99996</td>\n",
       "      <td>0.99991</td>\n",
       "    </tr>\n",
       "    <tr>\n",
       "      <th>1</th>\n",
       "      <td>Test</td>\n",
       "      <td>0.886775</td>\n",
       "      <td>0.85658</td>\n",
       "      <td>0.61195</td>\n",
       "    </tr>\n",
       "  </tbody>\n",
       "</table>\n",
       "</div>"
      ],
      "text/plain": [
       "   Group   ROC-AUC  Accuracy       F1\n",
       "0  Train  0.999978   0.99996  0.99991\n",
       "1   Test  0.886775   0.85658  0.61195"
      ]
     },
     "execution_count": 23,
     "metadata": {},
     "output_type": "execute_result"
    }
   ],
   "source": [
    "get_metrics(model)"
   ]
  },
  {
   "cell_type": "markdown",
   "id": "4faf3d02",
   "metadata": {},
   "source": [
    "Посмотрим на OOB метрики"
   ]
  },
  {
   "cell_type": "code",
   "execution_count": 25,
   "id": "040efb35",
   "metadata": {},
   "outputs": [
    {
     "name": "stdout",
     "output_type": "stream",
     "text": [
      "OOB ROC-AUC: 0.8886258294637328\n"
     ]
    }
   ],
   "source": [
    "print(f'OOB ROC-AUC: {roc_auc_score(y_train, model.oob_decision_function_[:, 1])}')"
   ]
  },
  {
   "cell_type": "markdown",
   "id": "ace07b00",
   "metadata": {},
   "source": [
    "Посмотрим как меняется метрика ROC-AUC в зависимости от количества деревьев:"
   ]
  },
  {
   "cell_type": "code",
   "execution_count": 27,
   "id": "1c36817c",
   "metadata": {},
   "outputs": [
    {
     "name": "stderr",
     "output_type": "stream",
     "text": [
      "<timed exec>:1: FutureWarning: arrays to stack must be passed as a \"sequence\" type such as list or tuple. Support for non-sequence iterables such as generators is deprecated as of NumPy 1.16 and will raise an error in the future.\n",
      "<timed exec>:2: FutureWarning: arrays to stack must be passed as a \"sequence\" type such as list or tuple. Support for non-sequence iterables such as generators is deprecated as of NumPy 1.16 and will raise an error in the future.\n"
     ]
    },
    {
     "name": "stdout",
     "output_type": "stream",
     "text": [
      "CPU times: user 48.2 s, sys: 6.66 s, total: 54.9 s\n",
      "Wall time: 55.3 s\n"
     ]
    }
   ],
   "source": [
    "%%time\n",
    "pred_train = np.hstack((estimator.predict_proba(X_train.values)[:, 1].reshape((-1 , 1)) for estimator in model.estimators_))\n",
    "pred_test = np.hstack((estimator.predict_proba(X_test.values)[:, 1].reshape((-1 , 1)) for estimator in model.estimators_))"
   ]
  },
  {
   "cell_type": "code",
   "execution_count": 29,
   "id": "bd840a02",
   "metadata": {},
   "outputs": [
    {
     "name": "stdout",
     "output_type": "stream",
     "text": [
      "CPU times: user 34.2 s, sys: 269 ms, total: 34.5 s\n",
      "Wall time: 34.7 s\n"
     ]
    }
   ],
   "source": [
    "%%time\n",
    "roc_auc = {'Train': [], 'Test': []}\n",
    "for i in range(1, pred_train.shape[1]):\n",
    "    roc_auc['Train'].append(roc_auc_score(y_train, pred_train[:, :i].mean(axis=1)))\n",
    "for i in range(1, pred_train.shape[1]):\n",
    "    roc_auc['Test'].append(roc_auc_score(y_test, pred_test[:, :i].mean(axis=1)))"
   ]
  },
  {
   "cell_type": "code",
   "execution_count": 31,
   "id": "75741bbc",
   "metadata": {},
   "outputs": [
    {
     "data": {
      "image/png": "[encoded data removed]",
      "text/plain": [
       "<Figure size 1500x800 with 1 Axes>"
      ]
     },
     "metadata": {},
     "output_type": "display_data"
    }
   ],
   "source": [
    "import matplotlib.pyplot as plt\n",
    "\n",
    "\n",
    "plt.figure(figsize=(15, 8))\n",
    "plt.plot(range(1, pred_train.shape[1]), roc_auc['Train'], label='Train')\n",
    "plt.plot(range(1, pred_test.shape[1]), roc_auc['Test'], label='Test')\n",
    "plt.xticks(ticks=np.arange(0, pred_train.shape[1] + 1, 25))\n",
    "plt.title('Зависимость ROC-AUC от количества деревьев в случайном лесе')\n",
    "plt.xlabel('Number of trees in a forest')\n",
    "plt.ylabel('ROC-AUC')\n",
    "plt.legend()\n",
    "plt.show()"
   ]
  },
  {
   "cell_type": "markdown",
   "id": "85fbed42",
   "metadata": {},
   "source": [
    "Убедимся в том, что достаточно меньшее количество деревьев"
   ]
  },
  {
   "cell_type": "code",
   "execution_count": 32,
   "id": "a5de4993",
   "metadata": {},
   "outputs": [
    {
     "name": "stderr",
     "output_type": "stream",
     "text": [
      "[Parallel(n_jobs=4)]: Using backend ThreadingBackend with 4 concurrent workers.\n",
      "[Parallel(n_jobs=4)]: Done  42 tasks      | elapsed:    3.3s\n",
      "[Parallel(n_jobs=4)]: Done 125 out of 125 | elapsed:    9.2s finished\n"
     ]
    },
    {
     "data": {
      "text/html": [
       "<style>#sk-container-id-2 {color: black;background-color: white;}#sk-container-id-2 pre{padding: 0;}#sk-container-id-2 div.sk-toggleable {background-color: white;}#sk-container-id-2 label.sk-toggleable__label {cursor: pointer;display: block;width: 100%;margin-bottom: 0;padding: 0.3em;box-sizing: border-box;text-align: center;}#sk-container-id-2 label.sk-toggleable__label-arrow:before {content: \"▸\";float: left;margin-right: 0.25em;color: #696969;}#sk-container-id-2 label.sk-toggleable__label-arrow:hover:before {color: black;}#sk-container-id-2 div.sk-estimator:hover label.sk-toggleable__label-arrow:before {color: black;}#sk-container-id-2 div.sk-toggleable__content {max-height: 0;max-width: 0;overflow: hidden;text-align: left;background-color: #f0f8ff;}#sk-container-id-2 div.sk-toggleable__content pre {margin: 0.2em;color: black;border-radius: 0.25em;background-color: #f0f8ff;}#sk-container-id-2 input.sk-toggleable__control:checked~div.sk-toggleable__content {max-height: 200px;max-width: 100%;overflow: auto;}#sk-container-id-2 input.sk-toggleable__control:checked~label.sk-toggleable__label-arrow:before {content: \"▾\";}#sk-container-id-2 div.sk-estimator input.sk-toggleable__control:checked~label.sk-toggleable__label {background-color: #d4ebff;}#sk-container-id-2 div.sk-label input.sk-toggleable__control:checked~label.sk-toggleable__label {background-color: #d4ebff;}#sk-container-id-2 input.sk-hidden--visually {border: 0;clip: rect(1px 1px 1px 1px);clip: rect(1px, 1px, 1px, 1px);height: 1px;margin: -1px;overflow: hidden;padding: 0;position: absolute;width: 1px;}#sk-container-id-2 div.sk-estimator {font-family: monospace;background-color: #f0f8ff;border: 1px dotted black;border-radius: 0.25em;box-sizing: border-box;margin-bottom: 0.5em;}#sk-container-id-2 div.sk-estimator:hover {background-color: #d4ebff;}#sk-container-id-2 div.sk-parallel-item::after {content: \"\";width: 100%;border-bottom: 1px solid gray;flex-grow: 1;}#sk-container-id-2 div.sk-label:hover label.sk-toggleable__label {background-color: #d4ebff;}#sk-container-id-2 div.sk-serial::before {content: \"\";position: absolute;border-left: 1px solid gray;box-sizing: border-box;top: 0;bottom: 0;left: 50%;z-index: 0;}#sk-container-id-2 div.sk-serial {display: flex;flex-direction: column;align-items: center;background-color: white;padding-right: 0.2em;padding-left: 0.2em;position: relative;}#sk-container-id-2 div.sk-item {position: relative;z-index: 1;}#sk-container-id-2 div.sk-parallel {display: flex;align-items: stretch;justify-content: center;background-color: white;position: relative;}#sk-container-id-2 div.sk-item::before, #sk-container-id-2 div.sk-parallel-item::before {content: \"\";position: absolute;border-left: 1px solid gray;box-sizing: border-box;top: 0;bottom: 0;left: 50%;z-index: -1;}#sk-container-id-2 div.sk-parallel-item {display: flex;flex-direction: column;z-index: 1;position: relative;background-color: white;}#sk-container-id-2 div.sk-parallel-item:first-child::after {align-self: flex-end;width: 50%;}#sk-container-id-2 div.sk-parallel-item:last-child::after {align-self: flex-start;width: 50%;}#sk-container-id-2 div.sk-parallel-item:only-child::after {width: 0;}#sk-container-id-2 div.sk-dashed-wrapped {border: 1px dashed gray;margin: 0 0.4em 0.5em 0.4em;box-sizing: border-box;padding-bottom: 0.4em;background-color: white;}#sk-container-id-2 div.sk-label label {font-family: monospace;font-weight: bold;display: inline-block;line-height: 1.2em;}#sk-container-id-2 div.sk-label-container {text-align: center;}#sk-container-id-2 div.sk-container {/* jupyter's `normalize.less` sets `[hidden] { display: none; }` but bootstrap.min.css set `[hidden] { display: none !important; }` so we also need the `!important` here to be able to override the default hidden behavior on the sphinx rendered scikit-learn.org. See: https://github.com/scikit-learn/scikit-learn/issues/21755 */display: inline-block !important;position: relative;}#sk-container-id-2 div.sk-text-repr-fallback {display: none;}</style><div id=\"sk-container-id-2\" class=\"sk-top-container\"><div class=\"sk-text-repr-fallback\"><pre>RandomForestClassifier(n_estimators=125, n_jobs=4, oob_score=True, verbose=1)</pre><b>In a Jupyter environment, please rerun this cell to show the HTML representation or trust the notebook. <br />On GitHub, the HTML representation is unable to render, please try loading this page with nbviewer.org.</b></div><div class=\"sk-container\" hidden><div class=\"sk-item\"><div class=\"sk-estimator sk-toggleable\"><input class=\"sk-toggleable__control sk-hidden--visually\" id=\"sk-estimator-id-2\" type=\"checkbox\" checked><label for=\"sk-estimator-id-2\" class=\"sk-toggleable__label sk-toggleable__label-arrow\">RandomForestClassifier</label><div class=\"sk-toggleable__content\"><pre>RandomForestClassifier(n_estimators=125, n_jobs=4, oob_score=True, verbose=1)</pre></div></div></div></div></div>"
      ],
      "text/plain": [
       "RandomForestClassifier(n_estimators=125, n_jobs=4, oob_score=True, verbose=1)"
      ]
     },
     "execution_count": 32,
     "metadata": {},
     "output_type": "execute_result"
    }
   ],
   "source": [
    "model = RandomForestClassifier(n_estimators=125, n_jobs=4, verbose=1, oob_score=True)\n",
    "model.fit(X_train, y_train)"
   ]
  },
  {
   "cell_type": "code",
   "execution_count": 33,
   "id": "c344f2c4",
   "metadata": {},
   "outputs": [
    {
     "name": "stderr",
     "output_type": "stream",
     "text": [
      "[Parallel(n_jobs=4)]: Using backend ThreadingBackend with 4 concurrent workers.\n",
      "[Parallel(n_jobs=4)]: Done  42 tasks      | elapsed:    0.4s\n",
      "[Parallel(n_jobs=4)]: Done 125 out of 125 | elapsed:    1.0s finished\n",
      "[Parallel(n_jobs=4)]: Using backend ThreadingBackend with 4 concurrent workers.\n",
      "[Parallel(n_jobs=4)]: Done  42 tasks      | elapsed:    0.2s\n",
      "[Parallel(n_jobs=4)]: Done 125 out of 125 | elapsed:    0.4s finished\n"
     ]
    },
    {
     "data": {
      "text/html": [
       "<div>\n",
       "<style scoped>\n",
       "    .dataframe tbody tr th:only-of-type {\n",
       "        vertical-align: middle;\n",
       "    }\n",
       "\n",
       "    .dataframe tbody tr th {\n",
       "        vertical-align: top;\n",
       "    }\n",
       "\n",
       "    .dataframe thead th {\n",
       "        text-align: right;\n",
       "    }\n",
       "</style>\n",
       "<table border=\"1\" class=\"dataframe\">\n",
       "  <thead>\n",
       "    <tr style=\"text-align: right;\">\n",
       "      <th></th>\n",
       "      <th>Group</th>\n",
       "      <th>ROC-AUC</th>\n",
       "      <th>Accuracy</th>\n",
       "      <th>F1</th>\n",
       "    </tr>\n",
       "  </thead>\n",
       "  <tbody>\n",
       "    <tr>\n",
       "      <th>0</th>\n",
       "      <td>Train</td>\n",
       "      <td>0.999978</td>\n",
       "      <td>0.999960</td>\n",
       "      <td>0.999910</td>\n",
       "    </tr>\n",
       "    <tr>\n",
       "      <th>1</th>\n",
       "      <td>Test</td>\n",
       "      <td>0.883194</td>\n",
       "      <td>0.855572</td>\n",
       "      <td>0.611318</td>\n",
       "    </tr>\n",
       "  </tbody>\n",
       "</table>\n",
       "</div>"
      ],
      "text/plain": [
       "   Group   ROC-AUC  Accuracy        F1\n",
       "0  Train  0.999978  0.999960  0.999910\n",
       "1   Test  0.883194  0.855572  0.611318"
      ]
     },
     "execution_count": 33,
     "metadata": {},
     "output_type": "execute_result"
    }
   ],
   "source": [
    "get_metrics(model)"
   ]
  },
  {
   "cell_type": "markdown",
   "id": "1d2b9a88",
   "metadata": {},
   "source": [
    "## Бонусы случайного леса"
   ]
  },
  {
   "cell_type": "markdown",
   "id": "e98b95db",
   "metadata": {},
   "source": [
    "Выведем признаки с наибольшей важностью"
   ]
  },
  {
   "cell_type": "code",
   "execution_count": 34,
   "id": "364f4a4d",
   "metadata": {},
   "outputs": [
    {
     "data": {
      "text/html": [
       "<div>\n",
       "<style scoped>\n",
       "    .dataframe tbody tr th:only-of-type {\n",
       "        vertical-align: middle;\n",
       "    }\n",
       "\n",
       "    .dataframe tbody tr th {\n",
       "        vertical-align: top;\n",
       "    }\n",
       "\n",
       "    .dataframe thead th {\n",
       "        text-align: right;\n",
       "    }\n",
       "</style>\n",
       "<table border=\"1\" class=\"dataframe\">\n",
       "  <thead>\n",
       "    <tr style=\"text-align: right;\">\n",
       "      <th></th>\n",
       "      <th>feature</th>\n",
       "      <th>importance</th>\n",
       "    </tr>\n",
       "  </thead>\n",
       "  <tbody>\n",
       "    <tr>\n",
       "      <th>9</th>\n",
       "      <td>Humidity3pm</td>\n",
       "      <td>0.136563</td>\n",
       "    </tr>\n",
       "    <tr>\n",
       "      <th>2</th>\n",
       "      <td>Rainfall</td>\n",
       "      <td>0.055149</td>\n",
       "    </tr>\n",
       "    <tr>\n",
       "      <th>11</th>\n",
       "      <td>Pressure3pm</td>\n",
       "      <td>0.054880</td>\n",
       "    </tr>\n",
       "    <tr>\n",
       "      <th>8</th>\n",
       "      <td>Humidity9am</td>\n",
       "      <td>0.051969</td>\n",
       "    </tr>\n",
       "    <tr>\n",
       "      <th>5</th>\n",
       "      <td>WindGustSpeed</td>\n",
       "      <td>0.050012</td>\n",
       "    </tr>\n",
       "    <tr>\n",
       "      <th>10</th>\n",
       "      <td>Pressure9am</td>\n",
       "      <td>0.049686</td>\n",
       "    </tr>\n",
       "    <tr>\n",
       "      <th>4</th>\n",
       "      <td>Sunshine</td>\n",
       "      <td>0.048261</td>\n",
       "    </tr>\n",
       "    <tr>\n",
       "      <th>15</th>\n",
       "      <td>Temp3pm</td>\n",
       "      <td>0.046380</td>\n",
       "    </tr>\n",
       "    <tr>\n",
       "      <th>1</th>\n",
       "      <td>MaxTemp</td>\n",
       "      <td>0.042709</td>\n",
       "    </tr>\n",
       "    <tr>\n",
       "      <th>0</th>\n",
       "      <td>MinTemp</td>\n",
       "      <td>0.042610</td>\n",
       "    </tr>\n",
       "  </tbody>\n",
       "</table>\n",
       "</div>"
      ],
      "text/plain": [
       "          feature  importance\n",
       "9     Humidity3pm    0.136563\n",
       "2        Rainfall    0.055149\n",
       "11    Pressure3pm    0.054880\n",
       "8     Humidity9am    0.051969\n",
       "5   WindGustSpeed    0.050012\n",
       "10    Pressure9am    0.049686\n",
       "4        Sunshine    0.048261\n",
       "15        Temp3pm    0.046380\n",
       "1         MaxTemp    0.042709\n",
       "0         MinTemp    0.042610"
      ]
     },
     "execution_count": 34,
     "metadata": {},
     "output_type": "execute_result"
    }
   ],
   "source": [
    "pd.DataFrame(data={'feature': features, \n",
    "                   'importance': model.feature_importances_}).sort_values('importance', ascending=False).iloc[:10]"
   ]
  },
  {
   "cell_type": "markdown",
   "id": "9bfad479",
   "metadata": {},
   "source": [
    "Посмотрим как меняютя предсказания нашей модели в зависимости от значений признаков"
   ]
  },
  {
   "cell_type": "code",
   "execution_count": 36,
   "id": "f25f7760",
   "metadata": {},
   "outputs": [
    {
     "data": {
      "text/html": [
       "<div>\n",
       "<style scoped>\n",
       "    .dataframe tbody tr th:only-of-type {\n",
       "        vertical-align: middle;\n",
       "    }\n",
       "\n",
       "    .dataframe tbody tr th {\n",
       "        vertical-align: top;\n",
       "    }\n",
       "\n",
       "    .dataframe thead th {\n",
       "        text-align: right;\n",
       "    }\n",
       "</style>\n",
       "<table border=\"1\" class=\"dataframe\">\n",
       "  <thead>\n",
       "    <tr style=\"text-align: right;\">\n",
       "      <th></th>\n",
       "      <th>MinTemp</th>\n",
       "      <th>MaxTemp</th>\n",
       "      <th>Rainfall</th>\n",
       "      <th>Evaporation</th>\n",
       "      <th>Sunshine</th>\n",
       "      <th>WindGustSpeed</th>\n",
       "      <th>WindSpeed9am</th>\n",
       "      <th>WindSpeed3pm</th>\n",
       "      <th>Humidity9am</th>\n",
       "      <th>Humidity3pm</th>\n",
       "      <th>...</th>\n",
       "      <th>WindDir3pm: NW</th>\n",
       "      <th>WindDir3pm: S</th>\n",
       "      <th>WindDir3pm: SE</th>\n",
       "      <th>WindDir3pm: SSE</th>\n",
       "      <th>WindDir3pm: SSW</th>\n",
       "      <th>WindDir3pm: SW</th>\n",
       "      <th>WindDir3pm: W</th>\n",
       "      <th>WindDir3pm: WNW</th>\n",
       "      <th>WindDir3pm: WSW</th>\n",
       "      <th>WindDir3pm: nan</th>\n",
       "    </tr>\n",
       "  </thead>\n",
       "  <tbody>\n",
       "    <tr>\n",
       "      <th>80851</th>\n",
       "      <td>15.0</td>\n",
       "      <td>29.7</td>\n",
       "      <td>0.0</td>\n",
       "      <td>10.6</td>\n",
       "      <td>0.4</td>\n",
       "      <td>48.0</td>\n",
       "      <td>17.0</td>\n",
       "      <td>13.0</td>\n",
       "      <td>26.0</td>\n",
       "      <td>39.0</td>\n",
       "      <td>...</td>\n",
       "      <td>0</td>\n",
       "      <td>0</td>\n",
       "      <td>0</td>\n",
       "      <td>0</td>\n",
       "      <td>0</td>\n",
       "      <td>0</td>\n",
       "      <td>0</td>\n",
       "      <td>0</td>\n",
       "      <td>0</td>\n",
       "      <td>0</td>\n",
       "    </tr>\n",
       "  </tbody>\n",
       "</table>\n",
       "<p>1 rows × 117 columns</p>\n",
       "</div>"
      ],
      "text/plain": [
       "       MinTemp  MaxTemp  Rainfall  Evaporation  Sunshine  WindGustSpeed  \\\n",
       "80851     15.0     29.7       0.0         10.6       0.4           48.0   \n",
       "\n",
       "       WindSpeed9am  WindSpeed3pm  Humidity9am  Humidity3pm  ...  \\\n",
       "80851          17.0          13.0         26.0         39.0  ...   \n",
       "\n",
       "       WindDir3pm: NW  WindDir3pm: S  WindDir3pm: SE  WindDir3pm: SSE  \\\n",
       "80851               0              0               0                0   \n",
       "\n",
       "       WindDir3pm: SSW  WindDir3pm: SW  WindDir3pm: W  WindDir3pm: WNW  \\\n",
       "80851                0               0              0                0   \n",
       "\n",
       "       WindDir3pm: WSW  WindDir3pm: nan  \n",
       "80851                0                0  \n",
       "\n",
       "[1 rows x 117 columns]"
      ]
     },
     "execution_count": 36,
     "metadata": {},
     "output_type": "execute_result"
    }
   ],
   "source": [
    "obj = X_test.iloc[:1].copy()\n",
    "obj"
   ]
  },
  {
   "cell_type": "code",
   "execution_count": 37,
   "id": "0b8f6461",
   "metadata": {
    "scrolled": true
   },
   "outputs": [
    {
     "name": "stderr",
     "output_type": "stream",
     "text": [
      "[Parallel(n_jobs=4)]: Using backend ThreadingBackend with 4 concurrent workers.\n",
      "[Parallel(n_jobs=4)]: Done  42 tasks      | elapsed:    0.0s\n",
      "[Parallel(n_jobs=4)]: Done 125 out of 125 | elapsed:    0.0s finished\n"
     ]
    },
    {
     "data": {
      "text/plain": [
       "array([[0.736, 0.264]])"
      ]
     },
     "execution_count": 37,
     "metadata": {},
     "output_type": "execute_result"
    }
   ],
   "source": [
    "model.predict_proba(obj)"
   ]
  },
  {
   "cell_type": "code",
   "execution_count": 38,
   "id": "b91cfe30",
   "metadata": {},
   "outputs": [
    {
     "data": {
      "text/html": [
       "<div>\n",
       "<style scoped>\n",
       "    .dataframe tbody tr th:only-of-type {\n",
       "        vertical-align: middle;\n",
       "    }\n",
       "\n",
       "    .dataframe tbody tr th {\n",
       "        vertical-align: top;\n",
       "    }\n",
       "\n",
       "    .dataframe thead th {\n",
       "        text-align: right;\n",
       "    }\n",
       "</style>\n",
       "<table border=\"1\" class=\"dataframe\">\n",
       "  <thead>\n",
       "    <tr style=\"text-align: right;\">\n",
       "      <th></th>\n",
       "      <th>MinTemp</th>\n",
       "      <th>MaxTemp</th>\n",
       "      <th>Rainfall</th>\n",
       "      <th>Evaporation</th>\n",
       "      <th>Sunshine</th>\n",
       "      <th>WindGustSpeed</th>\n",
       "      <th>WindSpeed9am</th>\n",
       "      <th>WindSpeed3pm</th>\n",
       "      <th>Humidity9am</th>\n",
       "      <th>Humidity3pm</th>\n",
       "      <th>...</th>\n",
       "      <th>WindDir3pm: NW</th>\n",
       "      <th>WindDir3pm: S</th>\n",
       "      <th>WindDir3pm: SE</th>\n",
       "      <th>WindDir3pm: SSE</th>\n",
       "      <th>WindDir3pm: SSW</th>\n",
       "      <th>WindDir3pm: SW</th>\n",
       "      <th>WindDir3pm: W</th>\n",
       "      <th>WindDir3pm: WNW</th>\n",
       "      <th>WindDir3pm: WSW</th>\n",
       "      <th>WindDir3pm: nan</th>\n",
       "    </tr>\n",
       "  </thead>\n",
       "  <tbody>\n",
       "    <tr>\n",
       "      <th>80851</th>\n",
       "      <td>15.0</td>\n",
       "      <td>29.7</td>\n",
       "      <td>0.0</td>\n",
       "      <td>10.6</td>\n",
       "      <td>0.4</td>\n",
       "      <td>48.0</td>\n",
       "      <td>17.0</td>\n",
       "      <td>13.0</td>\n",
       "      <td>26.0</td>\n",
       "      <td>90.0</td>\n",
       "      <td>...</td>\n",
       "      <td>0</td>\n",
       "      <td>0</td>\n",
       "      <td>0</td>\n",
       "      <td>0</td>\n",
       "      <td>0</td>\n",
       "      <td>0</td>\n",
       "      <td>0</td>\n",
       "      <td>0</td>\n",
       "      <td>0</td>\n",
       "      <td>0</td>\n",
       "    </tr>\n",
       "  </tbody>\n",
       "</table>\n",
       "<p>1 rows × 117 columns</p>\n",
       "</div>"
      ],
      "text/plain": [
       "       MinTemp  MaxTemp  Rainfall  Evaporation  Sunshine  WindGustSpeed  \\\n",
       "80851     15.0     29.7       0.0         10.6       0.4           48.0   \n",
       "\n",
       "       WindSpeed9am  WindSpeed3pm  Humidity9am  Humidity3pm  ...  \\\n",
       "80851          17.0          13.0         26.0         90.0  ...   \n",
       "\n",
       "       WindDir3pm: NW  WindDir3pm: S  WindDir3pm: SE  WindDir3pm: SSE  \\\n",
       "80851               0              0               0                0   \n",
       "\n",
       "       WindDir3pm: SSW  WindDir3pm: SW  WindDir3pm: W  WindDir3pm: WNW  \\\n",
       "80851                0               0              0                0   \n",
       "\n",
       "       WindDir3pm: WSW  WindDir3pm: nan  \n",
       "80851                0                0  \n",
       "\n",
       "[1 rows x 117 columns]"
      ]
     },
     "execution_count": 38,
     "metadata": {},
     "output_type": "execute_result"
    }
   ],
   "source": [
    "obj.loc[:, ['Humidity3pm']] = 90.\n",
    "obj"
   ]
  },
  {
   "cell_type": "code",
   "execution_count": 39,
   "id": "bee78180",
   "metadata": {},
   "outputs": [
    {
     "name": "stderr",
     "output_type": "stream",
     "text": [
      "[Parallel(n_jobs=4)]: Using backend ThreadingBackend with 4 concurrent workers.\n",
      "[Parallel(n_jobs=4)]: Done  42 tasks      | elapsed:    0.0s\n",
      "[Parallel(n_jobs=4)]: Done 125 out of 125 | elapsed:    0.0s finished\n"
     ]
    },
    {
     "data": {
      "text/plain": [
       "array([[0.328, 0.672]])"
      ]
     },
     "execution_count": 39,
     "metadata": {},
     "output_type": "execute_result"
    }
   ],
   "source": [
    "model.predict_proba(obj)"
   ]
  },
  {
   "cell_type": "code",
   "execution_count": null,
   "id": "6ff40b05",
   "metadata": {},
   "outputs": [],
   "source": []
  }
 ],
 "metadata": {
  "kernelspec": {
   "display_name": "Python 3 (ipykernel)",
   "language": "python",
   "name": "python3"
  },
  "language_info": {
   "codemirror_mode": {
    "name": "ipython",
    "version": 3
   },
   "file_extension": ".py",
   "mimetype": "text/x-python",
   "name": "python",
   "nbconvert_exporter": "python",
   "pygments_lexer": "ipython3",
   "version": "3.9.16"
  },
  "varInspector": {
   "cols": {
    "lenName": 16,
    "lenType": 16,
    "lenVar": 40
   },
   "kernels_config": {
    "python": {
     "delete_cmd_postfix": "",
     "delete_cmd_prefix": "del ",
     "library": "var_list.py",
     "varRefreshCmd": "print(var_dic_list())"
    },
    "r": {
     "delete_cmd_postfix": ") ",
     "delete_cmd_prefix": "rm(",
     "library": "var_list.r",
     "varRefreshCmd": "cat(var_dic_list()) "
    }
   },
   "types_to_exclude": [
    "module",
    "function",
    "builtin_function_or_method",
    "instance",
    "_Feature"
   ],
   "window_display": false
  }
 },
 "nbformat": 4,
 "nbformat_minor": 5
}
